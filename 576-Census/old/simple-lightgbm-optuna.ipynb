{
 "cells": [
  {
   "cell_type": "code",
   "execution_count": 1,
   "metadata": {},
   "outputs": [],
   "source": [
    "import pandas as pd\n",
    "import numpy as np"
   ]
  },
  {
   "cell_type": "code",
   "execution_count": 2,
   "metadata": {},
   "outputs": [],
   "source": [
    "train = pd.read_csv('train.csv')\n",
    "train.rename(columns={'index': 'id'}, inplace=True)\n",
    "test = pd.read_csv('test.csv')\n",
    "sample_submit = pd.read_csv('sample_submit.csv', names=['id', 'Y'])"
   ]
  },
  {
   "cell_type": "code",
   "execution_count": 3,
   "metadata": {},
   "outputs": [
    {
     "data": {
      "text/html": [
       "<div>\n",
       "<style scoped>\n",
       "    .dataframe tbody tr th:only-of-type {\n",
       "        vertical-align: middle;\n",
       "    }\n",
       "\n",
       "    .dataframe tbody tr th {\n",
       "        vertical-align: top;\n",
       "    }\n",
       "\n",
       "    .dataframe thead th {\n",
       "        text-align: right;\n",
       "    }\n",
       "</style>\n",
       "<table border=\"1\" class=\"dataframe\">\n",
       "  <thead>\n",
       "    <tr style=\"text-align: right;\">\n",
       "      <th></th>\n",
       "      <th>id</th>\n",
       "      <th>age</th>\n",
       "      <th>workclass</th>\n",
       "      <th>fnlwgt</th>\n",
       "      <th>education</th>\n",
       "      <th>education-num</th>\n",
       "      <th>marital-status</th>\n",
       "      <th>occupation</th>\n",
       "      <th>relationship</th>\n",
       "      <th>race</th>\n",
       "      <th>sex</th>\n",
       "      <th>native-country</th>\n",
       "      <th>Y</th>\n",
       "    </tr>\n",
       "  </thead>\n",
       "  <tbody>\n",
       "    <tr>\n",
       "      <th>0</th>\n",
       "      <td>0</td>\n",
       "      <td>22</td>\n",
       "      <td>0</td>\n",
       "      <td>132618</td>\n",
       "      <td>0</td>\n",
       "      <td>12</td>\n",
       "      <td>0</td>\n",
       "      <td>0</td>\n",
       "      <td>0</td>\n",
       "      <td>0</td>\n",
       "      <td>0</td>\n",
       "      <td>0</td>\n",
       "      <td>0.0</td>\n",
       "    </tr>\n",
       "    <tr>\n",
       "      <th>1</th>\n",
       "      <td>1</td>\n",
       "      <td>22</td>\n",
       "      <td>0</td>\n",
       "      <td>132655</td>\n",
       "      <td>1</td>\n",
       "      <td>9</td>\n",
       "      <td>1</td>\n",
       "      <td>1</td>\n",
       "      <td>1</td>\n",
       "      <td>0</td>\n",
       "      <td>1</td>\n",
       "      <td>1</td>\n",
       "      <td>1.0</td>\n",
       "    </tr>\n",
       "    <tr>\n",
       "      <th>2</th>\n",
       "      <td>2</td>\n",
       "      <td>23</td>\n",
       "      <td>1</td>\n",
       "      <td>132674</td>\n",
       "      <td>2</td>\n",
       "      <td>8</td>\n",
       "      <td>0</td>\n",
       "      <td>2</td>\n",
       "      <td>2</td>\n",
       "      <td>0</td>\n",
       "      <td>0</td>\n",
       "      <td>0</td>\n",
       "      <td>0.0</td>\n",
       "    </tr>\n",
       "    <tr>\n",
       "      <th>3</th>\n",
       "      <td>3</td>\n",
       "      <td>36</td>\n",
       "      <td>0</td>\n",
       "      <td>132642</td>\n",
       "      <td>1</td>\n",
       "      <td>13</td>\n",
       "      <td>1</td>\n",
       "      <td>3</td>\n",
       "      <td>1</td>\n",
       "      <td>0</td>\n",
       "      <td>1</td>\n",
       "      <td>0</td>\n",
       "      <td>1.0</td>\n",
       "    </tr>\n",
       "    <tr>\n",
       "      <th>4</th>\n",
       "      <td>4</td>\n",
       "      <td>49</td>\n",
       "      <td>0</td>\n",
       "      <td>132646</td>\n",
       "      <td>3</td>\n",
       "      <td>13</td>\n",
       "      <td>1</td>\n",
       "      <td>4</td>\n",
       "      <td>1</td>\n",
       "      <td>0</td>\n",
       "      <td>1</td>\n",
       "      <td>0</td>\n",
       "      <td>1.0</td>\n",
       "    </tr>\n",
       "    <tr>\n",
       "      <th>...</th>\n",
       "      <td>...</td>\n",
       "      <td>...</td>\n",
       "      <td>...</td>\n",
       "      <td>...</td>\n",
       "      <td>...</td>\n",
       "      <td>...</td>\n",
       "      <td>...</td>\n",
       "      <td>...</td>\n",
       "      <td>...</td>\n",
       "      <td>...</td>\n",
       "      <td>...</td>\n",
       "      <td>...</td>\n",
       "      <td>...</td>\n",
       "    </tr>\n",
       "    <tr>\n",
       "      <th>6795</th>\n",
       "      <td>16995</td>\n",
       "      <td>31</td>\n",
       "      <td>0</td>\n",
       "      <td>132530</td>\n",
       "      <td>0</td>\n",
       "      <td>9</td>\n",
       "      <td>2</td>\n",
       "      <td>8</td>\n",
       "      <td>2</td>\n",
       "      <td>0</td>\n",
       "      <td>0</td>\n",
       "      <td>0</td>\n",
       "      <td>NaN</td>\n",
       "    </tr>\n",
       "    <tr>\n",
       "      <th>6796</th>\n",
       "      <td>16996</td>\n",
       "      <td>31</td>\n",
       "      <td>0</td>\n",
       "      <td>132634</td>\n",
       "      <td>1</td>\n",
       "      <td>6</td>\n",
       "      <td>0</td>\n",
       "      <td>12</td>\n",
       "      <td>2</td>\n",
       "      <td>1</td>\n",
       "      <td>1</td>\n",
       "      <td>0</td>\n",
       "      <td>NaN</td>\n",
       "    </tr>\n",
       "    <tr>\n",
       "      <th>6797</th>\n",
       "      <td>16997</td>\n",
       "      <td>31</td>\n",
       "      <td>0</td>\n",
       "      <td>132598</td>\n",
       "      <td>2</td>\n",
       "      <td>13</td>\n",
       "      <td>4</td>\n",
       "      <td>1</td>\n",
       "      <td>2</td>\n",
       "      <td>0</td>\n",
       "      <td>1</td>\n",
       "      <td>0</td>\n",
       "      <td>NaN</td>\n",
       "    </tr>\n",
       "    <tr>\n",
       "      <th>6798</th>\n",
       "      <td>16998</td>\n",
       "      <td>23</td>\n",
       "      <td>0</td>\n",
       "      <td>132573</td>\n",
       "      <td>0</td>\n",
       "      <td>8</td>\n",
       "      <td>2</td>\n",
       "      <td>10</td>\n",
       "      <td>2</td>\n",
       "      <td>2</td>\n",
       "      <td>0</td>\n",
       "      <td>0</td>\n",
       "      <td>NaN</td>\n",
       "    </tr>\n",
       "    <tr>\n",
       "      <th>6799</th>\n",
       "      <td>16999</td>\n",
       "      <td>23</td>\n",
       "      <td>1</td>\n",
       "      <td>132633</td>\n",
       "      <td>7</td>\n",
       "      <td>9</td>\n",
       "      <td>0</td>\n",
       "      <td>2</td>\n",
       "      <td>0</td>\n",
       "      <td>0</td>\n",
       "      <td>0</td>\n",
       "      <td>0</td>\n",
       "      <td>NaN</td>\n",
       "    </tr>\n",
       "  </tbody>\n",
       "</table>\n",
       "<p>17000 rows × 13 columns</p>\n",
       "</div>"
      ],
      "text/plain": [
       "         id  age  workclass  fnlwgt  education  education-num  marital-status  \\\n",
       "0         0   22          0  132618          0             12               0   \n",
       "1         1   22          0  132655          1              9               1   \n",
       "2         2   23          1  132674          2              8               0   \n",
       "3         3   36          0  132642          1             13               1   \n",
       "4         4   49          0  132646          3             13               1   \n",
       "...     ...  ...        ...     ...        ...            ...             ...   \n",
       "6795  16995   31          0  132530          0              9               2   \n",
       "6796  16996   31          0  132634          1              6               0   \n",
       "6797  16997   31          0  132598          2             13               4   \n",
       "6798  16998   23          0  132573          0              8               2   \n",
       "6799  16999   23          1  132633          7              9               0   \n",
       "\n",
       "      occupation  relationship  race  sex  native-country    Y  \n",
       "0              0             0     0    0               0  0.0  \n",
       "1              1             1     0    1               1  1.0  \n",
       "2              2             2     0    0               0  0.0  \n",
       "3              3             1     0    1               0  1.0  \n",
       "4              4             1     0    1               0  1.0  \n",
       "...          ...           ...   ...  ...             ...  ...  \n",
       "6795           8             2     0    0               0  NaN  \n",
       "6796          12             2     1    1               0  NaN  \n",
       "6797           1             2     0    1               0  NaN  \n",
       "6798          10             2     2    0               0  NaN  \n",
       "6799           2             0     0    0               0  NaN  \n",
       "\n",
       "[17000 rows x 13 columns]"
      ]
     },
     "execution_count": 3,
     "metadata": {},
     "output_type": "execute_result"
    }
   ],
   "source": [
    "data = pd.concat([train, test], sort=False)\n",
    "\n",
    "# カテゴリカルな特徴量は全てとりあえずエンコーディングしておく．\n",
    "categorical_column = ['workclass', 'education', 'marital-status', 'occupation', 'relationship', 'race', 'sex', 'native-country']\n",
    "for column in categorical_column:\n",
    "    d = {}\n",
    "    for i, category in enumerate(data[column].unique()):\n",
    "        d[category] = i\n",
    "    data[column] = data[column].map(d)\n",
    "data"
   ]
  },
  {
   "cell_type": "code",
   "execution_count": 4,
   "metadata": {},
   "outputs": [
    {
     "data": {
      "text/html": [
       "<div>\n",
       "<style scoped>\n",
       "    .dataframe tbody tr th:only-of-type {\n",
       "        vertical-align: middle;\n",
       "    }\n",
       "\n",
       "    .dataframe tbody tr th {\n",
       "        vertical-align: top;\n",
       "    }\n",
       "\n",
       "    .dataframe thead th {\n",
       "        text-align: right;\n",
       "    }\n",
       "</style>\n",
       "<table border=\"1\" class=\"dataframe\">\n",
       "  <thead>\n",
       "    <tr style=\"text-align: right;\">\n",
       "      <th></th>\n",
       "      <th>age</th>\n",
       "      <th>workclass</th>\n",
       "      <th>fnlwgt</th>\n",
       "      <th>education</th>\n",
       "      <th>education-num</th>\n",
       "      <th>marital-status</th>\n",
       "      <th>occupation</th>\n",
       "      <th>relationship</th>\n",
       "      <th>race</th>\n",
       "      <th>sex</th>\n",
       "      <th>native-country</th>\n",
       "    </tr>\n",
       "  </thead>\n",
       "  <tbody>\n",
       "    <tr>\n",
       "      <th>0</th>\n",
       "      <td>22</td>\n",
       "      <td>0</td>\n",
       "      <td>132618</td>\n",
       "      <td>0</td>\n",
       "      <td>12</td>\n",
       "      <td>0</td>\n",
       "      <td>0</td>\n",
       "      <td>0</td>\n",
       "      <td>0</td>\n",
       "      <td>0</td>\n",
       "      <td>0</td>\n",
       "    </tr>\n",
       "    <tr>\n",
       "      <th>1</th>\n",
       "      <td>22</td>\n",
       "      <td>0</td>\n",
       "      <td>132655</td>\n",
       "      <td>1</td>\n",
       "      <td>9</td>\n",
       "      <td>1</td>\n",
       "      <td>1</td>\n",
       "      <td>1</td>\n",
       "      <td>0</td>\n",
       "      <td>1</td>\n",
       "      <td>1</td>\n",
       "    </tr>\n",
       "    <tr>\n",
       "      <th>2</th>\n",
       "      <td>23</td>\n",
       "      <td>1</td>\n",
       "      <td>132674</td>\n",
       "      <td>2</td>\n",
       "      <td>8</td>\n",
       "      <td>0</td>\n",
       "      <td>2</td>\n",
       "      <td>2</td>\n",
       "      <td>0</td>\n",
       "      <td>0</td>\n",
       "      <td>0</td>\n",
       "    </tr>\n",
       "    <tr>\n",
       "      <th>3</th>\n",
       "      <td>36</td>\n",
       "      <td>0</td>\n",
       "      <td>132642</td>\n",
       "      <td>1</td>\n",
       "      <td>13</td>\n",
       "      <td>1</td>\n",
       "      <td>3</td>\n",
       "      <td>1</td>\n",
       "      <td>0</td>\n",
       "      <td>1</td>\n",
       "      <td>0</td>\n",
       "    </tr>\n",
       "    <tr>\n",
       "      <th>4</th>\n",
       "      <td>49</td>\n",
       "      <td>0</td>\n",
       "      <td>132646</td>\n",
       "      <td>3</td>\n",
       "      <td>13</td>\n",
       "      <td>1</td>\n",
       "      <td>4</td>\n",
       "      <td>1</td>\n",
       "      <td>0</td>\n",
       "      <td>1</td>\n",
       "      <td>0</td>\n",
       "    </tr>\n",
       "    <tr>\n",
       "      <th>...</th>\n",
       "      <td>...</td>\n",
       "      <td>...</td>\n",
       "      <td>...</td>\n",
       "      <td>...</td>\n",
       "      <td>...</td>\n",
       "      <td>...</td>\n",
       "      <td>...</td>\n",
       "      <td>...</td>\n",
       "      <td>...</td>\n",
       "      <td>...</td>\n",
       "      <td>...</td>\n",
       "    </tr>\n",
       "    <tr>\n",
       "      <th>10195</th>\n",
       "      <td>31</td>\n",
       "      <td>0</td>\n",
       "      <td>132650</td>\n",
       "      <td>1</td>\n",
       "      <td>9</td>\n",
       "      <td>2</td>\n",
       "      <td>9</td>\n",
       "      <td>5</td>\n",
       "      <td>0</td>\n",
       "      <td>0</td>\n",
       "      <td>1</td>\n",
       "    </tr>\n",
       "    <tr>\n",
       "      <th>10196</th>\n",
       "      <td>36</td>\n",
       "      <td>0</td>\n",
       "      <td>132590</td>\n",
       "      <td>2</td>\n",
       "      <td>9</td>\n",
       "      <td>1</td>\n",
       "      <td>4</td>\n",
       "      <td>3</td>\n",
       "      <td>0</td>\n",
       "      <td>1</td>\n",
       "      <td>1</td>\n",
       "    </tr>\n",
       "    <tr>\n",
       "      <th>10197</th>\n",
       "      <td>36</td>\n",
       "      <td>2</td>\n",
       "      <td>132498</td>\n",
       "      <td>1</td>\n",
       "      <td>13</td>\n",
       "      <td>1</td>\n",
       "      <td>10</td>\n",
       "      <td>1</td>\n",
       "      <td>2</td>\n",
       "      <td>1</td>\n",
       "      <td>0</td>\n",
       "    </tr>\n",
       "    <tr>\n",
       "      <th>10198</th>\n",
       "      <td>17</td>\n",
       "      <td>0</td>\n",
       "      <td>132614</td>\n",
       "      <td>0</td>\n",
       "      <td>9</td>\n",
       "      <td>0</td>\n",
       "      <td>10</td>\n",
       "      <td>2</td>\n",
       "      <td>0</td>\n",
       "      <td>0</td>\n",
       "      <td>0</td>\n",
       "    </tr>\n",
       "    <tr>\n",
       "      <th>10199</th>\n",
       "      <td>36</td>\n",
       "      <td>1</td>\n",
       "      <td>132691</td>\n",
       "      <td>3</td>\n",
       "      <td>4</td>\n",
       "      <td>2</td>\n",
       "      <td>7</td>\n",
       "      <td>1</td>\n",
       "      <td>2</td>\n",
       "      <td>1</td>\n",
       "      <td>0</td>\n",
       "    </tr>\n",
       "  </tbody>\n",
       "</table>\n",
       "<p>10200 rows × 11 columns</p>\n",
       "</div>"
      ],
      "text/plain": [
       "       age  workclass  fnlwgt  education  education-num  marital-status  \\\n",
       "0       22          0  132618          0             12               0   \n",
       "1       22          0  132655          1              9               1   \n",
       "2       23          1  132674          2              8               0   \n",
       "3       36          0  132642          1             13               1   \n",
       "4       49          0  132646          3             13               1   \n",
       "...    ...        ...     ...        ...            ...             ...   \n",
       "10195   31          0  132650          1              9               2   \n",
       "10196   36          0  132590          2              9               1   \n",
       "10197   36          2  132498          1             13               1   \n",
       "10198   17          0  132614          0              9               0   \n",
       "10199   36          1  132691          3              4               2   \n",
       "\n",
       "       occupation  relationship  race  sex  native-country  \n",
       "0               0             0     0    0               0  \n",
       "1               1             1     0    1               1  \n",
       "2               2             2     0    0               0  \n",
       "3               3             1     0    1               0  \n",
       "4               4             1     0    1               0  \n",
       "...           ...           ...   ...  ...             ...  \n",
       "10195           9             5     0    0               1  \n",
       "10196           4             3     0    1               1  \n",
       "10197          10             1     2    1               0  \n",
       "10198          10             2     0    0               0  \n",
       "10199           7             1     2    1               0  \n",
       "\n",
       "[10200 rows x 11 columns]"
      ]
     },
     "execution_count": 4,
     "metadata": {},
     "output_type": "execute_result"
    }
   ],
   "source": [
    "data.drop('id', axis=1, inplace=True)\n",
    "train = data[:len(train)]\n",
    "test = data[len(train):]\n",
    "\n",
    "y_train = train['Y']\n",
    "X_train = train.drop('Y', axis=1)\n",
    "X_test = test.drop('Y', axis=1)\n",
    "X_train"
   ]
  },
  {
   "cell_type": "code",
   "execution_count": 5,
   "metadata": {},
   "outputs": [],
   "source": [
    "from sklearn.model_selection import train_test_split\n",
    "\n",
    "X_train, X_valid, y_train, y_valid = \\\n",
    "    train_test_split(X_train, y_train, test_size=0.3,\n",
    "                     random_state=0, stratify=y_train)"
   ]
  },
  {
   "cell_type": "code",
   "execution_count": 6,
   "metadata": {},
   "outputs": [],
   "source": [
    "import optuna\n",
    "from sklearn.metrics import log_loss\n",
    "import lightgbm as lgb\n",
    "\n",
    "\n",
    "def objective(trial):\n",
    "    params = { \n",
    "        'objective': 'binary',\n",
    "        'max_bin': trial.suggest_int('max_bin', 255, 500),\n",
    "        'learning_rate': trial.suggest_float('learning_rate', 0.0001, 0.1),\n",
    "        'num_leaves': trial.suggest_int('num_leaves', 32, 128),\n",
    "    }\n",
    "\n",
    "    lgb_train = lgb.Dataset(X_train, y_train)\n",
    "    lgb_eval = lgb.Dataset(X_valid, y_valid, reference=lgb_train)\n",
    "\n",
    "    model = lgb.train(params, lgb_train,\n",
    "                      valid_sets=[lgb_train, lgb_eval],\n",
    "                      verbose_eval=100,\n",
    "                      num_boost_round=1000,\n",
    "                      early_stopping_rounds=100)\n",
    "\n",
    "    y_pred_valid = model.predict(X_valid, num_iteration=model.best_iteration)\n",
    "    score = log_loss(y_valid, y_pred_valid)\n",
    "    return score\n"
   ]
  },
  {
   "cell_type": "code",
   "execution_count": 7,
   "metadata": {},
   "outputs": [
    {
     "name": "stderr",
     "output_type": "stream",
     "text": [
      "\u001b[32m[I 2022-02-15 18:19:11,694]\u001b[0m A new study created in memory with name: no-name-60b0fb6d-cfd6-4660-b790-9b8fb015d065\u001b[0m\n",
      "/Users/yutahirai/opt/anaconda3/envs/matlab/lib/python3.8/site-packages/lightgbm/engine.py:181: UserWarning: 'early_stopping_rounds' argument is deprecated and will be removed in a future release of LightGBM. Pass 'early_stopping()' callback via 'callbacks' argument instead.\n",
      "  _log_warning(\"'early_stopping_rounds' argument is deprecated and will be removed in a future release of LightGBM. \"\n",
      "/Users/yutahirai/opt/anaconda3/envs/matlab/lib/python3.8/site-packages/lightgbm/engine.py:239: UserWarning: 'verbose_eval' argument is deprecated and will be removed in a future release of LightGBM. Pass 'log_evaluation()' callback via 'callbacks' argument instead.\n",
      "  _log_warning(\"'verbose_eval' argument is deprecated and will be removed in a future release of LightGBM. \"\n"
     ]
    },
    {
     "name": "stdout",
     "output_type": "stream",
     "text": [
      "[LightGBM] [Info] Number of positive: 1729, number of negative: 5411\n",
      "[LightGBM] [Warning] Auto-choosing row-wise multi-threading, the overhead of testing was 0.000774 seconds.\n",
      "You can set `force_row_wise=true` to remove the overhead.\n",
      "And if memory is not enough, you can set `force_col_wise=true`.\n",
      "[LightGBM] [Info] Total Bins 457\n",
      "[LightGBM] [Info] Number of data points in the train set: 7140, number of used features: 11\n",
      "[LightGBM] [Info] [binary:BoostFromScore]: pavg=0.242157 -> initscore=-1.140891\n",
      "[LightGBM] [Info] Start training from score -1.140891\n",
      "Training until validation scores don't improve for 100 rounds\n"
     ]
    },
    {
     "name": "stderr",
     "output_type": "stream",
     "text": [
      "\u001b[32m[I 2022-02-15 18:19:12,073]\u001b[0m Trial 0 finished with value: 0.2706088142392964 and parameters: {'max_bin': 390, 'learning_rate': 0.07154741770060472, 'num_leaves': 90}. Best is trial 0 with value: 0.2706088142392964.\u001b[0m\n"
     ]
    },
    {
     "name": "stdout",
     "output_type": "stream",
     "text": [
      "[100]\ttraining's binary_logloss: 0.11214\tvalid_1's binary_logloss: 0.282417\n",
      "Early stopping, best iteration is:\n",
      "[49]\ttraining's binary_logloss: 0.173473\tvalid_1's binary_logloss: 0.270609\n",
      "[LightGBM] [Info] Number of positive: 1729, number of negative: 5411\n",
      "[LightGBM] [Warning] Auto-choosing row-wise multi-threading, the overhead of testing was 0.000589 seconds.\n",
      "You can set `force_row_wise=true` to remove the overhead.\n",
      "And if memory is not enough, you can set `force_col_wise=true`.\n",
      "[LightGBM] [Info] Total Bins 457\n",
      "[LightGBM] [Info] Number of data points in the train set: 7140, number of used features: 11\n",
      "[LightGBM] [Info] [binary:BoostFromScore]: pavg=0.242157 -> initscore=-1.140891\n",
      "[LightGBM] [Info] Start training from score -1.140891\n",
      "Training until validation scores don't improve for 100 rounds\n"
     ]
    },
    {
     "name": "stderr",
     "output_type": "stream",
     "text": [
      "/Users/yutahirai/opt/anaconda3/envs/matlab/lib/python3.8/site-packages/lightgbm/engine.py:181: UserWarning: 'early_stopping_rounds' argument is deprecated and will be removed in a future release of LightGBM. Pass 'early_stopping()' callback via 'callbacks' argument instead.\n",
      "  _log_warning(\"'early_stopping_rounds' argument is deprecated and will be removed in a future release of LightGBM. \"\n",
      "/Users/yutahirai/opt/anaconda3/envs/matlab/lib/python3.8/site-packages/lightgbm/engine.py:239: UserWarning: 'verbose_eval' argument is deprecated and will be removed in a future release of LightGBM. Pass 'log_evaluation()' callback via 'callbacks' argument instead.\n",
      "  _log_warning(\"'verbose_eval' argument is deprecated and will be removed in a future release of LightGBM. \"\n"
     ]
    },
    {
     "name": "stdout",
     "output_type": "stream",
     "text": [
      "[100]\ttraining's binary_logloss: 0.154191\tvalid_1's binary_logloss: 0.271628\n"
     ]
    },
    {
     "name": "stderr",
     "output_type": "stream",
     "text": [
      "\u001b[32m[I 2022-02-15 18:19:12,631]\u001b[0m Trial 1 finished with value: 0.2711705408309408 and parameters: {'max_bin': 389, 'learning_rate': 0.042423114453956585, 'num_leaves': 94}. Best is trial 0 with value: 0.2706088142392964.\u001b[0m\n"
     ]
    },
    {
     "name": "stdout",
     "output_type": "stream",
     "text": [
      "Early stopping, best iteration is:\n",
      "[92]\ttraining's binary_logloss: 0.161873\tvalid_1's binary_logloss: 0.271171\n",
      "[LightGBM] [Info] Number of positive: 1729, number of negative: 5411\n",
      "[LightGBM] [Warning] Auto-choosing row-wise multi-threading, the overhead of testing was 0.000408 seconds.\n",
      "You can set `force_row_wise=true` to remove the overhead.\n",
      "And if memory is not enough, you can set `force_col_wise=true`.\n",
      "[LightGBM] [Info] Total Bins 447\n",
      "[LightGBM] [Info] Number of data points in the train set: 7140, number of used features: 11\n",
      "[LightGBM] [Info] [binary:BoostFromScore]: pavg=0.242157 -> initscore=-1.140891\n",
      "[LightGBM] [Info] Start training from score -1.140891\n",
      "Training until validation scores don't improve for 100 rounds\n"
     ]
    },
    {
     "name": "stderr",
     "output_type": "stream",
     "text": [
      "/Users/yutahirai/opt/anaconda3/envs/matlab/lib/python3.8/site-packages/lightgbm/engine.py:181: UserWarning: 'early_stopping_rounds' argument is deprecated and will be removed in a future release of LightGBM. Pass 'early_stopping()' callback via 'callbacks' argument instead.\n",
      "  _log_warning(\"'early_stopping_rounds' argument is deprecated and will be removed in a future release of LightGBM. \"\n",
      "/Users/yutahirai/opt/anaconda3/envs/matlab/lib/python3.8/site-packages/lightgbm/engine.py:239: UserWarning: 'verbose_eval' argument is deprecated and will be removed in a future release of LightGBM. Pass 'log_evaluation()' callback via 'callbacks' argument instead.\n",
      "  _log_warning(\"'verbose_eval' argument is deprecated and will be removed in a future release of LightGBM. \"\n",
      "\u001b[32m[I 2022-02-15 18:19:13,115]\u001b[0m Trial 2 finished with value: 0.2734467022109708 and parameters: {'max_bin': 362, 'learning_rate': 0.08918812277812978, 'num_leaves': 125}. Best is trial 0 with value: 0.2706088142392964.\u001b[0m\n"
     ]
    },
    {
     "name": "stdout",
     "output_type": "stream",
     "text": [
      "[100]\ttraining's binary_logloss: 0.0677197\tvalid_1's binary_logloss: 0.30254\n",
      "Early stopping, best iteration is:\n",
      "[36]\ttraining's binary_logloss: 0.16732\tvalid_1's binary_logloss: 0.273447\n",
      "[LightGBM] [Info] Number of positive: 1729, number of negative: 5411\n",
      "[LightGBM] [Warning] Auto-choosing row-wise multi-threading, the overhead of testing was 0.000659 seconds.\n",
      "You can set `force_row_wise=true` to remove the overhead.\n",
      "And if memory is not enough, you can set `force_col_wise=true`.\n",
      "[LightGBM] [Info] Total Bins 442\n",
      "[LightGBM] [Info] Number of data points in the train set: 7140, number of used features: 11\n",
      "[LightGBM] [Info] [binary:BoostFromScore]: pavg=0.242157 -> initscore=-1.140891\n",
      "[LightGBM] [Info] Start training from score -1.140891\n",
      "Training until validation scores don't improve for 100 rounds\n"
     ]
    },
    {
     "name": "stderr",
     "output_type": "stream",
     "text": [
      "/Users/yutahirai/opt/anaconda3/envs/matlab/lib/python3.8/site-packages/lightgbm/engine.py:181: UserWarning: 'early_stopping_rounds' argument is deprecated and will be removed in a future release of LightGBM. Pass 'early_stopping()' callback via 'callbacks' argument instead.\n",
      "  _log_warning(\"'early_stopping_rounds' argument is deprecated and will be removed in a future release of LightGBM. \"\n",
      "/Users/yutahirai/opt/anaconda3/envs/matlab/lib/python3.8/site-packages/lightgbm/engine.py:239: UserWarning: 'verbose_eval' argument is deprecated and will be removed in a future release of LightGBM. Pass 'log_evaluation()' callback via 'callbacks' argument instead.\n",
      "  _log_warning(\"'verbose_eval' argument is deprecated and will be removed in a future release of LightGBM. \"\n",
      "\u001b[32m[I 2022-02-15 18:19:13,520]\u001b[0m Trial 3 finished with value: 0.26850768364724 and parameters: {'max_bin': 349, 'learning_rate': 0.0791933313044582, 'num_leaves': 83}. Best is trial 3 with value: 0.26850768364724.\u001b[0m\n"
     ]
    },
    {
     "name": "stdout",
     "output_type": "stream",
     "text": [
      "[100]\ttraining's binary_logloss: 0.109914\tvalid_1's binary_logloss: 0.279248\n",
      "Early stopping, best iteration is:\n",
      "[50]\ttraining's binary_logloss: 0.166683\tvalid_1's binary_logloss: 0.268508\n",
      "[LightGBM] [Info] Number of positive: 1729, number of negative: 5411\n",
      "[LightGBM] [Warning] Auto-choosing row-wise multi-threading, the overhead of testing was 0.000434 seconds.\n",
      "You can set `force_row_wise=true` to remove the overhead.\n",
      "And if memory is not enough, you can set `force_col_wise=true`.\n",
      "[LightGBM] [Info] Total Bins 457\n",
      "[LightGBM] [Info] Number of data points in the train set: 7140, number of used features: 11\n",
      "[LightGBM] [Info] [binary:BoostFromScore]: pavg=0.242157 -> initscore=-1.140891\n",
      "[LightGBM] [Info] Start training from score -1.140891\n",
      "Training until validation scores don't improve for 100 rounds\n"
     ]
    },
    {
     "name": "stderr",
     "output_type": "stream",
     "text": [
      "/Users/yutahirai/opt/anaconda3/envs/matlab/lib/python3.8/site-packages/lightgbm/engine.py:181: UserWarning: 'early_stopping_rounds' argument is deprecated and will be removed in a future release of LightGBM. Pass 'early_stopping()' callback via 'callbacks' argument instead.\n",
      "  _log_warning(\"'early_stopping_rounds' argument is deprecated and will be removed in a future release of LightGBM. \"\n",
      "/Users/yutahirai/opt/anaconda3/envs/matlab/lib/python3.8/site-packages/lightgbm/engine.py:239: UserWarning: 'verbose_eval' argument is deprecated and will be removed in a future release of LightGBM. Pass 'log_evaluation()' callback via 'callbacks' argument instead.\n",
      "  _log_warning(\"'verbose_eval' argument is deprecated and will be removed in a future release of LightGBM. \"\n",
      "\u001b[32m[I 2022-02-15 18:19:13,812]\u001b[0m Trial 4 finished with value: 0.26379524253046954 and parameters: {'max_bin': 394, 'learning_rate': 0.09256710416543684, 'num_leaves': 38}. Best is trial 4 with value: 0.26379524253046954.\u001b[0m\n"
     ]
    },
    {
     "name": "stdout",
     "output_type": "stream",
     "text": [
      "[100]\ttraining's binary_logloss: 0.154079\tvalid_1's binary_logloss: 0.268975\n",
      "Early stopping, best iteration is:\n",
      "[52]\ttraining's binary_logloss: 0.19474\tvalid_1's binary_logloss: 0.263795\n",
      "[LightGBM] [Info] Number of positive: 1729, number of negative: 5411\n",
      "[LightGBM] [Warning] Auto-choosing row-wise multi-threading, the overhead of testing was 0.001100 seconds.\n",
      "You can set `force_row_wise=true` to remove the overhead.\n",
      "And if memory is not enough, you can set `force_col_wise=true`.\n",
      "[LightGBM] [Info] Total Bins 389\n",
      "[LightGBM] [Info] Number of data points in the train set: 7140, number of used features: 11\n",
      "[LightGBM] [Info] [binary:BoostFromScore]: pavg=0.242157 -> initscore=-1.140891\n",
      "[LightGBM] [Info] Start training from score -1.140891\n",
      "Training until validation scores don't improve for 100 rounds\n"
     ]
    },
    {
     "name": "stderr",
     "output_type": "stream",
     "text": [
      "/Users/yutahirai/opt/anaconda3/envs/matlab/lib/python3.8/site-packages/lightgbm/engine.py:181: UserWarning: 'early_stopping_rounds' argument is deprecated and will be removed in a future release of LightGBM. Pass 'early_stopping()' callback via 'callbacks' argument instead.\n",
      "  _log_warning(\"'early_stopping_rounds' argument is deprecated and will be removed in a future release of LightGBM. \"\n",
      "/Users/yutahirai/opt/anaconda3/envs/matlab/lib/python3.8/site-packages/lightgbm/engine.py:239: UserWarning: 'verbose_eval' argument is deprecated and will be removed in a future release of LightGBM. Pass 'log_evaluation()' callback via 'callbacks' argument instead.\n",
      "  _log_warning(\"'verbose_eval' argument is deprecated and will be removed in a future release of LightGBM. \"\n"
     ]
    },
    {
     "name": "stdout",
     "output_type": "stream",
     "text": [
      "[100]\ttraining's binary_logloss: 0.456725\tvalid_1's binary_logloss: 0.464926\n",
      "[200]\ttraining's binary_logloss: 0.393273\tvalid_1's binary_logloss: 0.408372\n",
      "[300]\ttraining's binary_logloss: 0.347545\tvalid_1's binary_logloss: 0.369417\n",
      "[400]\ttraining's binary_logloss: 0.313583\tvalid_1's binary_logloss: 0.342339\n",
      "[500]\ttraining's binary_logloss: 0.287523\tvalid_1's binary_logloss: 0.322742\n",
      "[600]\ttraining's binary_logloss: 0.266765\tvalid_1's binary_logloss: 0.308727\n",
      "[700]\ttraining's binary_logloss: 0.249865\tvalid_1's binary_logloss: 0.298411\n",
      "[800]\ttraining's binary_logloss: 0.235648\tvalid_1's binary_logloss: 0.291082\n",
      "[900]\ttraining's binary_logloss: 0.223619\tvalid_1's binary_logloss: 0.285877\n",
      "[1000]\ttraining's binary_logloss: 0.213325\tvalid_1's binary_logloss: 0.282092\n",
      "Did not meet early stopping. Best iteration is:\n",
      "[1000]\ttraining's binary_logloss: 0.213325\tvalid_1's binary_logloss: 0.282092\n"
     ]
    },
    {
     "name": "stderr",
     "output_type": "stream",
     "text": [
      "\u001b[32m[I 2022-02-15 18:19:17,321]\u001b[0m Trial 5 finished with value: 0.28209228696868244 and parameters: {'max_bin': 276, 'learning_rate': 0.0021198179042885394, 'num_leaves': 112}. Best is trial 4 with value: 0.26379524253046954.\u001b[0m\n",
      "/Users/yutahirai/opt/anaconda3/envs/matlab/lib/python3.8/site-packages/lightgbm/engine.py:181: UserWarning: 'early_stopping_rounds' argument is deprecated and will be removed in a future release of LightGBM. Pass 'early_stopping()' callback via 'callbacks' argument instead.\n",
      "  _log_warning(\"'early_stopping_rounds' argument is deprecated and will be removed in a future release of LightGBM. \"\n",
      "/Users/yutahirai/opt/anaconda3/envs/matlab/lib/python3.8/site-packages/lightgbm/engine.py:239: UserWarning: 'verbose_eval' argument is deprecated and will be removed in a future release of LightGBM. Pass 'log_evaluation()' callback via 'callbacks' argument instead.\n",
      "  _log_warning(\"'verbose_eval' argument is deprecated and will be removed in a future release of LightGBM. \"\n"
     ]
    },
    {
     "name": "stdout",
     "output_type": "stream",
     "text": [
      "[LightGBM] [Info] Number of positive: 1729, number of negative: 5411\n",
      "[LightGBM] [Warning] Auto-choosing row-wise multi-threading, the overhead of testing was 0.000449 seconds.\n",
      "You can set `force_row_wise=true` to remove the overhead.\n",
      "And if memory is not enough, you can set `force_col_wise=true`.\n",
      "[LightGBM] [Info] Total Bins 468\n",
      "[LightGBM] [Info] Number of data points in the train set: 7140, number of used features: 11\n",
      "[LightGBM] [Info] [binary:BoostFromScore]: pavg=0.242157 -> initscore=-1.140891\n",
      "[LightGBM] [Info] Start training from score -1.140891\n",
      "Training until validation scores don't improve for 100 rounds\n",
      "[100]\ttraining's binary_logloss: 0.0698342\tvalid_1's binary_logloss: 0.304703\n"
     ]
    },
    {
     "name": "stderr",
     "output_type": "stream",
     "text": [
      "\u001b[32m[I 2022-02-15 18:19:18,315]\u001b[0m Trial 6 finished with value: 0.2747417461672268 and parameters: {'max_bin': 446, 'learning_rate': 0.08701421360985724, 'num_leaves': 126}. Best is trial 4 with value: 0.26379524253046954.\u001b[0m\n"
     ]
    },
    {
     "name": "stdout",
     "output_type": "stream",
     "text": [
      "Early stopping, best iteration is:\n",
      "[39]\ttraining's binary_logloss: 0.161355\tvalid_1's binary_logloss: 0.274742\n",
      "[LightGBM] [Info] Number of positive: 1729, number of negative: 5411\n",
      "[LightGBM] [Warning] Auto-choosing row-wise multi-threading, the overhead of testing was 0.000550 seconds.\n",
      "You can set `force_row_wise=true` to remove the overhead.\n",
      "And if memory is not enough, you can set `force_col_wise=true`.\n",
      "[LightGBM] [Info] Total Bins 468\n",
      "[LightGBM] [Info] Number of data points in the train set: 7140, number of used features: 11\n",
      "[LightGBM] [Info] [binary:BoostFromScore]: pavg=0.242157 -> initscore=-1.140891\n",
      "[LightGBM] [Info] Start training from score -1.140891\n",
      "Training until validation scores don't improve for 100 rounds\n"
     ]
    },
    {
     "name": "stderr",
     "output_type": "stream",
     "text": [
      "/Users/yutahirai/opt/anaconda3/envs/matlab/lib/python3.8/site-packages/lightgbm/engine.py:181: UserWarning: 'early_stopping_rounds' argument is deprecated and will be removed in a future release of LightGBM. Pass 'early_stopping()' callback via 'callbacks' argument instead.\n",
      "  _log_warning(\"'early_stopping_rounds' argument is deprecated and will be removed in a future release of LightGBM. \"\n",
      "/Users/yutahirai/opt/anaconda3/envs/matlab/lib/python3.8/site-packages/lightgbm/engine.py:239: UserWarning: 'verbose_eval' argument is deprecated and will be removed in a future release of LightGBM. Pass 'log_evaluation()' callback via 'callbacks' argument instead.\n",
      "  _log_warning(\"'verbose_eval' argument is deprecated and will be removed in a future release of LightGBM. \"\n"
     ]
    },
    {
     "name": "stdout",
     "output_type": "stream",
     "text": [
      "[100]\ttraining's binary_logloss: 0.137902\tvalid_1's binary_logloss: 0.274379\n"
     ]
    },
    {
     "name": "stderr",
     "output_type": "stream",
     "text": [
      "\u001b[32m[I 2022-02-15 18:19:19,265]\u001b[0m Trial 7 finished with value: 0.2729615224691183 and parameters: {'max_bin': 451, 'learning_rate': 0.046201788289067895, 'num_leaves': 107}. Best is trial 4 with value: 0.26379524253046954.\u001b[0m\n"
     ]
    },
    {
     "name": "stdout",
     "output_type": "stream",
     "text": [
      "Early stopping, best iteration is:\n",
      "[78]\ttraining's binary_logloss: 0.163498\tvalid_1's binary_logloss: 0.272962\n",
      "[LightGBM] [Info] Number of positive: 1729, number of negative: 5411\n",
      "[LightGBM] [Warning] Auto-choosing row-wise multi-threading, the overhead of testing was 0.000739 seconds.\n",
      "You can set `force_row_wise=true` to remove the overhead.\n",
      "And if memory is not enough, you can set `force_col_wise=true`.\n",
      "[LightGBM] [Info] Total Bins 397\n",
      "[LightGBM] [Info] Number of data points in the train set: 7140, number of used features: 11\n",
      "[LightGBM] [Info] [binary:BoostFromScore]: pavg=0.242157 -> initscore=-1.140891\n",
      "[LightGBM] [Info] Start training from score -1.140891\n",
      "Training until validation scores don't improve for 100 rounds\n"
     ]
    },
    {
     "name": "stderr",
     "output_type": "stream",
     "text": [
      "/Users/yutahirai/opt/anaconda3/envs/matlab/lib/python3.8/site-packages/lightgbm/engine.py:181: UserWarning: 'early_stopping_rounds' argument is deprecated and will be removed in a future release of LightGBM. Pass 'early_stopping()' callback via 'callbacks' argument instead.\n",
      "  _log_warning(\"'early_stopping_rounds' argument is deprecated and will be removed in a future release of LightGBM. \"\n",
      "/Users/yutahirai/opt/anaconda3/envs/matlab/lib/python3.8/site-packages/lightgbm/engine.py:239: UserWarning: 'verbose_eval' argument is deprecated and will be removed in a future release of LightGBM. Pass 'log_evaluation()' callback via 'callbacks' argument instead.\n",
      "  _log_warning(\"'verbose_eval' argument is deprecated and will be removed in a future release of LightGBM. \"\n",
      "\u001b[32m[I 2022-02-15 18:19:19,705]\u001b[0m Trial 8 finished with value: 0.2642044687424431 and parameters: {'max_bin': 284, 'learning_rate': 0.06402811003061963, 'num_leaves': 45}. Best is trial 4 with value: 0.26379524253046954.\u001b[0m\n"
     ]
    },
    {
     "name": "stdout",
     "output_type": "stream",
     "text": [
      "[100]\ttraining's binary_logloss: 0.169284\tvalid_1's binary_logloss: 0.266232\n",
      "Early stopping, best iteration is:\n",
      "[66]\ttraining's binary_logloss: 0.194515\tvalid_1's binary_logloss: 0.264204\n",
      "[LightGBM] [Info] Number of positive: 1729, number of negative: 5411\n",
      "[LightGBM] [Warning] Auto-choosing row-wise multi-threading, the overhead of testing was 0.000423 seconds.\n",
      "You can set `force_row_wise=true` to remove the overhead.\n",
      "And if memory is not enough, you can set `force_col_wise=true`.\n",
      "[LightGBM] [Info] Total Bins 477\n",
      "[LightGBM] [Info] Number of data points in the train set: 7140, number of used features: 11\n",
      "[LightGBM] [Info] [binary:BoostFromScore]: pavg=0.242157 -> initscore=-1.140891\n",
      "[LightGBM] [Info] Start training from score -1.140891\n",
      "Training until validation scores don't improve for 100 rounds\n"
     ]
    },
    {
     "name": "stderr",
     "output_type": "stream",
     "text": [
      "/Users/yutahirai/opt/anaconda3/envs/matlab/lib/python3.8/site-packages/lightgbm/engine.py:181: UserWarning: 'early_stopping_rounds' argument is deprecated and will be removed in a future release of LightGBM. Pass 'early_stopping()' callback via 'callbacks' argument instead.\n",
      "  _log_warning(\"'early_stopping_rounds' argument is deprecated and will be removed in a future release of LightGBM. \"\n",
      "/Users/yutahirai/opt/anaconda3/envs/matlab/lib/python3.8/site-packages/lightgbm/engine.py:239: UserWarning: 'verbose_eval' argument is deprecated and will be removed in a future release of LightGBM. Pass 'log_evaluation()' callback via 'callbacks' argument instead.\n",
      "  _log_warning(\"'verbose_eval' argument is deprecated and will be removed in a future release of LightGBM. \"\n"
     ]
    },
    {
     "name": "stdout",
     "output_type": "stream",
     "text": [
      "[100]\ttraining's binary_logloss: 0.152705\tvalid_1's binary_logloss: 0.268692\n"
     ]
    },
    {
     "name": "stderr",
     "output_type": "stream",
     "text": [
      "\u001b[32m[I 2022-02-15 18:19:20,390]\u001b[0m Trial 9 finished with value: 0.2673876191631372 and parameters: {'max_bin': 487, 'learning_rate': 0.052232647342832166, 'num_leaves': 72}. Best is trial 4 with value: 0.26379524253046954.\u001b[0m\n"
     ]
    },
    {
     "name": "stdout",
     "output_type": "stream",
     "text": [
      "Early stopping, best iteration is:\n",
      "[85]\ttraining's binary_logloss: 0.165885\tvalid_1's binary_logloss: 0.267388\n",
      "[LightGBM] [Info] Number of positive: 1729, number of negative: 5411\n",
      "[LightGBM] [Warning] Auto-choosing row-wise multi-threading, the overhead of testing was 0.000752 seconds.\n",
      "You can set `force_row_wise=true` to remove the overhead.\n",
      "And if memory is not enough, you can set `force_col_wise=true`.\n",
      "[LightGBM] [Info] Total Bins 428\n",
      "[LightGBM] [Info] Number of data points in the train set: 7140, number of used features: 11\n",
      "[LightGBM] [Info] [binary:BoostFromScore]: pavg=0.242157 -> initscore=-1.140891\n",
      "[LightGBM] [Info] Start training from score -1.140891\n",
      "Training until validation scores don't improve for 100 rounds\n"
     ]
    },
    {
     "name": "stderr",
     "output_type": "stream",
     "text": [
      "/Users/yutahirai/opt/anaconda3/envs/matlab/lib/python3.8/site-packages/lightgbm/engine.py:181: UserWarning: 'early_stopping_rounds' argument is deprecated and will be removed in a future release of LightGBM. Pass 'early_stopping()' callback via 'callbacks' argument instead.\n",
      "  _log_warning(\"'early_stopping_rounds' argument is deprecated and will be removed in a future release of LightGBM. \"\n",
      "/Users/yutahirai/opt/anaconda3/envs/matlab/lib/python3.8/site-packages/lightgbm/engine.py:239: UserWarning: 'verbose_eval' argument is deprecated and will be removed in a future release of LightGBM. Pass 'log_evaluation()' callback via 'callbacks' argument instead.\n",
      "  _log_warning(\"'verbose_eval' argument is deprecated and will be removed in a future release of LightGBM. \"\n"
     ]
    },
    {
     "name": "stdout",
     "output_type": "stream",
     "text": [
      "[100]\ttraining's binary_logloss: 0.118941\tvalid_1's binary_logloss: 0.278665\n"
     ]
    },
    {
     "name": "stderr",
     "output_type": "stream",
     "text": [
      "\u001b[32m[I 2022-02-15 18:19:21,560]\u001b[0m Trial 10 finished with value: 0.2677328244653775 and parameters: {'max_bin': 320, 'learning_rate': 0.07744594557447824, 'num_leaves': 76}. Best is trial 4 with value: 0.26379524253046954.\u001b[0m\n"
     ]
    },
    {
     "name": "stdout",
     "output_type": "stream",
     "text": [
      "Early stopping, best iteration is:\n",
      "[49]\ttraining's binary_logloss: 0.17484\tvalid_1's binary_logloss: 0.267733\n",
      "[LightGBM] [Info] Number of positive: 1729, number of negative: 5411\n",
      "[LightGBM] [Warning] Auto-choosing row-wise multi-threading, the overhead of testing was 0.000833 seconds.\n",
      "You can set `force_row_wise=true` to remove the overhead.\n",
      "And if memory is not enough, you can set `force_col_wise=true`.\n",
      "[LightGBM] [Info] Total Bins 457\n",
      "[LightGBM] [Info] Number of data points in the train set: 7140, number of used features: 11\n",
      "[LightGBM] [Info] [binary:BoostFromScore]: pavg=0.242157 -> initscore=-1.140891\n",
      "[LightGBM] [Info] Start training from score -1.140891\n",
      "Training until validation scores don't improve for 100 rounds\n"
     ]
    },
    {
     "name": "stderr",
     "output_type": "stream",
     "text": [
      "/Users/yutahirai/opt/anaconda3/envs/matlab/lib/python3.8/site-packages/lightgbm/engine.py:181: UserWarning: 'early_stopping_rounds' argument is deprecated and will be removed in a future release of LightGBM. Pass 'early_stopping()' callback via 'callbacks' argument instead.\n",
      "  _log_warning(\"'early_stopping_rounds' argument is deprecated and will be removed in a future release of LightGBM. \"\n",
      "/Users/yutahirai/opt/anaconda3/envs/matlab/lib/python3.8/site-packages/lightgbm/engine.py:239: UserWarning: 'verbose_eval' argument is deprecated and will be removed in a future release of LightGBM. Pass 'log_evaluation()' callback via 'callbacks' argument instead.\n",
      "  _log_warning(\"'verbose_eval' argument is deprecated and will be removed in a future release of LightGBM. \"\n"
     ]
    },
    {
     "name": "stdout",
     "output_type": "stream",
     "text": [
      "[100]\ttraining's binary_logloss: 0.462607\tvalid_1's binary_logloss: 0.469746\n",
      "[200]\ttraining's binary_logloss: 0.402133\tvalid_1's binary_logloss: 0.415199\n",
      "[300]\ttraining's binary_logloss: 0.357649\tvalid_1's binary_logloss: 0.376322\n",
      "[400]\ttraining's binary_logloss: 0.324432\tvalid_1's binary_logloss: 0.348888\n",
      "[500]\ttraining's binary_logloss: 0.298766\tvalid_1's binary_logloss: 0.32852\n",
      "[600]\ttraining's binary_logloss: 0.278141\tvalid_1's binary_logloss: 0.313372\n",
      "[700]\ttraining's binary_logloss: 0.261697\tvalid_1's binary_logloss: 0.302359\n",
      "[800]\ttraining's binary_logloss: 0.247922\tvalid_1's binary_logloss: 0.294377\n",
      "[900]\ttraining's binary_logloss: 0.236231\tvalid_1's binary_logloss: 0.288316\n"
     ]
    },
    {
     "name": "stderr",
     "output_type": "stream",
     "text": [
      "\u001b[32m[I 2022-02-15 18:19:25,742]\u001b[0m Trial 11 finished with value: 0.2837149856088395 and parameters: {'max_bin': 394, 'learning_rate': 0.0019771010635918785, 'num_leaves': 91}. Best is trial 4 with value: 0.26379524253046954.\u001b[0m\n"
     ]
    },
    {
     "name": "stdout",
     "output_type": "stream",
     "text": [
      "[1000]\ttraining's binary_logloss: 0.226377\tvalid_1's binary_logloss: 0.283715\n",
      "Did not meet early stopping. Best iteration is:\n",
      "[1000]\ttraining's binary_logloss: 0.226377\tvalid_1's binary_logloss: 0.283715\n",
      "[LightGBM] [Info] Number of positive: 1729, number of negative: 5411\n",
      "[LightGBM] [Warning] Auto-choosing row-wise multi-threading, the overhead of testing was 0.001212 seconds.\n",
      "You can set `force_row_wise=true` to remove the overhead.\n",
      "And if memory is not enough, you can set `force_col_wise=true`.\n",
      "[LightGBM] [Info] Total Bins 462\n",
      "[LightGBM] [Info] Number of data points in the train set: 7140, number of used features: 11\n",
      "[LightGBM] [Info] [binary:BoostFromScore]: pavg=0.242157 -> initscore=-1.140891\n",
      "[LightGBM] [Info] Start training from score -1.140891\n"
     ]
    },
    {
     "name": "stderr",
     "output_type": "stream",
     "text": [
      "/Users/yutahirai/opt/anaconda3/envs/matlab/lib/python3.8/site-packages/lightgbm/engine.py:181: UserWarning: 'early_stopping_rounds' argument is deprecated and will be removed in a future release of LightGBM. Pass 'early_stopping()' callback via 'callbacks' argument instead.\n",
      "  _log_warning(\"'early_stopping_rounds' argument is deprecated and will be removed in a future release of LightGBM. \"\n",
      "/Users/yutahirai/opt/anaconda3/envs/matlab/lib/python3.8/site-packages/lightgbm/engine.py:239: UserWarning: 'verbose_eval' argument is deprecated and will be removed in a future release of LightGBM. Pass 'log_evaluation()' callback via 'callbacks' argument instead.\n",
      "  _log_warning(\"'verbose_eval' argument is deprecated and will be removed in a future release of LightGBM. \"\n"
     ]
    },
    {
     "name": "stdout",
     "output_type": "stream",
     "text": [
      "Training until validation scores don't improve for 100 rounds\n",
      "[100]\ttraining's binary_logloss: 0.1017\tvalid_1's binary_logloss: 0.285697\n"
     ]
    },
    {
     "name": "stderr",
     "output_type": "stream",
     "text": [
      "\u001b[32m[I 2022-02-15 18:19:26,621]\u001b[0m Trial 12 finished with value: 0.2742394022776714 and parameters: {'max_bin': 405, 'learning_rate': 0.06173170628778822, 'num_leaves': 123}. Best is trial 4 with value: 0.26379524253046954.\u001b[0m\n"
     ]
    },
    {
     "name": "stdout",
     "output_type": "stream",
     "text": [
      "Early stopping, best iteration is:\n",
      "[60]\ttraining's binary_logloss: 0.15288\tvalid_1's binary_logloss: 0.274239\n",
      "[LightGBM] [Info] Number of positive: 1729, number of negative: 5411\n",
      "[LightGBM] [Warning] Auto-choosing row-wise multi-threading, the overhead of testing was 0.000623 seconds.\n",
      "You can set `force_row_wise=true` to remove the overhead.\n",
      "And if memory is not enough, you can set `force_col_wise=true`.\n",
      "[LightGBM] [Info] Total Bins 464\n",
      "[LightGBM] [Info] Number of data points in the train set: 7140, number of used features: 11\n",
      "[LightGBM] [Info] [binary:BoostFromScore]: pavg=0.242157 -> initscore=-1.140891\n",
      "[LightGBM] [Info] Start training from score -1.140891\n",
      "Training until validation scores don't improve for 100 rounds\n"
     ]
    },
    {
     "name": "stderr",
     "output_type": "stream",
     "text": [
      "/Users/yutahirai/opt/anaconda3/envs/matlab/lib/python3.8/site-packages/lightgbm/engine.py:181: UserWarning: 'early_stopping_rounds' argument is deprecated and will be removed in a future release of LightGBM. Pass 'early_stopping()' callback via 'callbacks' argument instead.\n",
      "  _log_warning(\"'early_stopping_rounds' argument is deprecated and will be removed in a future release of LightGBM. \"\n",
      "/Users/yutahirai/opt/anaconda3/envs/matlab/lib/python3.8/site-packages/lightgbm/engine.py:239: UserWarning: 'verbose_eval' argument is deprecated and will be removed in a future release of LightGBM. Pass 'log_evaluation()' callback via 'callbacks' argument instead.\n",
      "  _log_warning(\"'verbose_eval' argument is deprecated and will be removed in a future release of LightGBM. \"\n"
     ]
    },
    {
     "name": "stdout",
     "output_type": "stream",
     "text": [
      "[100]\ttraining's binary_logloss: 0.182062\tvalid_1's binary_logloss: 0.268588\n"
     ]
    },
    {
     "name": "stderr",
     "output_type": "stream",
     "text": [
      "\u001b[32m[I 2022-02-15 18:19:27,241]\u001b[0m Trial 13 finished with value: 0.26805974733710886 and parameters: {'max_bin': 422, 'learning_rate': 0.03601483926732123, 'num_leaves': 74}. Best is trial 4 with value: 0.26379524253046954.\u001b[0m\n"
     ]
    },
    {
     "name": "stdout",
     "output_type": "stream",
     "text": [
      "[200]\ttraining's binary_logloss: 0.126008\tvalid_1's binary_logloss: 0.276448\n",
      "Early stopping, best iteration is:\n",
      "[106]\ttraining's binary_logloss: 0.176988\tvalid_1's binary_logloss: 0.26806\n",
      "[LightGBM] [Info] Number of positive: 1729, number of negative: 5411\n",
      "[LightGBM] [Warning] Auto-choosing row-wise multi-threading, the overhead of testing was 0.000399 seconds.\n",
      "You can set `force_row_wise=true` to remove the overhead.\n",
      "And if memory is not enough, you can set `force_col_wise=true`.\n",
      "[LightGBM] [Info] Total Bins 466\n",
      "[LightGBM] [Info] Number of data points in the train set: 7140, number of used features: 11\n",
      "[LightGBM] [Info] [binary:BoostFromScore]: pavg=0.242157 -> initscore=-1.140891\n",
      "[LightGBM] [Info] Start training from score -1.140891\n",
      "Training until validation scores don't improve for 100 rounds\n"
     ]
    },
    {
     "name": "stderr",
     "output_type": "stream",
     "text": [
      "/Users/yutahirai/opt/anaconda3/envs/matlab/lib/python3.8/site-packages/lightgbm/engine.py:181: UserWarning: 'early_stopping_rounds' argument is deprecated and will be removed in a future release of LightGBM. Pass 'early_stopping()' callback via 'callbacks' argument instead.\n",
      "  _log_warning(\"'early_stopping_rounds' argument is deprecated and will be removed in a future release of LightGBM. \"\n",
      "/Users/yutahirai/opt/anaconda3/envs/matlab/lib/python3.8/site-packages/lightgbm/engine.py:239: UserWarning: 'verbose_eval' argument is deprecated and will be removed in a future release of LightGBM. Pass 'log_evaluation()' callback via 'callbacks' argument instead.\n",
      "  _log_warning(\"'verbose_eval' argument is deprecated and will be removed in a future release of LightGBM. \"\n"
     ]
    },
    {
     "name": "stdout",
     "output_type": "stream",
     "text": [
      "[100]\ttraining's binary_logloss: 0.353299\tvalid_1's binary_logloss: 0.372984\n",
      "[200]\ttraining's binary_logloss: 0.273546\tvalid_1's binary_logloss: 0.311162\n",
      "[300]\ttraining's binary_logloss: 0.231529\tvalid_1's binary_logloss: 0.286947\n",
      "[400]\ttraining's binary_logloss: 0.204874\tvalid_1's binary_logloss: 0.276971\n",
      "[500]\ttraining's binary_logloss: 0.185221\tvalid_1's binary_logloss: 0.27308\n",
      "[600]\ttraining's binary_logloss: 0.166905\tvalid_1's binary_logloss: 0.271529\n"
     ]
    },
    {
     "name": "stderr",
     "output_type": "stream",
     "text": [
      "\u001b[32m[I 2022-02-15 18:19:30,347]\u001b[0m Trial 14 finished with value: 0.27144683424555077 and parameters: {'max_bin': 426, 'learning_rate': 0.006116524615764057, 'num_leaves': 96}. Best is trial 4 with value: 0.26379524253046954.\u001b[0m\n"
     ]
    },
    {
     "name": "stdout",
     "output_type": "stream",
     "text": [
      "[700]\ttraining's binary_logloss: 0.152028\tvalid_1's binary_logloss: 0.272078\n",
      "Early stopping, best iteration is:\n",
      "[618]\ttraining's binary_logloss: 0.164096\tvalid_1's binary_logloss: 0.271447\n",
      "[LightGBM] [Info] Number of positive: 1729, number of negative: 5411\n",
      "[LightGBM] [Warning] Auto-choosing row-wise multi-threading, the overhead of testing was 0.000585 seconds.\n",
      "You can set `force_row_wise=true` to remove the overhead.\n",
      "And if memory is not enough, you can set `force_col_wise=true`.\n",
      "[LightGBM] [Info] Total Bins 463\n",
      "[LightGBM] [Info] Number of data points in the train set: 7140, number of used features: 11\n",
      "[LightGBM] [Info] [binary:BoostFromScore]: pavg=0.242157 -> initscore=-1.140891\n",
      "[LightGBM] [Info] Start training from score -1.140891\n",
      "Training until validation scores don't improve for 100 rounds\n"
     ]
    },
    {
     "name": "stderr",
     "output_type": "stream",
     "text": [
      "/Users/yutahirai/opt/anaconda3/envs/matlab/lib/python3.8/site-packages/lightgbm/engine.py:181: UserWarning: 'early_stopping_rounds' argument is deprecated and will be removed in a future release of LightGBM. Pass 'early_stopping()' callback via 'callbacks' argument instead.\n",
      "  _log_warning(\"'early_stopping_rounds' argument is deprecated and will be removed in a future release of LightGBM. \"\n",
      "/Users/yutahirai/opt/anaconda3/envs/matlab/lib/python3.8/site-packages/lightgbm/engine.py:239: UserWarning: 'verbose_eval' argument is deprecated and will be removed in a future release of LightGBM. Pass 'log_evaluation()' callback via 'callbacks' argument instead.\n",
      "  _log_warning(\"'verbose_eval' argument is deprecated and will be removed in a future release of LightGBM. \"\n"
     ]
    },
    {
     "name": "stdout",
     "output_type": "stream",
     "text": [
      "[100]\ttraining's binary_logloss: 0.243681\tvalid_1's binary_logloss: 0.279042\n"
     ]
    },
    {
     "name": "stderr",
     "output_type": "stream",
     "text": [
      "\u001b[32m[I 2022-02-15 18:19:31,236]\u001b[0m Trial 15 finished with value: 0.26371451214887354 and parameters: {'max_bin': 419, 'learning_rate': 0.021117217851276706, 'num_leaves': 44}. Best is trial 15 with value: 0.26371451214887354.\u001b[0m\n"
     ]
    },
    {
     "name": "stdout",
     "output_type": "stream",
     "text": [
      "[200]\ttraining's binary_logloss: 0.196248\tvalid_1's binary_logloss: 0.263765\n",
      "Early stopping, best iteration is:\n",
      "[199]\ttraining's binary_logloss: 0.19655\tvalid_1's binary_logloss: 0.263715\n",
      "[LightGBM] [Info] Number of positive: 1729, number of negative: 5411\n",
      "[LightGBM] [Warning] Auto-choosing row-wise multi-threading, the overhead of testing was 0.000956 seconds.\n",
      "You can set `force_row_wise=true` to remove the overhead.\n",
      "And if memory is not enough, you can set `force_col_wise=true`.\n",
      "[LightGBM] [Info] Total Bins 435\n",
      "[LightGBM] [Info] Number of data points in the train set: 7140, number of used features: 11\n",
      "[LightGBM] [Info] [binary:BoostFromScore]: pavg=0.242157 -> initscore=-1.140891\n",
      "[LightGBM] [Info] Start training from score -1.140891\n",
      "Training until validation scores don't improve for 100 rounds\n"
     ]
    },
    {
     "name": "stderr",
     "output_type": "stream",
     "text": [
      "/Users/yutahirai/opt/anaconda3/envs/matlab/lib/python3.8/site-packages/lightgbm/engine.py:181: UserWarning: 'early_stopping_rounds' argument is deprecated and will be removed in a future release of LightGBM. Pass 'early_stopping()' callback via 'callbacks' argument instead.\n",
      "  _log_warning(\"'early_stopping_rounds' argument is deprecated and will be removed in a future release of LightGBM. \"\n",
      "/Users/yutahirai/opt/anaconda3/envs/matlab/lib/python3.8/site-packages/lightgbm/engine.py:239: UserWarning: 'verbose_eval' argument is deprecated and will be removed in a future release of LightGBM. Pass 'log_evaluation()' callback via 'callbacks' argument instead.\n",
      "  _log_warning(\"'verbose_eval' argument is deprecated and will be removed in a future release of LightGBM. \"\n"
     ]
    },
    {
     "name": "stdout",
     "output_type": "stream",
     "text": [
      "[100]\ttraining's binary_logloss: 0.172334\tvalid_1's binary_logloss: 0.270645\n"
     ]
    },
    {
     "name": "stderr",
     "output_type": "stream",
     "text": [
      "\u001b[32m[I 2022-02-15 18:19:31,815]\u001b[0m Trial 16 finished with value: 0.2699946347382844 and parameters: {'max_bin': 332, 'learning_rate': 0.036434706017168, 'num_leaves': 87}. Best is trial 15 with value: 0.26371451214887354.\u001b[0m\n"
     ]
    },
    {
     "name": "stdout",
     "output_type": "stream",
     "text": [
      "[200]\ttraining's binary_logloss: 0.112741\tvalid_1's binary_logloss: 0.280664\n",
      "Early stopping, best iteration is:\n",
      "[109]\ttraining's binary_logloss: 0.164292\tvalid_1's binary_logloss: 0.269995\n",
      "[LightGBM] [Info] Number of positive: 1729, number of negative: 5411\n",
      "[LightGBM] [Warning] Auto-choosing row-wise multi-threading, the overhead of testing was 0.000446 seconds.\n",
      "You can set `force_row_wise=true` to remove the overhead.\n",
      "And if memory is not enough, you can set `force_col_wise=true`.\n",
      "[LightGBM] [Info] Total Bins 447\n",
      "[LightGBM] [Info] Number of data points in the train set: 7140, number of used features: 11\n",
      "[LightGBM] [Info] [binary:BoostFromScore]: pavg=0.242157 -> initscore=-1.140891\n",
      "[LightGBM] [Info] Start training from score -1.140891\n",
      "Training until validation scores don't improve for 100 rounds\n"
     ]
    },
    {
     "name": "stderr",
     "output_type": "stream",
     "text": [
      "/Users/yutahirai/opt/anaconda3/envs/matlab/lib/python3.8/site-packages/lightgbm/engine.py:181: UserWarning: 'early_stopping_rounds' argument is deprecated and will be removed in a future release of LightGBM. Pass 'early_stopping()' callback via 'callbacks' argument instead.\n",
      "  _log_warning(\"'early_stopping_rounds' argument is deprecated and will be removed in a future release of LightGBM. \"\n",
      "/Users/yutahirai/opt/anaconda3/envs/matlab/lib/python3.8/site-packages/lightgbm/engine.py:239: UserWarning: 'verbose_eval' argument is deprecated and will be removed in a future release of LightGBM. Pass 'log_evaluation()' callback via 'callbacks' argument instead.\n",
      "  _log_warning(\"'verbose_eval' argument is deprecated and will be removed in a future release of LightGBM. \"\n",
      "\u001b[32m[I 2022-02-15 18:19:32,064]\u001b[0m Trial 17 finished with value: 0.26336200025539147 and parameters: {'max_bin': 362, 'learning_rate': 0.0988385464221167, 'num_leaves': 41}. Best is trial 17 with value: 0.26336200025539147.\u001b[0m\n"
     ]
    },
    {
     "name": "stdout",
     "output_type": "stream",
     "text": [
      "[100]\ttraining's binary_logloss: 0.144721\tvalid_1's binary_logloss: 0.268039\n",
      "Early stopping, best iteration is:\n",
      "[44]\ttraining's binary_logloss: 0.196449\tvalid_1's binary_logloss: 0.263362\n",
      "[LightGBM] [Info] Number of positive: 1729, number of negative: 5411\n",
      "[LightGBM] [Warning] Auto-choosing row-wise multi-threading, the overhead of testing was 0.000480 seconds.\n",
      "You can set `force_row_wise=true` to remove the overhead.\n",
      "And if memory is not enough, you can set `force_col_wise=true`.\n",
      "[LightGBM] [Info] Total Bins 419\n",
      "[LightGBM] [Info] Number of data points in the train set: 7140, number of used features: 11\n",
      "[LightGBM] [Info] [binary:BoostFromScore]: pavg=0.242157 -> initscore=-1.140891\n",
      "[LightGBM] [Info] Start training from score -1.140891\n",
      "Training until validation scores don't improve for 100 rounds\n"
     ]
    },
    {
     "name": "stderr",
     "output_type": "stream",
     "text": [
      "/Users/yutahirai/opt/anaconda3/envs/matlab/lib/python3.8/site-packages/lightgbm/engine.py:181: UserWarning: 'early_stopping_rounds' argument is deprecated and will be removed in a future release of LightGBM. Pass 'early_stopping()' callback via 'callbacks' argument instead.\n",
      "  _log_warning(\"'early_stopping_rounds' argument is deprecated and will be removed in a future release of LightGBM. \"\n",
      "/Users/yutahirai/opt/anaconda3/envs/matlab/lib/python3.8/site-packages/lightgbm/engine.py:239: UserWarning: 'verbose_eval' argument is deprecated and will be removed in a future release of LightGBM. Pass 'log_evaluation()' callback via 'callbacks' argument instead.\n",
      "  _log_warning(\"'verbose_eval' argument is deprecated and will be removed in a future release of LightGBM. \"\n"
     ]
    },
    {
     "name": "stdout",
     "output_type": "stream",
     "text": [
      "[100]\ttraining's binary_logloss: 0.243674\tvalid_1's binary_logloss: 0.292826\n",
      "[200]\ttraining's binary_logloss: 0.180031\tvalid_1's binary_logloss: 0.272332\n"
     ]
    },
    {
     "name": "stderr",
     "output_type": "stream",
     "text": [
      "\u001b[32m[I 2022-02-15 18:19:33,033]\u001b[0m Trial 18 finished with value: 0.2718203782669379 and parameters: {'max_bin': 306, 'learning_rate': 0.016214820836711125, 'num_leaves': 95}. Best is trial 17 with value: 0.26336200025539147.\u001b[0m\n"
     ]
    },
    {
     "name": "stdout",
     "output_type": "stream",
     "text": [
      "[300]\ttraining's binary_logloss: 0.14113\tvalid_1's binary_logloss: 0.273535\n",
      "Early stopping, best iteration is:\n",
      "[235]\ttraining's binary_logloss: 0.164111\tvalid_1's binary_logloss: 0.27182\n",
      "[LightGBM] [Info] Number of positive: 1729, number of negative: 5411\n",
      "[LightGBM] [Warning] Auto-choosing row-wise multi-threading, the overhead of testing was 0.000578 seconds.\n",
      "You can set `force_row_wise=true` to remove the overhead.\n",
      "And if memory is not enough, you can set `force_col_wise=true`.\n",
      "[LightGBM] [Info] Total Bins 428\n",
      "[LightGBM] [Info] Number of data points in the train set: 7140, number of used features: 11\n",
      "[LightGBM] [Info] [binary:BoostFromScore]: pavg=0.242157 -> initscore=-1.140891\n",
      "[LightGBM] [Info] Start training from score -1.140891\n",
      "Training until validation scores don't improve for 100 rounds\n"
     ]
    },
    {
     "name": "stderr",
     "output_type": "stream",
     "text": [
      "/Users/yutahirai/opt/anaconda3/envs/matlab/lib/python3.8/site-packages/lightgbm/engine.py:181: UserWarning: 'early_stopping_rounds' argument is deprecated and will be removed in a future release of LightGBM. Pass 'early_stopping()' callback via 'callbacks' argument instead.\n",
      "  _log_warning(\"'early_stopping_rounds' argument is deprecated and will be removed in a future release of LightGBM. \"\n",
      "/Users/yutahirai/opt/anaconda3/envs/matlab/lib/python3.8/site-packages/lightgbm/engine.py:239: UserWarning: 'verbose_eval' argument is deprecated and will be removed in a future release of LightGBM. Pass 'log_evaluation()' callback via 'callbacks' argument instead.\n",
      "  _log_warning(\"'verbose_eval' argument is deprecated and will be removed in a future release of LightGBM. \"\n",
      "\u001b[32m[I 2022-02-15 18:19:33,382]\u001b[0m Trial 19 finished with value: 0.26360622935991557 and parameters: {'max_bin': 317, 'learning_rate': 0.046684446208345005, 'num_leaves': 55}. Best is trial 17 with value: 0.26336200025539147.\u001b[0m\n"
     ]
    },
    {
     "name": "stdout",
     "output_type": "stream",
     "text": [
      "[100]\ttraining's binary_logloss: 0.176833\tvalid_1's binary_logloss: 0.263762\n",
      "Early stopping, best iteration is:\n",
      "[89]\ttraining's binary_logloss: 0.185512\tvalid_1's binary_logloss: 0.263606\n",
      "[LightGBM] [Info] Number of positive: 1729, number of negative: 5411\n",
      "[LightGBM] [Warning] Auto-choosing row-wise multi-threading, the overhead of testing was 0.000391 seconds.\n",
      "You can set `force_row_wise=true` to remove the overhead.\n",
      "And if memory is not enough, you can set `force_col_wise=true`.\n",
      "[LightGBM] [Info] Total Bins 407\n",
      "[LightGBM] [Info] Number of data points in the train set: 7140, number of used features: 11\n",
      "[LightGBM] [Info] [binary:BoostFromScore]: pavg=0.242157 -> initscore=-1.140891\n",
      "[LightGBM] [Info] Start training from score -1.140891\n",
      "Training until validation scores don't improve for 100 rounds\n"
     ]
    },
    {
     "name": "stderr",
     "output_type": "stream",
     "text": [
      "/Users/yutahirai/opt/anaconda3/envs/matlab/lib/python3.8/site-packages/lightgbm/engine.py:181: UserWarning: 'early_stopping_rounds' argument is deprecated and will be removed in a future release of LightGBM. Pass 'early_stopping()' callback via 'callbacks' argument instead.\n",
      "  _log_warning(\"'early_stopping_rounds' argument is deprecated and will be removed in a future release of LightGBM. \"\n",
      "/Users/yutahirai/opt/anaconda3/envs/matlab/lib/python3.8/site-packages/lightgbm/engine.py:239: UserWarning: 'verbose_eval' argument is deprecated and will be removed in a future release of LightGBM. Pass 'log_evaluation()' callback via 'callbacks' argument instead.\n",
      "  _log_warning(\"'verbose_eval' argument is deprecated and will be removed in a future release of LightGBM. \"\n"
     ]
    },
    {
     "name": "stdout",
     "output_type": "stream",
     "text": [
      "[100]\ttraining's binary_logloss: 0.284082\tvalid_1's binary_logloss: 0.318568\n",
      "[200]\ttraining's binary_logloss: 0.21378\tvalid_1's binary_logloss: 0.280312\n",
      "[300]\ttraining's binary_logloss: 0.17746\tvalid_1's binary_logloss: 0.272488\n",
      "[400]\ttraining's binary_logloss: 0.149285\tvalid_1's binary_logloss: 0.272457\n",
      "Early stopping, best iteration is:\n",
      "[350]\ttraining's binary_logloss: 0.162319\tvalid_1's binary_logloss: 0.271542\n"
     ]
    },
    {
     "name": "stderr",
     "output_type": "stream",
     "text": [
      "\u001b[32m[I 2022-02-15 18:19:34,469]\u001b[0m Trial 20 finished with value: 0.27154199913978155 and parameters: {'max_bin': 294, 'learning_rate': 0.011126476602314082, 'num_leaves': 95}. Best is trial 17 with value: 0.26336200025539147.\u001b[0m\n",
      "/Users/yutahirai/opt/anaconda3/envs/matlab/lib/python3.8/site-packages/lightgbm/engine.py:181: UserWarning: 'early_stopping_rounds' argument is deprecated and will be removed in a future release of LightGBM. Pass 'early_stopping()' callback via 'callbacks' argument instead.\n",
      "  _log_warning(\"'early_stopping_rounds' argument is deprecated and will be removed in a future release of LightGBM. \"\n",
      "/Users/yutahirai/opt/anaconda3/envs/matlab/lib/python3.8/site-packages/lightgbm/engine.py:239: UserWarning: 'verbose_eval' argument is deprecated and will be removed in a future release of LightGBM. Pass 'log_evaluation()' callback via 'callbacks' argument instead.\n",
      "  _log_warning(\"'verbose_eval' argument is deprecated and will be removed in a future release of LightGBM. \"\n"
     ]
    },
    {
     "name": "stdout",
     "output_type": "stream",
     "text": [
      "[LightGBM] [Info] Number of positive: 1729, number of negative: 5411\n",
      "[LightGBM] [Warning] Auto-choosing row-wise multi-threading, the overhead of testing was 0.000972 seconds.\n",
      "You can set `force_row_wise=true` to remove the overhead.\n",
      "And if memory is not enough, you can set `force_col_wise=true`.\n",
      "[LightGBM] [Info] Total Bins 401\n",
      "[LightGBM] [Info] Number of data points in the train set: 7140, number of used features: 11\n",
      "[LightGBM] [Info] [binary:BoostFromScore]: pavg=0.242157 -> initscore=-1.140891\n",
      "[LightGBM] [Info] Start training from score -1.140891\n",
      "Training until validation scores don't improve for 100 rounds\n",
      "[100]\ttraining's binary_logloss: 0.235919\tvalid_1's binary_logloss: 0.281722\n",
      "[200]\ttraining's binary_logloss: 0.179042\tvalid_1's binary_logloss: 0.266522\n",
      "[300]\ttraining's binary_logloss: 0.148242\tvalid_1's binary_logloss: 0.269201\n",
      "Early stopping, best iteration is:\n",
      "[202]\ttraining's binary_logloss: 0.178213\tvalid_1's binary_logloss: 0.26642\n"
     ]
    },
    {
     "name": "stderr",
     "output_type": "stream",
     "text": [
      "\u001b[32m[I 2022-02-15 18:19:35,016]\u001b[0m Trial 21 finished with value: 0.266420033389679 and parameters: {'max_bin': 288, 'learning_rate': 0.019738577931837344, 'num_leaves': 67}. Best is trial 17 with value: 0.26336200025539147.\u001b[0m\n",
      "/Users/yutahirai/opt/anaconda3/envs/matlab/lib/python3.8/site-packages/lightgbm/engine.py:181: UserWarning: 'early_stopping_rounds' argument is deprecated and will be removed in a future release of LightGBM. Pass 'early_stopping()' callback via 'callbacks' argument instead.\n",
      "  _log_warning(\"'early_stopping_rounds' argument is deprecated and will be removed in a future release of LightGBM. \"\n",
      "/Users/yutahirai/opt/anaconda3/envs/matlab/lib/python3.8/site-packages/lightgbm/engine.py:239: UserWarning: 'verbose_eval' argument is deprecated and will be removed in a future release of LightGBM. Pass 'log_evaluation()' callback via 'callbacks' argument instead.\n",
      "  _log_warning(\"'verbose_eval' argument is deprecated and will be removed in a future release of LightGBM. \"\n"
     ]
    },
    {
     "name": "stdout",
     "output_type": "stream",
     "text": [
      "[LightGBM] [Info] Number of positive: 1729, number of negative: 5411\n",
      "[LightGBM] [Warning] Auto-choosing row-wise multi-threading, the overhead of testing was 0.000810 seconds.\n",
      "You can set `force_row_wise=true` to remove the overhead.\n",
      "And if memory is not enough, you can set `force_col_wise=true`.\n",
      "[LightGBM] [Info] Total Bins 471\n",
      "[LightGBM] [Info] Number of data points in the train set: 7140, number of used features: 11\n",
      "[LightGBM] [Info] [binary:BoostFromScore]: pavg=0.242157 -> initscore=-1.140891\n",
      "[LightGBM] [Info] Start training from score -1.140891\n",
      "Training until validation scores don't improve for 100 rounds\n",
      "[100]\ttraining's binary_logloss: 0.296007\tvalid_1's binary_logloss: 0.329033\n",
      "[200]\ttraining's binary_logloss: 0.220261\tvalid_1's binary_logloss: 0.284595\n",
      "[300]\ttraining's binary_logloss: 0.182188\tvalid_1's binary_logloss: 0.275523\n",
      "[400]\ttraining's binary_logloss: 0.152378\tvalid_1's binary_logloss: 0.274033\n"
     ]
    },
    {
     "name": "stderr",
     "output_type": "stream",
     "text": [
      "\u001b[32m[I 2022-02-15 18:19:36,371]\u001b[0m Trial 22 finished with value: 0.2737340933891977 and parameters: {'max_bin': 456, 'learning_rate': 0.009800417451726821, 'num_leaves': 113}. Best is trial 17 with value: 0.26336200025539147.\u001b[0m\n"
     ]
    },
    {
     "name": "stdout",
     "output_type": "stream",
     "text": [
      "Early stopping, best iteration is:\n",
      "[378]\ttraining's binary_logloss: 0.158217\tvalid_1's binary_logloss: 0.273734\n",
      "[LightGBM] [Info] Number of positive: 1729, number of negative: 5411\n",
      "[LightGBM] [Warning] Auto-choosing row-wise multi-threading, the overhead of testing was 0.000524 seconds.\n",
      "You can set `force_row_wise=true` to remove the overhead.\n",
      "And if memory is not enough, you can set `force_col_wise=true`.\n",
      "[LightGBM] [Info] Total Bins 391\n",
      "[LightGBM] [Info] Number of data points in the train set: 7140, number of used features: 11\n",
      "[LightGBM] [Info] [binary:BoostFromScore]: pavg=0.242157 -> initscore=-1.140891\n",
      "[LightGBM] [Info] Start training from score -1.140891\n",
      "Training until validation scores don't improve for 100 rounds\n"
     ]
    },
    {
     "name": "stderr",
     "output_type": "stream",
     "text": [
      "/Users/yutahirai/opt/anaconda3/envs/matlab/lib/python3.8/site-packages/lightgbm/engine.py:181: UserWarning: 'early_stopping_rounds' argument is deprecated and will be removed in a future release of LightGBM. Pass 'early_stopping()' callback via 'callbacks' argument instead.\n",
      "  _log_warning(\"'early_stopping_rounds' argument is deprecated and will be removed in a future release of LightGBM. \"\n",
      "/Users/yutahirai/opt/anaconda3/envs/matlab/lib/python3.8/site-packages/lightgbm/engine.py:239: UserWarning: 'verbose_eval' argument is deprecated and will be removed in a future release of LightGBM. Pass 'log_evaluation()' callback via 'callbacks' argument instead.\n",
      "  _log_warning(\"'verbose_eval' argument is deprecated and will be removed in a future release of LightGBM. \"\n",
      "\u001b[32m[I 2022-02-15 18:19:36,736]\u001b[0m Trial 23 finished with value: 0.2694471958279191 and parameters: {'max_bin': 278, 'learning_rate': 0.09764830055483824, 'num_leaves': 77}. Best is trial 17 with value: 0.26336200025539147.\u001b[0m\n"
     ]
    },
    {
     "name": "stdout",
     "output_type": "stream",
     "text": [
      "[100]\ttraining's binary_logloss: 0.100082\tvalid_1's binary_logloss: 0.288759\n",
      "Early stopping, best iteration is:\n",
      "[43]\ttraining's binary_logloss: 0.166658\tvalid_1's binary_logloss: 0.269447\n",
      "[LightGBM] [Info] Number of positive: 1729, number of negative: 5411\n",
      "[LightGBM] [Warning] Auto-choosing row-wise multi-threading, the overhead of testing was 0.000550 seconds.\n",
      "You can set `force_row_wise=true` to remove the overhead.\n",
      "And if memory is not enough, you can set `force_col_wise=true`.\n",
      "[LightGBM] [Info] Total Bins 477\n",
      "[LightGBM] [Info] Number of data points in the train set: 7140, number of used features: 11\n",
      "[LightGBM] [Info] [binary:BoostFromScore]: pavg=0.242157 -> initscore=-1.140891\n",
      "[LightGBM] [Info] Start training from score -1.140891\n",
      "Training until validation scores don't improve for 100 rounds\n"
     ]
    },
    {
     "name": "stderr",
     "output_type": "stream",
     "text": [
      "/Users/yutahirai/opt/anaconda3/envs/matlab/lib/python3.8/site-packages/lightgbm/engine.py:181: UserWarning: 'early_stopping_rounds' argument is deprecated and will be removed in a future release of LightGBM. Pass 'early_stopping()' callback via 'callbacks' argument instead.\n",
      "  _log_warning(\"'early_stopping_rounds' argument is deprecated and will be removed in a future release of LightGBM. \"\n",
      "/Users/yutahirai/opt/anaconda3/envs/matlab/lib/python3.8/site-packages/lightgbm/engine.py:239: UserWarning: 'verbose_eval' argument is deprecated and will be removed in a future release of LightGBM. Pass 'log_evaluation()' callback via 'callbacks' argument instead.\n",
      "  _log_warning(\"'verbose_eval' argument is deprecated and will be removed in a future release of LightGBM. \"\n",
      "\u001b[32m[I 2022-02-15 18:19:37,144]\u001b[0m Trial 24 finished with value: 0.27336711362642485 and parameters: {'max_bin': 495, 'learning_rate': 0.060524067422530095, 'num_leaves': 103}. Best is trial 17 with value: 0.26336200025539147.\u001b[0m\n"
     ]
    },
    {
     "name": "stdout",
     "output_type": "stream",
     "text": [
      "[100]\ttraining's binary_logloss: 0.116074\tvalid_1's binary_logloss: 0.282356\n",
      "Early stopping, best iteration is:\n",
      "[53]\ttraining's binary_logloss: 0.176134\tvalid_1's binary_logloss: 0.273367\n",
      "[LightGBM] [Info] Number of positive: 1729, number of negative: 5411\n",
      "[LightGBM] [Warning] Auto-choosing row-wise multi-threading, the overhead of testing was 0.000652 seconds.\n",
      "You can set `force_row_wise=true` to remove the overhead.\n",
      "And if memory is not enough, you can set `force_col_wise=true`.\n",
      "[LightGBM] [Info] Total Bins 377\n",
      "[LightGBM] [Info] Number of data points in the train set: 7140, number of used features: 11\n",
      "[LightGBM] [Info] [binary:BoostFromScore]: pavg=0.242157 -> initscore=-1.140891\n",
      "[LightGBM] [Info] Start training from score -1.140891\n",
      "Training until validation scores don't improve for 100 rounds\n"
     ]
    },
    {
     "name": "stderr",
     "output_type": "stream",
     "text": [
      "/Users/yutahirai/opt/anaconda3/envs/matlab/lib/python3.8/site-packages/lightgbm/engine.py:181: UserWarning: 'early_stopping_rounds' argument is deprecated and will be removed in a future release of LightGBM. Pass 'early_stopping()' callback via 'callbacks' argument instead.\n",
      "  _log_warning(\"'early_stopping_rounds' argument is deprecated and will be removed in a future release of LightGBM. \"\n",
      "/Users/yutahirai/opt/anaconda3/envs/matlab/lib/python3.8/site-packages/lightgbm/engine.py:239: UserWarning: 'verbose_eval' argument is deprecated and will be removed in a future release of LightGBM. Pass 'log_evaluation()' callback via 'callbacks' argument instead.\n",
      "  _log_warning(\"'verbose_eval' argument is deprecated and will be removed in a future release of LightGBM. \"\n"
     ]
    },
    {
     "name": "stdout",
     "output_type": "stream",
     "text": [
      "[100]\ttraining's binary_logloss: 0.224046\tvalid_1's binary_logloss: 0.270099\n",
      "[200]\ttraining's binary_logloss: 0.179662\tvalid_1's binary_logloss: 0.264543\n"
     ]
    },
    {
     "name": "stderr",
     "output_type": "stream",
     "text": [
      "\u001b[32m[I 2022-02-15 18:19:37,550]\u001b[0m Trial 25 finished with value: 0.2633296475079766 and parameters: {'max_bin': 264, 'learning_rate': 0.028352415561383317, 'num_leaves': 43}. Best is trial 25 with value: 0.2633296475079766.\u001b[0m\n"
     ]
    },
    {
     "name": "stdout",
     "output_type": "stream",
     "text": [
      "Early stopping, best iteration is:\n",
      "[169]\ttraining's binary_logloss: 0.189364\tvalid_1's binary_logloss: 0.26333\n",
      "[LightGBM] [Info] Number of positive: 1729, number of negative: 5411\n",
      "[LightGBM] [Warning] Auto-choosing row-wise multi-threading, the overhead of testing was 0.000423 seconds.\n",
      "You can set `force_row_wise=true` to remove the overhead.\n",
      "And if memory is not enough, you can set `force_col_wise=true`.\n",
      "[LightGBM] [Info] Total Bins 432\n",
      "[LightGBM] [Info] Number of data points in the train set: 7140, number of used features: 11\n",
      "[LightGBM] [Info] [binary:BoostFromScore]: pavg=0.242157 -> initscore=-1.140891\n",
      "[LightGBM] [Info] Start training from score -1.140891\n",
      "Training until validation scores don't improve for 100 rounds\n",
      "[100]\ttraining's binary_logloss: 0.285276\tvalid_1's binary_logloss: 0.312785\n"
     ]
    },
    {
     "name": "stderr",
     "output_type": "stream",
     "text": [
      "/Users/yutahirai/opt/anaconda3/envs/matlab/lib/python3.8/site-packages/lightgbm/engine.py:181: UserWarning: 'early_stopping_rounds' argument is deprecated and will be removed in a future release of LightGBM. Pass 'early_stopping()' callback via 'callbacks' argument instead.\n",
      "  _log_warning(\"'early_stopping_rounds' argument is deprecated and will be removed in a future release of LightGBM. \"\n",
      "/Users/yutahirai/opt/anaconda3/envs/matlab/lib/python3.8/site-packages/lightgbm/engine.py:239: UserWarning: 'verbose_eval' argument is deprecated and will be removed in a future release of LightGBM. Pass 'log_evaluation()' callback via 'callbacks' argument instead.\n",
      "  _log_warning(\"'verbose_eval' argument is deprecated and will be removed in a future release of LightGBM. \"\n"
     ]
    },
    {
     "name": "stdout",
     "output_type": "stream",
     "text": [
      "[200]\ttraining's binary_logloss: 0.223033\tvalid_1's binary_logloss: 0.274117\n",
      "[300]\ttraining's binary_logloss: 0.19069\tvalid_1's binary_logloss: 0.266136\n"
     ]
    },
    {
     "name": "stderr",
     "output_type": "stream",
     "text": [
      "\u001b[32m[I 2022-02-15 18:19:38,411]\u001b[0m Trial 26 finished with value: 0.2652486901122368 and parameters: {'max_bin': 327, 'learning_rate': 0.011960899123528981, 'num_leaves': 62}. Best is trial 25 with value: 0.2633296475079766.\u001b[0m\n"
     ]
    },
    {
     "name": "stdout",
     "output_type": "stream",
     "text": [
      "[400]\ttraining's binary_logloss: 0.168433\tvalid_1's binary_logloss: 0.265942\n",
      "Early stopping, best iteration is:\n",
      "[363]\ttraining's binary_logloss: 0.17598\tvalid_1's binary_logloss: 0.265249\n",
      "[LightGBM] [Info] Number of positive: 1729, number of negative: 5411\n",
      "[LightGBM] [Warning] Auto-choosing row-wise multi-threading, the overhead of testing was 0.000556 seconds.\n",
      "You can set `force_row_wise=true` to remove the overhead.\n",
      "And if memory is not enough, you can set `force_col_wise=true`.\n",
      "[LightGBM] [Info] Total Bins 443\n",
      "[LightGBM] [Info] Number of data points in the train set: 7140, number of used features: 11\n",
      "[LightGBM] [Info] [binary:BoostFromScore]: pavg=0.242157 -> initscore=-1.140891\n",
      "[LightGBM] [Info] Start training from score -1.140891\n",
      "Training until validation scores don't improve for 100 rounds\n"
     ]
    },
    {
     "name": "stderr",
     "output_type": "stream",
     "text": [
      "/Users/yutahirai/opt/anaconda3/envs/matlab/lib/python3.8/site-packages/lightgbm/engine.py:181: UserWarning: 'early_stopping_rounds' argument is deprecated and will be removed in a future release of LightGBM. Pass 'early_stopping()' callback via 'callbacks' argument instead.\n",
      "  _log_warning(\"'early_stopping_rounds' argument is deprecated and will be removed in a future release of LightGBM. \"\n",
      "/Users/yutahirai/opt/anaconda3/envs/matlab/lib/python3.8/site-packages/lightgbm/engine.py:239: UserWarning: 'verbose_eval' argument is deprecated and will be removed in a future release of LightGBM. Pass 'log_evaluation()' callback via 'callbacks' argument instead.\n",
      "  _log_warning(\"'verbose_eval' argument is deprecated and will be removed in a future release of LightGBM. \"\n"
     ]
    },
    {
     "name": "stdout",
     "output_type": "stream",
     "text": [
      "[100]\ttraining's binary_logloss: 0.34582\tvalid_1's binary_logloss: 0.367111\n",
      "[200]\ttraining's binary_logloss: 0.266048\tvalid_1's binary_logloss: 0.306643\n",
      "[300]\ttraining's binary_logloss: 0.224495\tvalid_1's binary_logloss: 0.284542\n",
      "[400]\ttraining's binary_logloss: 0.198346\tvalid_1's binary_logloss: 0.276199\n",
      "[500]\ttraining's binary_logloss: 0.177825\tvalid_1's binary_logloss: 0.272977\n",
      "[600]\ttraining's binary_logloss: 0.159747\tvalid_1's binary_logloss: 0.271875\n",
      "Early stopping, best iteration is:\n",
      "[585]\ttraining's binary_logloss: 0.162176\tvalid_1's binary_logloss: 0.271788\n"
     ]
    },
    {
     "name": "stderr",
     "output_type": "stream",
     "text": [
      "\u001b[32m[I 2022-02-15 18:19:40,104]\u001b[0m Trial 27 finished with value: 0.27178824944964386 and parameters: {'max_bin': 356, 'learning_rate': 0.006508334885243558, 'num_leaves': 99}. Best is trial 25 with value: 0.2633296475079766.\u001b[0m\n",
      "/Users/yutahirai/opt/anaconda3/envs/matlab/lib/python3.8/site-packages/lightgbm/engine.py:181: UserWarning: 'early_stopping_rounds' argument is deprecated and will be removed in a future release of LightGBM. Pass 'early_stopping()' callback via 'callbacks' argument instead.\n",
      "  _log_warning(\"'early_stopping_rounds' argument is deprecated and will be removed in a future release of LightGBM. \"\n",
      "/Users/yutahirai/opt/anaconda3/envs/matlab/lib/python3.8/site-packages/lightgbm/engine.py:239: UserWarning: 'verbose_eval' argument is deprecated and will be removed in a future release of LightGBM. Pass 'log_evaluation()' callback via 'callbacks' argument instead.\n",
      "  _log_warning(\"'verbose_eval' argument is deprecated and will be removed in a future release of LightGBM. \"\n"
     ]
    },
    {
     "name": "stdout",
     "output_type": "stream",
     "text": [
      "[LightGBM] [Info] Number of positive: 1729, number of negative: 5411\n",
      "[LightGBM] [Warning] Auto-choosing row-wise multi-threading, the overhead of testing was 0.000586 seconds.\n",
      "You can set `force_row_wise=true` to remove the overhead.\n",
      "And if memory is not enough, you can set `force_col_wise=true`.\n",
      "[LightGBM] [Info] Total Bins 457\n",
      "[LightGBM] [Info] Number of data points in the train set: 7140, number of used features: 11\n",
      "[LightGBM] [Info] [binary:BoostFromScore]: pavg=0.242157 -> initscore=-1.140891\n",
      "[LightGBM] [Info] Start training from score -1.140891\n",
      "Training until validation scores don't improve for 100 rounds\n",
      "[100]\ttraining's binary_logloss: 0.204121\tvalid_1's binary_logloss: 0.273515\n",
      "[200]\ttraining's binary_logloss: 0.142863\tvalid_1's binary_logloss: 0.272798\n"
     ]
    },
    {
     "name": "stderr",
     "output_type": "stream",
     "text": [
      "\u001b[32m[I 2022-02-15 18:19:40,648]\u001b[0m Trial 28 finished with value: 0.27003271950544055 and parameters: {'max_bin': 394, 'learning_rate': 0.026612410144850596, 'num_leaves': 82}. Best is trial 25 with value: 0.2633296475079766.\u001b[0m\n"
     ]
    },
    {
     "name": "stdout",
     "output_type": "stream",
     "text": [
      "Early stopping, best iteration is:\n",
      "[164]\ttraining's binary_logloss: 0.159835\tvalid_1's binary_logloss: 0.270033\n",
      "[LightGBM] [Info] Number of positive: 1729, number of negative: 5411\n",
      "[LightGBM] [Warning] Auto-choosing row-wise multi-threading, the overhead of testing was 0.000372 seconds.\n",
      "You can set `force_row_wise=true` to remove the overhead.\n",
      "And if memory is not enough, you can set `force_col_wise=true`.\n",
      "[LightGBM] [Info] Total Bins 391\n",
      "[LightGBM] [Info] Number of data points in the train set: 7140, number of used features: 11\n",
      "[LightGBM] [Info] [binary:BoostFromScore]: pavg=0.242157 -> initscore=-1.140891\n",
      "[LightGBM] [Info] Start training from score -1.140891\n",
      "Training until validation scores don't improve for 100 rounds\n"
     ]
    },
    {
     "name": "stderr",
     "output_type": "stream",
     "text": [
      "/Users/yutahirai/opt/anaconda3/envs/matlab/lib/python3.8/site-packages/lightgbm/engine.py:181: UserWarning: 'early_stopping_rounds' argument is deprecated and will be removed in a future release of LightGBM. Pass 'early_stopping()' callback via 'callbacks' argument instead.\n",
      "  _log_warning(\"'early_stopping_rounds' argument is deprecated and will be removed in a future release of LightGBM. \"\n",
      "/Users/yutahirai/opt/anaconda3/envs/matlab/lib/python3.8/site-packages/lightgbm/engine.py:239: UserWarning: 'verbose_eval' argument is deprecated and will be removed in a future release of LightGBM. Pass 'log_evaluation()' callback via 'callbacks' argument instead.\n",
      "  _log_warning(\"'verbose_eval' argument is deprecated and will be removed in a future release of LightGBM. \"\n"
     ]
    },
    {
     "name": "stdout",
     "output_type": "stream",
     "text": [
      "[100]\ttraining's binary_logloss: 0.108053\tvalid_1's binary_logloss: 0.2822\n"
     ]
    },
    {
     "name": "stderr",
     "output_type": "stream",
     "text": [
      "\u001b[32m[I 2022-02-15 18:19:41,222]\u001b[0m Trial 29 finished with value: 0.27361714405851456 and parameters: {'max_bin': 278, 'learning_rate': 0.057637054906062316, 'num_leaves': 122}. Best is trial 25 with value: 0.2633296475079766.\u001b[0m\n"
     ]
    },
    {
     "name": "stdout",
     "output_type": "stream",
     "text": [
      "Early stopping, best iteration is:\n",
      "[62]\ttraining's binary_logloss: 0.157726\tvalid_1's binary_logloss: 0.273617\n",
      "[LightGBM] [Info] Number of positive: 1729, number of negative: 5411\n",
      "[LightGBM] [Warning] Auto-choosing row-wise multi-threading, the overhead of testing was 0.000566 seconds.\n",
      "You can set `force_row_wise=true` to remove the overhead.\n",
      "And if memory is not enough, you can set `force_col_wise=true`.\n",
      "[LightGBM] [Info] Total Bins 436\n",
      "[LightGBM] [Info] Number of data points in the train set: 7140, number of used features: 11\n",
      "[LightGBM] [Info] [binary:BoostFromScore]: pavg=0.242157 -> initscore=-1.140891\n",
      "[LightGBM] [Info] Start training from score -1.140891\n",
      "Training until validation scores don't improve for 100 rounds\n"
     ]
    },
    {
     "name": "stderr",
     "output_type": "stream",
     "text": [
      "/Users/yutahirai/opt/anaconda3/envs/matlab/lib/python3.8/site-packages/lightgbm/engine.py:181: UserWarning: 'early_stopping_rounds' argument is deprecated and will be removed in a future release of LightGBM. Pass 'early_stopping()' callback via 'callbacks' argument instead.\n",
      "  _log_warning(\"'early_stopping_rounds' argument is deprecated and will be removed in a future release of LightGBM. \"\n",
      "/Users/yutahirai/opt/anaconda3/envs/matlab/lib/python3.8/site-packages/lightgbm/engine.py:239: UserWarning: 'verbose_eval' argument is deprecated and will be removed in a future release of LightGBM. Pass 'log_evaluation()' callback via 'callbacks' argument instead.\n",
      "  _log_warning(\"'verbose_eval' argument is deprecated and will be removed in a future release of LightGBM. \"\n",
      "\u001b[32m[I 2022-02-15 18:19:41,582]\u001b[0m Trial 30 finished with value: 0.2655203421475834 and parameters: {'max_bin': 333, 'learning_rate': 0.06677429695837181, 'num_leaves': 44}. Best is trial 25 with value: 0.2633296475079766.\u001b[0m\n"
     ]
    },
    {
     "name": "stdout",
     "output_type": "stream",
     "text": [
      "[100]\ttraining's binary_logloss: 0.16783\tvalid_1's binary_logloss: 0.267858\n",
      "Early stopping, best iteration is:\n",
      "[64]\ttraining's binary_logloss: 0.194257\tvalid_1's binary_logloss: 0.26552\n",
      "[LightGBM] [Info] Number of positive: 1729, number of negative: 5411\n",
      "[LightGBM] [Warning] Auto-choosing row-wise multi-threading, the overhead of testing was 0.000749 seconds.\n",
      "You can set `force_row_wise=true` to remove the overhead.\n",
      "And if memory is not enough, you can set `force_col_wise=true`.\n",
      "[LightGBM] [Info] Total Bins 468\n",
      "[LightGBM] [Info] Number of data points in the train set: 7140, number of used features: 11\n",
      "[LightGBM] [Info] [binary:BoostFromScore]: pavg=0.242157 -> initscore=-1.140891\n",
      "[LightGBM] [Info] Start training from score -1.140891\n",
      "Training until validation scores don't improve for 100 rounds\n"
     ]
    },
    {
     "name": "stderr",
     "output_type": "stream",
     "text": [
      "/Users/yutahirai/opt/anaconda3/envs/matlab/lib/python3.8/site-packages/lightgbm/engine.py:181: UserWarning: 'early_stopping_rounds' argument is deprecated and will be removed in a future release of LightGBM. Pass 'early_stopping()' callback via 'callbacks' argument instead.\n",
      "  _log_warning(\"'early_stopping_rounds' argument is deprecated and will be removed in a future release of LightGBM. \"\n",
      "/Users/yutahirai/opt/anaconda3/envs/matlab/lib/python3.8/site-packages/lightgbm/engine.py:239: UserWarning: 'verbose_eval' argument is deprecated and will be removed in a future release of LightGBM. Pass 'log_evaluation()' callback via 'callbacks' argument instead.\n",
      "  _log_warning(\"'verbose_eval' argument is deprecated and will be removed in a future release of LightGBM. \"\n"
     ]
    },
    {
     "name": "stdout",
     "output_type": "stream",
     "text": [
      "[100]\ttraining's binary_logloss: 0.217655\tvalid_1's binary_logloss: 0.268871\n",
      "[200]\ttraining's binary_logloss: 0.171234\tvalid_1's binary_logloss: 0.265912\n"
     ]
    },
    {
     "name": "stderr",
     "output_type": "stream",
     "text": [
      "\u001b[32m[I 2022-02-15 18:19:42,143]\u001b[0m Trial 31 finished with value: 0.26378549210574376 and parameters: {'max_bin': 431, 'learning_rate': 0.02901166868542539, 'num_leaves': 49}. Best is trial 25 with value: 0.2633296475079766.\u001b[0m\n"
     ]
    },
    {
     "name": "stdout",
     "output_type": "stream",
     "text": [
      "Early stopping, best iteration is:\n",
      "[148]\ttraining's binary_logloss: 0.189529\tvalid_1's binary_logloss: 0.263785\n",
      "[LightGBM] [Info] Number of positive: 1729, number of negative: 5411\n",
      "[LightGBM] [Warning] Auto-choosing row-wise multi-threading, the overhead of testing was 0.000622 seconds.\n",
      "You can set `force_row_wise=true` to remove the overhead.\n",
      "And if memory is not enough, you can set `force_col_wise=true`.\n",
      "[LightGBM] [Info] Total Bins 462\n",
      "[LightGBM] [Info] Number of data points in the train set: 7140, number of used features: 11\n",
      "[LightGBM] [Info] [binary:BoostFromScore]: pavg=0.242157 -> initscore=-1.140891\n",
      "[LightGBM] [Info] Start training from score -1.140891\n",
      "Training until validation scores don't improve for 100 rounds\n"
     ]
    },
    {
     "name": "stderr",
     "output_type": "stream",
     "text": [
      "/Users/yutahirai/opt/anaconda3/envs/matlab/lib/python3.8/site-packages/lightgbm/engine.py:181: UserWarning: 'early_stopping_rounds' argument is deprecated and will be removed in a future release of LightGBM. Pass 'early_stopping()' callback via 'callbacks' argument instead.\n",
      "  _log_warning(\"'early_stopping_rounds' argument is deprecated and will be removed in a future release of LightGBM. \"\n",
      "/Users/yutahirai/opt/anaconda3/envs/matlab/lib/python3.8/site-packages/lightgbm/engine.py:239: UserWarning: 'verbose_eval' argument is deprecated and will be removed in a future release of LightGBM. Pass 'log_evaluation()' callback via 'callbacks' argument instead.\n",
      "  _log_warning(\"'verbose_eval' argument is deprecated and will be removed in a future release of LightGBM. \"\n"
     ]
    },
    {
     "name": "stdout",
     "output_type": "stream",
     "text": [
      "[100]\ttraining's binary_logloss: 0.45712\tvalid_1's binary_logloss: 0.465289\n",
      "[200]\ttraining's binary_logloss: 0.393828\tvalid_1's binary_logloss: 0.408886\n",
      "[300]\ttraining's binary_logloss: 0.348158\tvalid_1's binary_logloss: 0.369921\n",
      "[400]\ttraining's binary_logloss: 0.314202\tvalid_1's binary_logloss: 0.342821\n",
      "[500]\ttraining's binary_logloss: 0.288101\tvalid_1's binary_logloss: 0.323161\n",
      "[600]\ttraining's binary_logloss: 0.267363\tvalid_1's binary_logloss: 0.309085\n",
      "[700]\ttraining's binary_logloss: 0.25036\tvalid_1's binary_logloss: 0.298741\n",
      "[800]\ttraining's binary_logloss: 0.236166\tvalid_1's binary_logloss: 0.291346\n",
      "[900]\ttraining's binary_logloss: 0.223961\tvalid_1's binary_logloss: 0.286078\n"
     ]
    },
    {
     "name": "stderr",
     "output_type": "stream",
     "text": [
      "\u001b[32m[I 2022-02-15 18:19:46,100]\u001b[0m Trial 32 finished with value: 0.2822778967607101 and parameters: {'max_bin': 399, 'learning_rate': 0.0021087438641306058, 'num_leaves': 112}. Best is trial 25 with value: 0.2633296475079766.\u001b[0m\n"
     ]
    },
    {
     "name": "stdout",
     "output_type": "stream",
     "text": [
      "[1000]\ttraining's binary_logloss: 0.213561\tvalid_1's binary_logloss: 0.282278\n",
      "Did not meet early stopping. Best iteration is:\n",
      "[1000]\ttraining's binary_logloss: 0.213561\tvalid_1's binary_logloss: 0.282278\n"
     ]
    },
    {
     "name": "stderr",
     "output_type": "stream",
     "text": [
      "/Users/yutahirai/opt/anaconda3/envs/matlab/lib/python3.8/site-packages/lightgbm/engine.py:181: UserWarning: 'early_stopping_rounds' argument is deprecated and will be removed in a future release of LightGBM. Pass 'early_stopping()' callback via 'callbacks' argument instead.\n",
      "  _log_warning(\"'early_stopping_rounds' argument is deprecated and will be removed in a future release of LightGBM. \"\n",
      "/Users/yutahirai/opt/anaconda3/envs/matlab/lib/python3.8/site-packages/lightgbm/engine.py:239: UserWarning: 'verbose_eval' argument is deprecated and will be removed in a future release of LightGBM. Pass 'log_evaluation()' callback via 'callbacks' argument instead.\n",
      "  _log_warning(\"'verbose_eval' argument is deprecated and will be removed in a future release of LightGBM. \"\n"
     ]
    },
    {
     "name": "stdout",
     "output_type": "stream",
     "text": [
      "[LightGBM] [Info] Number of positive: 1729, number of negative: 5411\n",
      "[LightGBM] [Warning] Auto-choosing row-wise multi-threading, the overhead of testing was 0.000744 seconds.\n",
      "You can set `force_row_wise=true` to remove the overhead.\n",
      "And if memory is not enough, you can set `force_col_wise=true`.\n",
      "[LightGBM] [Info] Total Bins 369\n",
      "[LightGBM] [Info] Number of data points in the train set: 7140, number of used features: 11\n",
      "[LightGBM] [Info] [binary:BoostFromScore]: pavg=0.242157 -> initscore=-1.140891\n",
      "[LightGBM] [Info] Start training from score -1.140891\n",
      "Training until validation scores don't improve for 100 rounds\n"
     ]
    },
    {
     "name": "stderr",
     "output_type": "stream",
     "text": [
      "\u001b[32m[I 2022-02-15 18:19:46,548]\u001b[0m Trial 33 finished with value: 0.26532443741912043 and parameters: {'max_bin': 256, 'learning_rate': 0.0678138720259434, 'num_leaves': 58}. Best is trial 25 with value: 0.2633296475079766.\u001b[0m\n"
     ]
    },
    {
     "name": "stdout",
     "output_type": "stream",
     "text": [
      "[100]\ttraining's binary_logloss: 0.149332\tvalid_1's binary_logloss: 0.269612\n",
      "Early stopping, best iteration is:\n",
      "[60]\ttraining's binary_logloss: 0.184192\tvalid_1's binary_logloss: 0.265324\n",
      "[LightGBM] [Info] Number of positive: 1729, number of negative: 5411\n",
      "[LightGBM] [Warning] Auto-choosing row-wise multi-threading, the overhead of testing was 0.000882 seconds.\n",
      "You can set `force_row_wise=true` to remove the overhead.\n",
      "And if memory is not enough, you can set `force_col_wise=true`.\n",
      "[LightGBM] [Info] Total Bins 468\n",
      "[LightGBM] [Info] Number of data points in the train set: 7140, number of used features: 11\n",
      "[LightGBM] [Info] [binary:BoostFromScore]: pavg=0.242157 -> initscore=-1.140891\n",
      "[LightGBM] [Info] Start training from score -1.140891\n",
      "Training until validation scores don't improve for 100 rounds\n"
     ]
    },
    {
     "name": "stderr",
     "output_type": "stream",
     "text": [
      "/Users/yutahirai/opt/anaconda3/envs/matlab/lib/python3.8/site-packages/lightgbm/engine.py:181: UserWarning: 'early_stopping_rounds' argument is deprecated and will be removed in a future release of LightGBM. Pass 'early_stopping()' callback via 'callbacks' argument instead.\n",
      "  _log_warning(\"'early_stopping_rounds' argument is deprecated and will be removed in a future release of LightGBM. \"\n",
      "/Users/yutahirai/opt/anaconda3/envs/matlab/lib/python3.8/site-packages/lightgbm/engine.py:239: UserWarning: 'verbose_eval' argument is deprecated and will be removed in a future release of LightGBM. Pass 'log_evaluation()' callback via 'callbacks' argument instead.\n",
      "  _log_warning(\"'verbose_eval' argument is deprecated and will be removed in a future release of LightGBM. \"\n",
      "\u001b[32m[I 2022-02-15 18:19:46,771]\u001b[0m Trial 34 finished with value: 0.2644065188509277 and parameters: {'max_bin': 435, 'learning_rate': 0.09622263565723209, 'num_leaves': 56}. Best is trial 25 with value: 0.2633296475079766.\u001b[0m\n"
     ]
    },
    {
     "name": "stdout",
     "output_type": "stream",
     "text": [
      "[100]\ttraining's binary_logloss: 0.125027\tvalid_1's binary_logloss: 0.276575\n",
      "Early stopping, best iteration is:\n",
      "[41]\ttraining's binary_logloss: 0.187127\tvalid_1's binary_logloss: 0.264407\n",
      "[LightGBM] [Info] Number of positive: 1729, number of negative: 5411\n",
      "[LightGBM] [Warning] Auto-choosing row-wise multi-threading, the overhead of testing was 0.000470 seconds.\n",
      "You can set `force_row_wise=true` to remove the overhead.\n",
      "And if memory is not enough, you can set `force_col_wise=true`.\n",
      "[LightGBM] [Info] Total Bins 457\n",
      "[LightGBM] [Info] Number of data points in the train set: 7140, number of used features: 11\n",
      "[LightGBM] [Info] [binary:BoostFromScore]: pavg=0.242157 -> initscore=-1.140891\n",
      "[LightGBM] [Info] Start training from score -1.140891\n",
      "Training until validation scores don't improve for 100 rounds\n"
     ]
    },
    {
     "name": "stderr",
     "output_type": "stream",
     "text": [
      "/Users/yutahirai/opt/anaconda3/envs/matlab/lib/python3.8/site-packages/lightgbm/engine.py:181: UserWarning: 'early_stopping_rounds' argument is deprecated and will be removed in a future release of LightGBM. Pass 'early_stopping()' callback via 'callbacks' argument instead.\n",
      "  _log_warning(\"'early_stopping_rounds' argument is deprecated and will be removed in a future release of LightGBM. \"\n",
      "/Users/yutahirai/opt/anaconda3/envs/matlab/lib/python3.8/site-packages/lightgbm/engine.py:239: UserWarning: 'verbose_eval' argument is deprecated and will be removed in a future release of LightGBM. Pass 'log_evaluation()' callback via 'callbacks' argument instead.\n",
      "  _log_warning(\"'verbose_eval' argument is deprecated and will be removed in a future release of LightGBM. \"\n",
      "\u001b[32m[I 2022-02-15 18:19:47,132]\u001b[0m Trial 35 finished with value: 0.2708914090294727 and parameters: {'max_bin': 396, 'learning_rate': 0.05924498893405672, 'num_leaves': 87}. Best is trial 25 with value: 0.2633296475079766.\u001b[0m\n"
     ]
    },
    {
     "name": "stdout",
     "output_type": "stream",
     "text": [
      "[100]\ttraining's binary_logloss: 0.129788\tvalid_1's binary_logloss: 0.275333\n",
      "Early stopping, best iteration is:\n",
      "[69]\ttraining's binary_logloss: 0.16217\tvalid_1's binary_logloss: 0.270891\n",
      "[LightGBM] [Info] Number of positive: 1729, number of negative: 5411\n",
      "[LightGBM] [Warning] Auto-choosing row-wise multi-threading, the overhead of testing was 0.000599 seconds.\n",
      "You can set `force_row_wise=true` to remove the overhead.\n",
      "And if memory is not enough, you can set `force_col_wise=true`.\n",
      "[LightGBM] [Info] Total Bins 421\n",
      "[LightGBM] [Info] Number of data points in the train set: 7140, number of used features: 11\n",
      "[LightGBM] [Info] [binary:BoostFromScore]: pavg=0.242157 -> initscore=-1.140891\n",
      "[LightGBM] [Info] Start training from score -1.140891\n",
      "Training until validation scores don't improve for 100 rounds\n"
     ]
    },
    {
     "name": "stderr",
     "output_type": "stream",
     "text": [
      "/Users/yutahirai/opt/anaconda3/envs/matlab/lib/python3.8/site-packages/lightgbm/engine.py:181: UserWarning: 'early_stopping_rounds' argument is deprecated and will be removed in a future release of LightGBM. Pass 'early_stopping()' callback via 'callbacks' argument instead.\n",
      "  _log_warning(\"'early_stopping_rounds' argument is deprecated and will be removed in a future release of LightGBM. \"\n",
      "/Users/yutahirai/opt/anaconda3/envs/matlab/lib/python3.8/site-packages/lightgbm/engine.py:239: UserWarning: 'verbose_eval' argument is deprecated and will be removed in a future release of LightGBM. Pass 'log_evaluation()' callback via 'callbacks' argument instead.\n",
      "  _log_warning(\"'verbose_eval' argument is deprecated and will be removed in a future release of LightGBM. \"\n",
      "\u001b[32m[I 2022-02-15 18:19:47,516]\u001b[0m Trial 36 finished with value: 0.26934322203901395 and parameters: {'max_bin': 309, 'learning_rate': 0.09527962625054681, 'num_leaves': 75}. Best is trial 25 with value: 0.2633296475079766.\u001b[0m\n"
     ]
    },
    {
     "name": "stdout",
     "output_type": "stream",
     "text": [
      "[100]\ttraining's binary_logloss: 0.102366\tvalid_1's binary_logloss: 0.288989\n",
      "Early stopping, best iteration is:\n",
      "[39]\ttraining's binary_logloss: 0.17756\tvalid_1's binary_logloss: 0.269343\n",
      "[LightGBM] [Info] Number of positive: 1729, number of negative: 5411\n",
      "[LightGBM] [Warning] Auto-choosing row-wise multi-threading, the overhead of testing was 0.000595 seconds.\n",
      "You can set `force_row_wise=true` to remove the overhead.\n",
      "And if memory is not enough, you can set `force_col_wise=true`.\n",
      "[LightGBM] [Info] Total Bins 473\n",
      "[LightGBM] [Info] Number of data points in the train set: 7140, number of used features: 11\n",
      "[LightGBM] [Info] [binary:BoostFromScore]: pavg=0.242157 -> initscore=-1.140891\n",
      "[LightGBM] [Info] Start training from score -1.140891\n",
      "Training until validation scores don't improve for 100 rounds\n"
     ]
    },
    {
     "name": "stderr",
     "output_type": "stream",
     "text": [
      "/Users/yutahirai/opt/anaconda3/envs/matlab/lib/python3.8/site-packages/lightgbm/engine.py:181: UserWarning: 'early_stopping_rounds' argument is deprecated and will be removed in a future release of LightGBM. Pass 'early_stopping()' callback via 'callbacks' argument instead.\n",
      "  _log_warning(\"'early_stopping_rounds' argument is deprecated and will be removed in a future release of LightGBM. \"\n",
      "/Users/yutahirai/opt/anaconda3/envs/matlab/lib/python3.8/site-packages/lightgbm/engine.py:239: UserWarning: 'verbose_eval' argument is deprecated and will be removed in a future release of LightGBM. Pass 'log_evaluation()' callback via 'callbacks' argument instead.\n",
      "  _log_warning(\"'verbose_eval' argument is deprecated and will be removed in a future release of LightGBM. \"\n"
     ]
    },
    {
     "name": "stdout",
     "output_type": "stream",
     "text": [
      "[100]\ttraining's binary_logloss: 0.144393\tvalid_1's binary_logloss: 0.271213\n"
     ]
    },
    {
     "name": "stderr",
     "output_type": "stream",
     "text": [
      "\u001b[32m[I 2022-02-15 18:19:48,169]\u001b[0m Trial 37 finished with value: 0.26548096960193024 and parameters: {'max_bin': 463, 'learning_rate': 0.06997797960421868, 'num_leaves': 60}. Best is trial 25 with value: 0.2633296475079766.\u001b[0m\n"
     ]
    },
    {
     "name": "stdout",
     "output_type": "stream",
     "text": [
      "Early stopping, best iteration is:\n",
      "[58]\ttraining's binary_logloss: 0.182872\tvalid_1's binary_logloss: 0.265481\n",
      "[LightGBM] [Info] Number of positive: 1729, number of negative: 5411\n",
      "[LightGBM] [Warning] Auto-choosing row-wise multi-threading, the overhead of testing was 0.000451 seconds.\n",
      "You can set `force_row_wise=true` to remove the overhead.\n",
      "And if memory is not enough, you can set `force_col_wise=true`.\n",
      "[LightGBM] [Info] Total Bins 470\n",
      "[LightGBM] [Info] Number of data points in the train set: 7140, number of used features: 11\n",
      "[LightGBM] [Info] [binary:BoostFromScore]: pavg=0.242157 -> initscore=-1.140891\n",
      "[LightGBM] [Info] Start training from score -1.140891\n",
      "Training until validation scores don't improve for 100 rounds\n"
     ]
    },
    {
     "name": "stderr",
     "output_type": "stream",
     "text": [
      "/Users/yutahirai/opt/anaconda3/envs/matlab/lib/python3.8/site-packages/lightgbm/engine.py:181: UserWarning: 'early_stopping_rounds' argument is deprecated and will be removed in a future release of LightGBM. Pass 'early_stopping()' callback via 'callbacks' argument instead.\n",
      "  _log_warning(\"'early_stopping_rounds' argument is deprecated and will be removed in a future release of LightGBM. \"\n",
      "/Users/yutahirai/opt/anaconda3/envs/matlab/lib/python3.8/site-packages/lightgbm/engine.py:239: UserWarning: 'verbose_eval' argument is deprecated and will be removed in a future release of LightGBM. Pass 'log_evaluation()' callback via 'callbacks' argument instead.\n",
      "  _log_warning(\"'verbose_eval' argument is deprecated and will be removed in a future release of LightGBM. \"\n"
     ]
    },
    {
     "name": "stdout",
     "output_type": "stream",
     "text": [
      "[100]\ttraining's binary_logloss: 0.149038\tvalid_1's binary_logloss: 0.275143\n"
     ]
    },
    {
     "name": "stderr",
     "output_type": "stream",
     "text": [
      "\u001b[32m[I 2022-02-15 18:19:49,280]\u001b[0m Trial 38 finished with value: 0.27437947386587863 and parameters: {'max_bin': 455, 'learning_rate': 0.03971092351061377, 'num_leaves': 117}. Best is trial 25 with value: 0.2633296475079766.\u001b[0m\n"
     ]
    },
    {
     "name": "stdout",
     "output_type": "stream",
     "text": [
      "Early stopping, best iteration is:\n",
      "[81]\ttraining's binary_logloss: 0.1712\tvalid_1's binary_logloss: 0.274379\n",
      "[LightGBM] [Info] Number of positive: 1729, number of negative: 5411\n",
      "[LightGBM] [Warning] Auto-choosing row-wise multi-threading, the overhead of testing was 0.001200 seconds.\n",
      "You can set `force_row_wise=true` to remove the overhead.\n",
      "And if memory is not enough, you can set `force_col_wise=true`.\n",
      "[LightGBM] [Info] Total Bins 457\n",
      "[LightGBM] [Info] Number of data points in the train set: 7140, number of used features: 11\n",
      "[LightGBM] [Info] [binary:BoostFromScore]: pavg=0.242157 -> initscore=-1.140891\n",
      "[LightGBM] [Info] Start training from score -1.140891\n",
      "Training until validation scores don't improve for 100 rounds\n"
     ]
    },
    {
     "name": "stderr",
     "output_type": "stream",
     "text": [
      "/Users/yutahirai/opt/anaconda3/envs/matlab/lib/python3.8/site-packages/lightgbm/engine.py:181: UserWarning: 'early_stopping_rounds' argument is deprecated and will be removed in a future release of LightGBM. Pass 'early_stopping()' callback via 'callbacks' argument instead.\n",
      "  _log_warning(\"'early_stopping_rounds' argument is deprecated and will be removed in a future release of LightGBM. \"\n",
      "/Users/yutahirai/opt/anaconda3/envs/matlab/lib/python3.8/site-packages/lightgbm/engine.py:239: UserWarning: 'verbose_eval' argument is deprecated and will be removed in a future release of LightGBM. Pass 'log_evaluation()' callback via 'callbacks' argument instead.\n",
      "  _log_warning(\"'verbose_eval' argument is deprecated and will be removed in a future release of LightGBM. \"\n",
      "\u001b[32m[I 2022-02-15 18:19:49,918]\u001b[0m Trial 39 finished with value: 0.2704683503125182 and parameters: {'max_bin': 397, 'learning_rate': 0.0881853626492998, 'num_leaves': 99}. Best is trial 25 with value: 0.2633296475079766.\u001b[0m\n"
     ]
    },
    {
     "name": "stdout",
     "output_type": "stream",
     "text": [
      "[100]\ttraining's binary_logloss: 0.0864537\tvalid_1's binary_logloss: 0.294544\n",
      "Early stopping, best iteration is:\n",
      "[39]\ttraining's binary_logloss: 0.170574\tvalid_1's binary_logloss: 0.270468\n",
      "[LightGBM] [Info] Number of positive: 1729, number of negative: 5411\n",
      "[LightGBM] [Warning] Auto-choosing row-wise multi-threading, the overhead of testing was 0.000525 seconds.\n",
      "You can set `force_row_wise=true` to remove the overhead.\n",
      "And if memory is not enough, you can set `force_col_wise=true`.\n",
      "[LightGBM] [Info] Total Bins 468\n",
      "[LightGBM] [Info] Number of data points in the train set: 7140, number of used features: 11\n",
      "[LightGBM] [Info] [binary:BoostFromScore]: pavg=0.242157 -> initscore=-1.140891\n",
      "[LightGBM] [Info] Start training from score -1.140891\n",
      "Training until validation scores don't improve for 100 rounds\n"
     ]
    },
    {
     "name": "stderr",
     "output_type": "stream",
     "text": [
      "/Users/yutahirai/opt/anaconda3/envs/matlab/lib/python3.8/site-packages/lightgbm/engine.py:181: UserWarning: 'early_stopping_rounds' argument is deprecated and will be removed in a future release of LightGBM. Pass 'early_stopping()' callback via 'callbacks' argument instead.\n",
      "  _log_warning(\"'early_stopping_rounds' argument is deprecated and will be removed in a future release of LightGBM. \"\n",
      "/Users/yutahirai/opt/anaconda3/envs/matlab/lib/python3.8/site-packages/lightgbm/engine.py:239: UserWarning: 'verbose_eval' argument is deprecated and will be removed in a future release of LightGBM. Pass 'log_evaluation()' callback via 'callbacks' argument instead.\n",
      "  _log_warning(\"'verbose_eval' argument is deprecated and will be removed in a future release of LightGBM. \"\n"
     ]
    },
    {
     "name": "stdout",
     "output_type": "stream",
     "text": [
      "[100]\ttraining's binary_logloss: 0.120456\tvalid_1's binary_logloss: 0.280837\n"
     ]
    },
    {
     "name": "stderr",
     "output_type": "stream",
     "text": [
      "\u001b[32m[I 2022-02-15 18:19:50,712]\u001b[0m Trial 40 finished with value: 0.275690386598285 and parameters: {'max_bin': 433, 'learning_rate': 0.05018230575447756, 'num_leaves': 124}. Best is trial 25 with value: 0.2633296475079766.\u001b[0m\n"
     ]
    },
    {
     "name": "stdout",
     "output_type": "stream",
     "text": [
      "Early stopping, best iteration is:\n",
      "[67]\ttraining's binary_logloss: 0.163669\tvalid_1's binary_logloss: 0.27569\n",
      "[LightGBM] [Info] Number of positive: 1729, number of negative: 5411\n",
      "[LightGBM] [Warning] Auto-choosing row-wise multi-threading, the overhead of testing was 0.000743 seconds.\n",
      "You can set `force_row_wise=true` to remove the overhead.\n",
      "And if memory is not enough, you can set `force_col_wise=true`.\n",
      "[LightGBM] [Info] Total Bins 462\n",
      "[LightGBM] [Info] Number of data points in the train set: 7140, number of used features: 11\n",
      "[LightGBM] [Info] [binary:BoostFromScore]: pavg=0.242157 -> initscore=-1.140891\n",
      "[LightGBM] [Info] Start training from score -1.140891\n",
      "Training until validation scores don't improve for 100 rounds\n"
     ]
    },
    {
     "name": "stderr",
     "output_type": "stream",
     "text": [
      "/Users/yutahirai/opt/anaconda3/envs/matlab/lib/python3.8/site-packages/lightgbm/engine.py:181: UserWarning: 'early_stopping_rounds' argument is deprecated and will be removed in a future release of LightGBM. Pass 'early_stopping()' callback via 'callbacks' argument instead.\n",
      "  _log_warning(\"'early_stopping_rounds' argument is deprecated and will be removed in a future release of LightGBM. \"\n",
      "/Users/yutahirai/opt/anaconda3/envs/matlab/lib/python3.8/site-packages/lightgbm/engine.py:239: UserWarning: 'verbose_eval' argument is deprecated and will be removed in a future release of LightGBM. Pass 'log_evaluation()' callback via 'callbacks' argument instead.\n",
      "  _log_warning(\"'verbose_eval' argument is deprecated and will be removed in a future release of LightGBM. \"\n",
      "\u001b[32m[I 2022-02-15 18:19:51,169]\u001b[0m Trial 41 finished with value: 0.2710057312780197 and parameters: {'max_bin': 413, 'learning_rate': 0.04244311935096216, 'num_leaves': 90}. Best is trial 25 with value: 0.2633296475079766.\u001b[0m\n"
     ]
    },
    {
     "name": "stdout",
     "output_type": "stream",
     "text": [
      "[100]\ttraining's binary_logloss: 0.156702\tvalid_1's binary_logloss: 0.271612\n",
      "Early stopping, best iteration is:\n",
      "[83]\ttraining's binary_logloss: 0.173934\tvalid_1's binary_logloss: 0.271006\n",
      "[LightGBM] [Info] Number of positive: 1729, number of negative: 5411\n",
      "[LightGBM] [Warning] Auto-choosing row-wise multi-threading, the overhead of testing was 0.000461 seconds.\n",
      "You can set `force_row_wise=true` to remove the overhead.\n",
      "And if memory is not enough, you can set `force_col_wise=true`.\n",
      "[LightGBM] [Info] Total Bins 372\n",
      "[LightGBM] [Info] Number of data points in the train set: 7140, number of used features: 11\n",
      "[LightGBM] [Info] [binary:BoostFromScore]: pavg=0.242157 -> initscore=-1.140891\n",
      "[LightGBM] [Info] Start training from score -1.140891\n",
      "Training until validation scores don't improve for 100 rounds\n"
     ]
    },
    {
     "name": "stderr",
     "output_type": "stream",
     "text": [
      "/Users/yutahirai/opt/anaconda3/envs/matlab/lib/python3.8/site-packages/lightgbm/engine.py:181: UserWarning: 'early_stopping_rounds' argument is deprecated and will be removed in a future release of LightGBM. Pass 'early_stopping()' callback via 'callbacks' argument instead.\n",
      "  _log_warning(\"'early_stopping_rounds' argument is deprecated and will be removed in a future release of LightGBM. \"\n",
      "/Users/yutahirai/opt/anaconda3/envs/matlab/lib/python3.8/site-packages/lightgbm/engine.py:239: UserWarning: 'verbose_eval' argument is deprecated and will be removed in a future release of LightGBM. Pass 'log_evaluation()' callback via 'callbacks' argument instead.\n",
      "  _log_warning(\"'verbose_eval' argument is deprecated and will be removed in a future release of LightGBM. \"\n"
     ]
    },
    {
     "name": "stdout",
     "output_type": "stream",
     "text": [
      "[100]\ttraining's binary_logloss: 0.186686\tvalid_1's binary_logloss: 0.273356\n"
     ]
    },
    {
     "name": "stderr",
     "output_type": "stream",
     "text": [
      "\u001b[32m[I 2022-02-15 18:19:51,759]\u001b[0m Trial 42 finished with value: 0.2721424933090189 and parameters: {'max_bin': 259, 'learning_rate': 0.03022732418578748, 'num_leaves': 96}. Best is trial 25 with value: 0.2633296475079766.\u001b[0m\n"
     ]
    },
    {
     "name": "stdout",
     "output_type": "stream",
     "text": [
      "[200]\ttraining's binary_logloss: 0.122537\tvalid_1's binary_logloss: 0.279364\n",
      "Early stopping, best iteration is:\n",
      "[116]\ttraining's binary_logloss: 0.17258\tvalid_1's binary_logloss: 0.272142\n",
      "[LightGBM] [Info] Number of positive: 1729, number of negative: 5411\n",
      "[LightGBM] [Warning] Auto-choosing row-wise multi-threading, the overhead of testing was 0.000609 seconds.\n",
      "You can set `force_row_wise=true` to remove the overhead.\n",
      "And if memory is not enough, you can set `force_col_wise=true`.\n",
      "[LightGBM] [Info] Total Bins 432\n",
      "[LightGBM] [Info] Number of data points in the train set: 7140, number of used features: 11\n",
      "[LightGBM] [Info] [binary:BoostFromScore]: pavg=0.242157 -> initscore=-1.140891\n",
      "[LightGBM] [Info] Start training from score -1.140891\n",
      "Training until validation scores don't improve for 100 rounds\n"
     ]
    },
    {
     "name": "stderr",
     "output_type": "stream",
     "text": [
      "/Users/yutahirai/opt/anaconda3/envs/matlab/lib/python3.8/site-packages/lightgbm/engine.py:181: UserWarning: 'early_stopping_rounds' argument is deprecated and will be removed in a future release of LightGBM. Pass 'early_stopping()' callback via 'callbacks' argument instead.\n",
      "  _log_warning(\"'early_stopping_rounds' argument is deprecated and will be removed in a future release of LightGBM. \"\n",
      "/Users/yutahirai/opt/anaconda3/envs/matlab/lib/python3.8/site-packages/lightgbm/engine.py:239: UserWarning: 'verbose_eval' argument is deprecated and will be removed in a future release of LightGBM. Pass 'log_evaluation()' callback via 'callbacks' argument instead.\n",
      "  _log_warning(\"'verbose_eval' argument is deprecated and will be removed in a future release of LightGBM. \"\n",
      "\u001b[32m[I 2022-02-15 18:19:52,121]\u001b[0m Trial 43 finished with value: 0.2682517411598847 and parameters: {'max_bin': 326, 'learning_rate': 0.06183974135698427, 'num_leaves': 73}. Best is trial 25 with value: 0.2633296475079766.\u001b[0m\n"
     ]
    },
    {
     "name": "stdout",
     "output_type": "stream",
     "text": [
      "[100]\ttraining's binary_logloss: 0.139487\tvalid_1's binary_logloss: 0.273236\n",
      "Early stopping, best iteration is:\n",
      "[61]\ttraining's binary_logloss: 0.178059\tvalid_1's binary_logloss: 0.268252\n",
      "[LightGBM] [Info] Number of positive: 1729, number of negative: 5411\n",
      "[LightGBM] [Warning] Auto-choosing row-wise multi-threading, the overhead of testing was 0.000776 seconds.\n",
      "You can set `force_row_wise=true` to remove the overhead.\n",
      "And if memory is not enough, you can set `force_col_wise=true`.\n",
      "[LightGBM] [Info] Total Bins 401\n",
      "[LightGBM] [Info] Number of data points in the train set: 7140, number of used features: 11\n",
      "[LightGBM] [Info] [binary:BoostFromScore]: pavg=0.242157 -> initscore=-1.140891\n",
      "[LightGBM] [Info] Start training from score -1.140891\n",
      "Training until validation scores don't improve for 100 rounds\n"
     ]
    },
    {
     "name": "stderr",
     "output_type": "stream",
     "text": [
      "/Users/yutahirai/opt/anaconda3/envs/matlab/lib/python3.8/site-packages/lightgbm/engine.py:181: UserWarning: 'early_stopping_rounds' argument is deprecated and will be removed in a future release of LightGBM. Pass 'early_stopping()' callback via 'callbacks' argument instead.\n",
      "  _log_warning(\"'early_stopping_rounds' argument is deprecated and will be removed in a future release of LightGBM. \"\n",
      "/Users/yutahirai/opt/anaconda3/envs/matlab/lib/python3.8/site-packages/lightgbm/engine.py:239: UserWarning: 'verbose_eval' argument is deprecated and will be removed in a future release of LightGBM. Pass 'log_evaluation()' callback via 'callbacks' argument instead.\n",
      "  _log_warning(\"'verbose_eval' argument is deprecated and will be removed in a future release of LightGBM. \"\n"
     ]
    },
    {
     "name": "stdout",
     "output_type": "stream",
     "text": [
      "[100]\ttraining's binary_logloss: 0.191595\tvalid_1's binary_logloss: 0.271839\n",
      "[200]\ttraining's binary_logloss: 0.130282\tvalid_1's binary_logloss: 0.277317\n"
     ]
    },
    {
     "name": "stderr",
     "output_type": "stream",
     "text": [
      "\u001b[32m[I 2022-02-15 18:19:52,708]\u001b[0m Trial 44 finished with value: 0.2697086174103286 and parameters: {'max_bin': 288, 'learning_rate': 0.029898404363007475, 'num_leaves': 87}. Best is trial 25 with value: 0.2633296475079766.\u001b[0m\n"
     ]
    },
    {
     "name": "stdout",
     "output_type": "stream",
     "text": [
      "Early stopping, best iteration is:\n",
      "[127]\ttraining's binary_logloss: 0.16928\tvalid_1's binary_logloss: 0.269709\n",
      "[LightGBM] [Info] Number of positive: 1729, number of negative: 5411\n",
      "[LightGBM] [Warning] Auto-choosing row-wise multi-threading, the overhead of testing was 0.000742 seconds.\n",
      "You can set `force_row_wise=true` to remove the overhead.\n",
      "And if memory is not enough, you can set `force_col_wise=true`.\n",
      "[LightGBM] [Info] Total Bins 462\n",
      "[LightGBM] [Info] Number of data points in the train set: 7140, number of used features: 11\n",
      "[LightGBM] [Info] [binary:BoostFromScore]: pavg=0.242157 -> initscore=-1.140891\n",
      "[LightGBM] [Info] Start training from score -1.140891\n",
      "Training until validation scores don't improve for 100 rounds\n"
     ]
    },
    {
     "name": "stderr",
     "output_type": "stream",
     "text": [
      "/Users/yutahirai/opt/anaconda3/envs/matlab/lib/python3.8/site-packages/lightgbm/engine.py:181: UserWarning: 'early_stopping_rounds' argument is deprecated and will be removed in a future release of LightGBM. Pass 'early_stopping()' callback via 'callbacks' argument instead.\n",
      "  _log_warning(\"'early_stopping_rounds' argument is deprecated and will be removed in a future release of LightGBM. \"\n",
      "/Users/yutahirai/opt/anaconda3/envs/matlab/lib/python3.8/site-packages/lightgbm/engine.py:239: UserWarning: 'verbose_eval' argument is deprecated and will be removed in a future release of LightGBM. Pass 'log_evaluation()' callback via 'callbacks' argument instead.\n",
      "  _log_warning(\"'verbose_eval' argument is deprecated and will be removed in a future release of LightGBM. \"\n",
      "\u001b[32m[I 2022-02-15 18:19:53,168]\u001b[0m Trial 45 finished with value: 0.2711894105609087 and parameters: {'max_bin': 400, 'learning_rate': 0.05747509236007293, 'num_leaves': 95}. Best is trial 25 with value: 0.2633296475079766.\u001b[0m\n"
     ]
    },
    {
     "name": "stdout",
     "output_type": "stream",
     "text": [
      "[100]\ttraining's binary_logloss: 0.126065\tvalid_1's binary_logloss: 0.275756\n",
      "Early stopping, best iteration is:\n",
      "[72]\ttraining's binary_logloss: 0.155618\tvalid_1's binary_logloss: 0.271189\n",
      "[LightGBM] [Info] Number of positive: 1729, number of negative: 5411\n",
      "[LightGBM] [Warning] Auto-choosing row-wise multi-threading, the overhead of testing was 0.000514 seconds.\n",
      "You can set `force_row_wise=true` to remove the overhead.\n",
      "And if memory is not enough, you can set `force_col_wise=true`.\n",
      "[LightGBM] [Info] Total Bins 463\n",
      "[LightGBM] [Info] Number of data points in the train set: 7140, number of used features: 11\n",
      "[LightGBM] [Info] [binary:BoostFromScore]: pavg=0.242157 -> initscore=-1.140891\n",
      "[LightGBM] [Info] Start training from score -1.140891\n",
      "Training until validation scores don't improve for 100 rounds\n"
     ]
    },
    {
     "name": "stderr",
     "output_type": "stream",
     "text": [
      "/Users/yutahirai/opt/anaconda3/envs/matlab/lib/python3.8/site-packages/lightgbm/engine.py:181: UserWarning: 'early_stopping_rounds' argument is deprecated and will be removed in a future release of LightGBM. Pass 'early_stopping()' callback via 'callbacks' argument instead.\n",
      "  _log_warning(\"'early_stopping_rounds' argument is deprecated and will be removed in a future release of LightGBM. \"\n",
      "/Users/yutahirai/opt/anaconda3/envs/matlab/lib/python3.8/site-packages/lightgbm/engine.py:239: UserWarning: 'verbose_eval' argument is deprecated and will be removed in a future release of LightGBM. Pass 'log_evaluation()' callback via 'callbacks' argument instead.\n",
      "  _log_warning(\"'verbose_eval' argument is deprecated and will be removed in a future release of LightGBM. \"\n"
     ]
    },
    {
     "name": "stdout",
     "output_type": "stream",
     "text": [
      "[100]\ttraining's binary_logloss: 0.139129\tvalid_1's binary_logloss: 0.275535\n"
     ]
    },
    {
     "name": "stderr",
     "output_type": "stream",
     "text": [
      "\u001b[32m[I 2022-02-15 18:19:53,953]\u001b[0m Trial 46 finished with value: 0.27361655142808855 and parameters: {'max_bin': 415, 'learning_rate': 0.043198701699854, 'num_leaves': 118}. Best is trial 25 with value: 0.2633296475079766.\u001b[0m\n"
     ]
    },
    {
     "name": "stdout",
     "output_type": "stream",
     "text": [
      "Early stopping, best iteration is:\n",
      "[86]\ttraining's binary_logloss: 0.154977\tvalid_1's binary_logloss: 0.273617\n",
      "[LightGBM] [Info] Number of positive: 1729, number of negative: 5411\n",
      "[LightGBM] [Warning] Auto-choosing row-wise multi-threading, the overhead of testing was 0.000519 seconds.\n",
      "You can set `force_row_wise=true` to remove the overhead.\n",
      "And if memory is not enough, you can set `force_col_wise=true`.\n",
      "[LightGBM] [Info] Total Bins 441\n",
      "[LightGBM] [Info] Number of data points in the train set: 7140, number of used features: 11\n",
      "[LightGBM] [Info] [binary:BoostFromScore]: pavg=0.242157 -> initscore=-1.140891\n",
      "[LightGBM] [Info] Start training from score -1.140891\n",
      "Training until validation scores don't improve for 100 rounds\n"
     ]
    },
    {
     "name": "stderr",
     "output_type": "stream",
     "text": [
      "/Users/yutahirai/opt/anaconda3/envs/matlab/lib/python3.8/site-packages/lightgbm/engine.py:181: UserWarning: 'early_stopping_rounds' argument is deprecated and will be removed in a future release of LightGBM. Pass 'early_stopping()' callback via 'callbacks' argument instead.\n",
      "  _log_warning(\"'early_stopping_rounds' argument is deprecated and will be removed in a future release of LightGBM. \"\n",
      "/Users/yutahirai/opt/anaconda3/envs/matlab/lib/python3.8/site-packages/lightgbm/engine.py:239: UserWarning: 'verbose_eval' argument is deprecated and will be removed in a future release of LightGBM. Pass 'log_evaluation()' callback via 'callbacks' argument instead.\n",
      "  _log_warning(\"'verbose_eval' argument is deprecated and will be removed in a future release of LightGBM. \"\n"
     ]
    },
    {
     "name": "stdout",
     "output_type": "stream",
     "text": [
      "[100]\ttraining's binary_logloss: 0.139051\tvalid_1's binary_logloss: 0.274566\n"
     ]
    },
    {
     "name": "stderr",
     "output_type": "stream",
     "text": [
      "\u001b[32m[I 2022-02-15 18:19:54,640]\u001b[0m Trial 47 finished with value: 0.27309915974937105 and parameters: {'max_bin': 345, 'learning_rate': 0.04364290603403612, 'num_leaves': 118}. Best is trial 25 with value: 0.2633296475079766.\u001b[0m\n"
     ]
    },
    {
     "name": "stdout",
     "output_type": "stream",
     "text": [
      "Early stopping, best iteration is:\n",
      "[80]\ttraining's binary_logloss: 0.162209\tvalid_1's binary_logloss: 0.273099\n",
      "[LightGBM] [Info] Number of positive: 1729, number of negative: 5411\n",
      "[LightGBM] [Warning] Auto-choosing row-wise multi-threading, the overhead of testing was 0.000629 seconds.\n",
      "You can set `force_row_wise=true` to remove the overhead.\n",
      "And if memory is not enough, you can set `force_col_wise=true`.\n",
      "[LightGBM] [Info] Total Bins 469\n",
      "[LightGBM] [Info] Number of data points in the train set: 7140, number of used features: 11\n",
      "[LightGBM] [Info] [binary:BoostFromScore]: pavg=0.242157 -> initscore=-1.140891\n",
      "[LightGBM] [Info] Start training from score -1.140891\n",
      "Training until validation scores don't improve for 100 rounds\n",
      "[100]\ttraining's binary_logloss: 0.167418\tvalid_1's binary_logloss: 0.265993\n"
     ]
    },
    {
     "name": "stderr",
     "output_type": "stream",
     "text": [
      "/Users/yutahirai/opt/anaconda3/envs/matlab/lib/python3.8/site-packages/lightgbm/engine.py:181: UserWarning: 'early_stopping_rounds' argument is deprecated and will be removed in a future release of LightGBM. Pass 'early_stopping()' callback via 'callbacks' argument instead.\n",
      "  _log_warning(\"'early_stopping_rounds' argument is deprecated and will be removed in a future release of LightGBM. \"\n",
      "/Users/yutahirai/opt/anaconda3/envs/matlab/lib/python3.8/site-packages/lightgbm/engine.py:239: UserWarning: 'verbose_eval' argument is deprecated and will be removed in a future release of LightGBM. Pass 'log_evaluation()' callback via 'callbacks' argument instead.\n",
      "  _log_warning(\"'verbose_eval' argument is deprecated and will be removed in a future release of LightGBM. \"\n",
      "\u001b[32m[I 2022-02-15 18:19:54,916]\u001b[0m Trial 48 finished with value: 0.26364792262702114 and parameters: {'max_bin': 453, 'learning_rate': 0.0704184694956826, 'num_leaves': 41}. Best is trial 25 with value: 0.2633296475079766.\u001b[0m\n"
     ]
    },
    {
     "name": "stdout",
     "output_type": "stream",
     "text": [
      "Early stopping, best iteration is:\n",
      "[60]\ttraining's binary_logloss: 0.198854\tvalid_1's binary_logloss: 0.263648\n",
      "[LightGBM] [Info] Number of positive: 1729, number of negative: 5411\n",
      "[LightGBM] [Warning] Auto-choosing col-wise multi-threading, the overhead of testing was 0.000802 seconds.\n",
      "You can set `force_col_wise=true` to remove the overhead.\n",
      "[LightGBM] [Info] Total Bins 477\n",
      "[LightGBM] [Info] Number of data points in the train set: 7140, number of used features: 11\n",
      "[LightGBM] [Info] [binary:BoostFromScore]: pavg=0.242157 -> initscore=-1.140891\n",
      "[LightGBM] [Info] Start training from score -1.140891\n",
      "Training until validation scores don't improve for 100 rounds\n"
     ]
    },
    {
     "name": "stderr",
     "output_type": "stream",
     "text": [
      "/Users/yutahirai/opt/anaconda3/envs/matlab/lib/python3.8/site-packages/lightgbm/engine.py:181: UserWarning: 'early_stopping_rounds' argument is deprecated and will be removed in a future release of LightGBM. Pass 'early_stopping()' callback via 'callbacks' argument instead.\n",
      "  _log_warning(\"'early_stopping_rounds' argument is deprecated and will be removed in a future release of LightGBM. \"\n",
      "/Users/yutahirai/opt/anaconda3/envs/matlab/lib/python3.8/site-packages/lightgbm/engine.py:239: UserWarning: 'verbose_eval' argument is deprecated and will be removed in a future release of LightGBM. Pass 'log_evaluation()' callback via 'callbacks' argument instead.\n",
      "  _log_warning(\"'verbose_eval' argument is deprecated and will be removed in a future release of LightGBM. \"\n"
     ]
    },
    {
     "name": "stdout",
     "output_type": "stream",
     "text": [
      "[100]\ttraining's binary_logloss: 0.0864742\tvalid_1's binary_logloss: 0.29371\n"
     ]
    },
    {
     "name": "stderr",
     "output_type": "stream",
     "text": [
      "\u001b[32m[I 2022-02-15 18:19:55,789]\u001b[0m Trial 49 finished with value: 0.2753100677983586 and parameters: {'max_bin': 481, 'learning_rate': 0.07145270582495623, 'num_leaves': 128}. Best is trial 25 with value: 0.2633296475079766.\u001b[0m\n"
     ]
    },
    {
     "name": "stdout",
     "output_type": "stream",
     "text": [
      "Early stopping, best iteration is:\n",
      "[45]\ttraining's binary_logloss: 0.166626\tvalid_1's binary_logloss: 0.27531\n",
      "[LightGBM] [Info] Number of positive: 1729, number of negative: 5411\n",
      "[LightGBM] [Warning] Auto-choosing row-wise multi-threading, the overhead of testing was 0.000764 seconds.\n",
      "You can set `force_row_wise=true` to remove the overhead.\n",
      "And if memory is not enough, you can set `force_col_wise=true`.\n",
      "[LightGBM] [Info] Total Bins 404\n",
      "[LightGBM] [Info] Number of data points in the train set: 7140, number of used features: 11\n",
      "[LightGBM] [Info] [binary:BoostFromScore]: pavg=0.242157 -> initscore=-1.140891\n",
      "[LightGBM] [Info] Start training from score -1.140891\n",
      "Training until validation scores don't improve for 100 rounds\n",
      "[100]\ttraining's binary_logloss: 0.145064\tvalid_1's binary_logloss: 0.269973\n"
     ]
    },
    {
     "name": "stderr",
     "output_type": "stream",
     "text": [
      "/Users/yutahirai/opt/anaconda3/envs/matlab/lib/python3.8/site-packages/lightgbm/engine.py:181: UserWarning: 'early_stopping_rounds' argument is deprecated and will be removed in a future release of LightGBM. Pass 'early_stopping()' callback via 'callbacks' argument instead.\n",
      "  _log_warning(\"'early_stopping_rounds' argument is deprecated and will be removed in a future release of LightGBM. \"\n",
      "/Users/yutahirai/opt/anaconda3/envs/matlab/lib/python3.8/site-packages/lightgbm/engine.py:239: UserWarning: 'verbose_eval' argument is deprecated and will be removed in a future release of LightGBM. Pass 'log_evaluation()' callback via 'callbacks' argument instead.\n",
      "  _log_warning(\"'verbose_eval' argument is deprecated and will be removed in a future release of LightGBM. \"\n",
      "\u001b[32m[I 2022-02-15 18:19:56,010]\u001b[0m Trial 50 finished with value: 0.2653788635236544 and parameters: {'max_bin': 291, 'learning_rate': 0.08682579313108461, 'num_leaves': 47}. Best is trial 25 with value: 0.2633296475079766.\u001b[0m\n"
     ]
    },
    {
     "name": "stdout",
     "output_type": "stream",
     "text": [
      "Early stopping, best iteration is:\n",
      "[48]\ttraining's binary_logloss: 0.19371\tvalid_1's binary_logloss: 0.265379\n",
      "[LightGBM] [Info] Number of positive: 1729, number of negative: 5411\n",
      "[LightGBM] [Warning] Auto-choosing row-wise multi-threading, the overhead of testing was 0.001220 seconds.\n",
      "You can set `force_row_wise=true` to remove the overhead.\n",
      "And if memory is not enough, you can set `force_col_wise=true`.\n",
      "[LightGBM] [Info] Total Bins 462\n",
      "[LightGBM] [Info] Number of data points in the train set: 7140, number of used features: 11\n",
      "[LightGBM] [Info] [binary:BoostFromScore]: pavg=0.242157 -> initscore=-1.140891\n",
      "[LightGBM] [Info] Start training from score -1.140891\n",
      "Training until validation scores don't improve for 100 rounds\n"
     ]
    },
    {
     "name": "stderr",
     "output_type": "stream",
     "text": [
      "/Users/yutahirai/opt/anaconda3/envs/matlab/lib/python3.8/site-packages/lightgbm/engine.py:181: UserWarning: 'early_stopping_rounds' argument is deprecated and will be removed in a future release of LightGBM. Pass 'early_stopping()' callback via 'callbacks' argument instead.\n",
      "  _log_warning(\"'early_stopping_rounds' argument is deprecated and will be removed in a future release of LightGBM. \"\n",
      "/Users/yutahirai/opt/anaconda3/envs/matlab/lib/python3.8/site-packages/lightgbm/engine.py:239: UserWarning: 'verbose_eval' argument is deprecated and will be removed in a future release of LightGBM. Pass 'log_evaluation()' callback via 'callbacks' argument instead.\n",
      "  _log_warning(\"'verbose_eval' argument is deprecated and will be removed in a future release of LightGBM. \"\n"
     ]
    },
    {
     "name": "stdout",
     "output_type": "stream",
     "text": [
      "[100]\ttraining's binary_logloss: 0.268257\tvalid_1's binary_logloss: 0.309697\n",
      "[200]\ttraining's binary_logloss: 0.196966\tvalid_1's binary_logloss: 0.2776\n",
      "[300]\ttraining's binary_logloss: 0.156841\tvalid_1's binary_logloss: 0.273973\n"
     ]
    },
    {
     "name": "stderr",
     "output_type": "stream",
     "text": [
      "\u001b[32m[I 2022-02-15 18:19:57,498]\u001b[0m Trial 51 finished with value: 0.2737783904775777 and parameters: {'max_bin': 406, 'learning_rate': 0.012469616286659206, 'num_leaves': 114}. Best is trial 25 with value: 0.2633296475079766.\u001b[0m\n"
     ]
    },
    {
     "name": "stdout",
     "output_type": "stream",
     "text": [
      "Early stopping, best iteration is:\n",
      "[286]\ttraining's binary_logloss: 0.161813\tvalid_1's binary_logloss: 0.273778\n",
      "[LightGBM] [Info] Number of positive: 1729, number of negative: 5411\n",
      "[LightGBM] [Warning] Auto-choosing row-wise multi-threading, the overhead of testing was 0.001303 seconds.\n",
      "You can set `force_row_wise=true` to remove the overhead.\n",
      "And if memory is not enough, you can set `force_col_wise=true`.\n",
      "[LightGBM] [Info] Total Bins 469\n",
      "[LightGBM] [Info] Number of data points in the train set: 7140, number of used features: 11\n",
      "[LightGBM] [Info] [binary:BoostFromScore]: pavg=0.242157 -> initscore=-1.140891\n",
      "[LightGBM] [Info] Start training from score -1.140891\n",
      "Training until validation scores don't improve for 100 rounds\n"
     ]
    },
    {
     "name": "stderr",
     "output_type": "stream",
     "text": [
      "/Users/yutahirai/opt/anaconda3/envs/matlab/lib/python3.8/site-packages/lightgbm/engine.py:181: UserWarning: 'early_stopping_rounds' argument is deprecated and will be removed in a future release of LightGBM. Pass 'early_stopping()' callback via 'callbacks' argument instead.\n",
      "  _log_warning(\"'early_stopping_rounds' argument is deprecated and will be removed in a future release of LightGBM. \"\n",
      "/Users/yutahirai/opt/anaconda3/envs/matlab/lib/python3.8/site-packages/lightgbm/engine.py:239: UserWarning: 'verbose_eval' argument is deprecated and will be removed in a future release of LightGBM. Pass 'log_evaluation()' callback via 'callbacks' argument instead.\n",
      "  _log_warning(\"'verbose_eval' argument is deprecated and will be removed in a future release of LightGBM. \"\n"
     ]
    },
    {
     "name": "stdout",
     "output_type": "stream",
     "text": [
      "[100]\ttraining's binary_logloss: 0.146798\tvalid_1's binary_logloss: 0.270181\n"
     ]
    },
    {
     "name": "stderr",
     "output_type": "stream",
     "text": [
      "\u001b[32m[I 2022-02-15 18:19:57,971]\u001b[0m Trial 52 finished with value: 0.26742300664332447 and parameters: {'max_bin': 453, 'learning_rate': 0.05695316378759788, 'num_leaves': 71}. Best is trial 25 with value: 0.2633296475079766.\u001b[0m\n"
     ]
    },
    {
     "name": "stdout",
     "output_type": "stream",
     "text": [
      "Early stopping, best iteration is:\n",
      "[71]\ttraining's binary_logloss: 0.173734\tvalid_1's binary_logloss: 0.267423\n",
      "[LightGBM] [Info] Number of positive: 1729, number of negative: 5411\n",
      "[LightGBM] [Warning] Auto-choosing row-wise multi-threading, the overhead of testing was 0.000479 seconds.\n",
      "You can set `force_row_wise=true` to remove the overhead.\n",
      "And if memory is not enough, you can set `force_col_wise=true`.\n",
      "[LightGBM] [Info] Total Bins 385\n",
      "[LightGBM] [Info] Number of data points in the train set: 7140, number of used features: 11\n",
      "[LightGBM] [Info] [binary:BoostFromScore]: pavg=0.242157 -> initscore=-1.140891\n",
      "[LightGBM] [Info] Start training from score -1.140891\n",
      "Training until validation scores don't improve for 100 rounds\n"
     ]
    },
    {
     "name": "stderr",
     "output_type": "stream",
     "text": [
      "/Users/yutahirai/opt/anaconda3/envs/matlab/lib/python3.8/site-packages/lightgbm/engine.py:181: UserWarning: 'early_stopping_rounds' argument is deprecated and will be removed in a future release of LightGBM. Pass 'early_stopping()' callback via 'callbacks' argument instead.\n",
      "  _log_warning(\"'early_stopping_rounds' argument is deprecated and will be removed in a future release of LightGBM. \"\n",
      "/Users/yutahirai/opt/anaconda3/envs/matlab/lib/python3.8/site-packages/lightgbm/engine.py:239: UserWarning: 'verbose_eval' argument is deprecated and will be removed in a future release of LightGBM. Pass 'log_evaluation()' callback via 'callbacks' argument instead.\n",
      "  _log_warning(\"'verbose_eval' argument is deprecated and will be removed in a future release of LightGBM. \"\n",
      "\u001b[32m[I 2022-02-15 18:19:58,444]\u001b[0m Trial 53 finished with value: 0.2676188204023338 and parameters: {'max_bin': 272, 'learning_rate': 0.0697731344371419, 'num_leaves': 75}. Best is trial 25 with value: 0.2633296475079766.\u001b[0m\n"
     ]
    },
    {
     "name": "stdout",
     "output_type": "stream",
     "text": [
      "[100]\ttraining's binary_logloss: 0.128687\tvalid_1's binary_logloss: 0.27545\n",
      "Early stopping, best iteration is:\n",
      "[63]\ttraining's binary_logloss: 0.164656\tvalid_1's binary_logloss: 0.267619\n",
      "[LightGBM] [Info] Number of positive: 1729, number of negative: 5411\n",
      "[LightGBM] [Warning] Auto-choosing row-wise multi-threading, the overhead of testing was 0.000698 seconds.\n",
      "You can set `force_row_wise=true` to remove the overhead.\n",
      "And if memory is not enough, you can set `force_col_wise=true`.\n",
      "[LightGBM] [Info] Total Bins 468\n",
      "[LightGBM] [Info] Number of data points in the train set: 7140, number of used features: 11\n",
      "[LightGBM] [Info] [binary:BoostFromScore]: pavg=0.242157 -> initscore=-1.140891\n",
      "[LightGBM] [Info] Start training from score -1.140891\n",
      "Training until validation scores don't improve for 100 rounds\n"
     ]
    },
    {
     "name": "stderr",
     "output_type": "stream",
     "text": [
      "/Users/yutahirai/opt/anaconda3/envs/matlab/lib/python3.8/site-packages/lightgbm/engine.py:181: UserWarning: 'early_stopping_rounds' argument is deprecated and will be removed in a future release of LightGBM. Pass 'early_stopping()' callback via 'callbacks' argument instead.\n",
      "  _log_warning(\"'early_stopping_rounds' argument is deprecated and will be removed in a future release of LightGBM. \"\n",
      "/Users/yutahirai/opt/anaconda3/envs/matlab/lib/python3.8/site-packages/lightgbm/engine.py:239: UserWarning: 'verbose_eval' argument is deprecated and will be removed in a future release of LightGBM. Pass 'log_evaluation()' callback via 'callbacks' argument instead.\n",
      "  _log_warning(\"'verbose_eval' argument is deprecated and will be removed in a future release of LightGBM. \"\n",
      "\u001b[32m[I 2022-02-15 18:19:59,157]\u001b[0m Trial 54 finished with value: 0.27444570812251956 and parameters: {'max_bin': 432, 'learning_rate': 0.08665159436027006, 'num_leaves': 126}. Best is trial 25 with value: 0.2633296475079766.\u001b[0m\n"
     ]
    },
    {
     "name": "stdout",
     "output_type": "stream",
     "text": [
      "[100]\ttraining's binary_logloss: 0.0703594\tvalid_1's binary_logloss: 0.303375\n",
      "Early stopping, best iteration is:\n",
      "[42]\ttraining's binary_logloss: 0.153274\tvalid_1's binary_logloss: 0.274446\n",
      "[LightGBM] [Info] Number of positive: 1729, number of negative: 5411\n",
      "[LightGBM] [Warning] Auto-choosing row-wise multi-threading, the overhead of testing was 0.001299 seconds.\n",
      "You can set `force_row_wise=true` to remove the overhead.\n",
      "And if memory is not enough, you can set `force_col_wise=true`.\n",
      "[LightGBM] [Info] Total Bins 474\n",
      "[LightGBM] [Info] Number of data points in the train set: 7140, number of used features: 11\n",
      "[LightGBM] [Info] [binary:BoostFromScore]: pavg=0.242157 -> initscore=-1.140891\n",
      "[LightGBM] [Info] Start training from score -1.140891\n",
      "Training until validation scores don't improve for 100 rounds\n"
     ]
    },
    {
     "name": "stderr",
     "output_type": "stream",
     "text": [
      "/Users/yutahirai/opt/anaconda3/envs/matlab/lib/python3.8/site-packages/lightgbm/engine.py:181: UserWarning: 'early_stopping_rounds' argument is deprecated and will be removed in a future release of LightGBM. Pass 'early_stopping()' callback via 'callbacks' argument instead.\n",
      "  _log_warning(\"'early_stopping_rounds' argument is deprecated and will be removed in a future release of LightGBM. \"\n",
      "/Users/yutahirai/opt/anaconda3/envs/matlab/lib/python3.8/site-packages/lightgbm/engine.py:239: UserWarning: 'verbose_eval' argument is deprecated and will be removed in a future release of LightGBM. Pass 'log_evaluation()' callback via 'callbacks' argument instead.\n",
      "  _log_warning(\"'verbose_eval' argument is deprecated and will be removed in a future release of LightGBM. \"\n"
     ]
    },
    {
     "name": "stdout",
     "output_type": "stream",
     "text": [
      "[100]\ttraining's binary_logloss: 0.491615\tvalid_1's binary_logloss: 0.495547\n",
      "[200]\ttraining's binary_logloss: 0.445241\tvalid_1's binary_logloss: 0.452831\n",
      "[300]\ttraining's binary_logloss: 0.408566\tvalid_1's binary_logloss: 0.419141\n",
      "[400]\ttraining's binary_logloss: 0.378556\tvalid_1's binary_logloss: 0.39184\n",
      "[500]\ttraining's binary_logloss: 0.35399\tvalid_1's binary_logloss: 0.369822\n",
      "[600]\ttraining's binary_logloss: 0.333613\tvalid_1's binary_logloss: 0.352261\n",
      "[700]\ttraining's binary_logloss: 0.316347\tvalid_1's binary_logloss: 0.338107\n",
      "[800]\ttraining's binary_logloss: 0.301759\tvalid_1's binary_logloss: 0.32638\n",
      "[900]\ttraining's binary_logloss: 0.28914\tvalid_1's binary_logloss: 0.316504\n",
      "[1000]\ttraining's binary_logloss: 0.278269\tvalid_1's binary_logloss: 0.308337\n",
      "Did not meet early stopping. Best iteration is:\n",
      "[1000]\ttraining's binary_logloss: 0.278269\tvalid_1's binary_logloss: 0.308337\n"
     ]
    },
    {
     "name": "stderr",
     "output_type": "stream",
     "text": [
      "\u001b[32m[I 2022-02-15 18:20:01,922]\u001b[0m Trial 55 finished with value: 0.30833683929470895 and parameters: {'max_bin': 465, 'learning_rate': 0.001270237010081697, 'num_leaves': 66}. Best is trial 25 with value: 0.2633296475079766.\u001b[0m\n",
      "/Users/yutahirai/opt/anaconda3/envs/matlab/lib/python3.8/site-packages/lightgbm/engine.py:181: UserWarning: 'early_stopping_rounds' argument is deprecated and will be removed in a future release of LightGBM. Pass 'early_stopping()' callback via 'callbacks' argument instead.\n",
      "  _log_warning(\"'early_stopping_rounds' argument is deprecated and will be removed in a future release of LightGBM. \"\n",
      "/Users/yutahirai/opt/anaconda3/envs/matlab/lib/python3.8/site-packages/lightgbm/engine.py:239: UserWarning: 'verbose_eval' argument is deprecated and will be removed in a future release of LightGBM. Pass 'log_evaluation()' callback via 'callbacks' argument instead.\n",
      "  _log_warning(\"'verbose_eval' argument is deprecated and will be removed in a future release of LightGBM. \"\n"
     ]
    },
    {
     "name": "stdout",
     "output_type": "stream",
     "text": [
      "[LightGBM] [Info] Number of positive: 1729, number of negative: 5411\n",
      "[LightGBM] [Warning] Auto-choosing row-wise multi-threading, the overhead of testing was 0.000496 seconds.\n",
      "You can set `force_row_wise=true` to remove the overhead.\n",
      "And if memory is not enough, you can set `force_col_wise=true`.\n",
      "[LightGBM] [Info] Total Bins 468\n",
      "[LightGBM] [Info] Number of data points in the train set: 7140, number of used features: 11\n",
      "[LightGBM] [Info] [binary:BoostFromScore]: pavg=0.242157 -> initscore=-1.140891\n",
      "[LightGBM] [Info] Start training from score -1.140891\n",
      "Training until validation scores don't improve for 100 rounds\n",
      "[100]\ttraining's binary_logloss: 0.242125\tvalid_1's binary_logloss: 0.28903\n",
      "[200]\ttraining's binary_logloss: 0.181224\tvalid_1's binary_logloss: 0.270326\n"
     ]
    },
    {
     "name": "stderr",
     "output_type": "stream",
     "text": [
      "\u001b[32m[I 2022-02-15 18:20:02,837]\u001b[0m Trial 56 finished with value: 0.26896502662550803 and parameters: {'max_bin': 434, 'learning_rate': 0.01724580475841791, 'num_leaves': 82}. Best is trial 25 with value: 0.2633296475079766.\u001b[0m\n"
     ]
    },
    {
     "name": "stdout",
     "output_type": "stream",
     "text": [
      "[300]\ttraining's binary_logloss: 0.145133\tvalid_1's binary_logloss: 0.271293\n",
      "Early stopping, best iteration is:\n",
      "[235]\ttraining's binary_logloss: 0.166686\tvalid_1's binary_logloss: 0.268965\n",
      "[LightGBM] [Info] Number of positive: 1729, number of negative: 5411\n",
      "[LightGBM] [Warning] Auto-choosing row-wise multi-threading, the overhead of testing was 0.000395 seconds.\n",
      "You can set `force_row_wise=true` to remove the overhead.\n",
      "And if memory is not enough, you can set `force_col_wise=true`.\n",
      "[LightGBM] [Info] Total Bins 381\n",
      "[LightGBM] [Info] Number of data points in the train set: 7140, number of used features: 11\n",
      "[LightGBM] [Info] [binary:BoostFromScore]: pavg=0.242157 -> initscore=-1.140891\n",
      "[LightGBM] [Info] Start training from score -1.140891\n",
      "Training until validation scores don't improve for 100 rounds\n"
     ]
    },
    {
     "name": "stderr",
     "output_type": "stream",
     "text": [
      "/Users/yutahirai/opt/anaconda3/envs/matlab/lib/python3.8/site-packages/lightgbm/engine.py:181: UserWarning: 'early_stopping_rounds' argument is deprecated and will be removed in a future release of LightGBM. Pass 'early_stopping()' callback via 'callbacks' argument instead.\n",
      "  _log_warning(\"'early_stopping_rounds' argument is deprecated and will be removed in a future release of LightGBM. \"\n",
      "/Users/yutahirai/opt/anaconda3/envs/matlab/lib/python3.8/site-packages/lightgbm/engine.py:239: UserWarning: 'verbose_eval' argument is deprecated and will be removed in a future release of LightGBM. Pass 'log_evaluation()' callback via 'callbacks' argument instead.\n",
      "  _log_warning(\"'verbose_eval' argument is deprecated and will be removed in a future release of LightGBM. \"\n"
     ]
    },
    {
     "name": "stdout",
     "output_type": "stream",
     "text": [
      "[100]\ttraining's binary_logloss: 0.25479\tvalid_1's binary_logloss: 0.281536\n",
      "[200]\ttraining's binary_logloss: 0.212223\tvalid_1's binary_logloss: 0.263817\n"
     ]
    },
    {
     "name": "stderr",
     "output_type": "stream",
     "text": [
      "\u001b[32m[I 2022-02-15 18:20:03,332]\u001b[0m Trial 57 finished with value: 0.2631423416025473 and parameters: {'max_bin': 268, 'learning_rate': 0.020079652837150366, 'num_leaves': 33}. Best is trial 57 with value: 0.2631423416025473.\u001b[0m\n"
     ]
    },
    {
     "name": "stdout",
     "output_type": "stream",
     "text": [
      "[300]\ttraining's binary_logloss: 0.190576\tvalid_1's binary_logloss: 0.264158\n",
      "Early stopping, best iteration is:\n",
      "[230]\ttraining's binary_logloss: 0.204896\tvalid_1's binary_logloss: 0.263142\n",
      "[LightGBM] [Info] Number of positive: 1729, number of negative: 5411\n",
      "[LightGBM] [Warning] Auto-choosing row-wise multi-threading, the overhead of testing was 0.000423 seconds.\n",
      "You can set `force_row_wise=true` to remove the overhead.\n",
      "And if memory is not enough, you can set `force_col_wise=true`.\n",
      "[LightGBM] [Info] Total Bins 468\n",
      "[LightGBM] [Info] Number of data points in the train set: 7140, number of used features: 11\n",
      "[LightGBM] [Info] [binary:BoostFromScore]: pavg=0.242157 -> initscore=-1.140891\n",
      "[LightGBM] [Info] Start training from score -1.140891\n",
      "Training until validation scores don't improve for 100 rounds\n"
     ]
    },
    {
     "name": "stderr",
     "output_type": "stream",
     "text": [
      "/Users/yutahirai/opt/anaconda3/envs/matlab/lib/python3.8/site-packages/lightgbm/engine.py:181: UserWarning: 'early_stopping_rounds' argument is deprecated and will be removed in a future release of LightGBM. Pass 'early_stopping()' callback via 'callbacks' argument instead.\n",
      "  _log_warning(\"'early_stopping_rounds' argument is deprecated and will be removed in a future release of LightGBM. \"\n",
      "/Users/yutahirai/opt/anaconda3/envs/matlab/lib/python3.8/site-packages/lightgbm/engine.py:239: UserWarning: 'verbose_eval' argument is deprecated and will be removed in a future release of LightGBM. Pass 'log_evaluation()' callback via 'callbacks' argument instead.\n",
      "  _log_warning(\"'verbose_eval' argument is deprecated and will be removed in a future release of LightGBM. \"\n"
     ]
    },
    {
     "name": "stdout",
     "output_type": "stream",
     "text": [
      "[100]\ttraining's binary_logloss: 0.226069\tvalid_1's binary_logloss: 0.27648\n"
     ]
    },
    {
     "name": "stderr",
     "output_type": "stream",
     "text": [
      "\u001b[32m[I 2022-02-15 18:20:03,988]\u001b[0m Trial 58 finished with value: 0.26562061603017295 and parameters: {'max_bin': 450, 'learning_rate': 0.022470076337231974, 'num_leaves': 65}. Best is trial 57 with value: 0.2631423416025473.\u001b[0m\n"
     ]
    },
    {
     "name": "stdout",
     "output_type": "stream",
     "text": [
      "[200]\ttraining's binary_logloss: 0.170493\tvalid_1's binary_logloss: 0.265808\n",
      "Early stopping, best iteration is:\n",
      "[185]\ttraining's binary_logloss: 0.176856\tvalid_1's binary_logloss: 0.265621\n",
      "[LightGBM] [Info] Number of positive: 1729, number of negative: 5411\n",
      "[LightGBM] [Warning] Auto-choosing row-wise multi-threading, the overhead of testing was 0.000425 seconds.\n",
      "You can set `force_row_wise=true` to remove the overhead.\n",
      "And if memory is not enough, you can set `force_col_wise=true`.\n",
      "[LightGBM] [Info] Total Bins 477\n",
      "[LightGBM] [Info] Number of data points in the train set: 7140, number of used features: 11\n",
      "[LightGBM] [Info] [binary:BoostFromScore]: pavg=0.242157 -> initscore=-1.140891\n",
      "[LightGBM] [Info] Start training from score -1.140891\n"
     ]
    },
    {
     "name": "stderr",
     "output_type": "stream",
     "text": [
      "/Users/yutahirai/opt/anaconda3/envs/matlab/lib/python3.8/site-packages/lightgbm/engine.py:181: UserWarning: 'early_stopping_rounds' argument is deprecated and will be removed in a future release of LightGBM. Pass 'early_stopping()' callback via 'callbacks' argument instead.\n",
      "  _log_warning(\"'early_stopping_rounds' argument is deprecated and will be removed in a future release of LightGBM. \"\n",
      "/Users/yutahirai/opt/anaconda3/envs/matlab/lib/python3.8/site-packages/lightgbm/engine.py:239: UserWarning: 'verbose_eval' argument is deprecated and will be removed in a future release of LightGBM. Pass 'log_evaluation()' callback via 'callbacks' argument instead.\n",
      "  _log_warning(\"'verbose_eval' argument is deprecated and will be removed in a future release of LightGBM. \"\n"
     ]
    },
    {
     "name": "stdout",
     "output_type": "stream",
     "text": [
      "Training until validation scores don't improve for 100 rounds\n",
      "[100]\ttraining's binary_logloss: 0.176279\tvalid_1's binary_logloss: 0.264478\n"
     ]
    },
    {
     "name": "stderr",
     "output_type": "stream",
     "text": [
      "\u001b[32m[I 2022-02-15 18:20:04,263]\u001b[0m Trial 59 finished with value: 0.26276540312458296 and parameters: {'max_bin': 483, 'learning_rate': 0.07047099875216092, 'num_leaves': 35}. Best is trial 59 with value: 0.26276540312458296.\u001b[0m\n"
     ]
    },
    {
     "name": "stdout",
     "output_type": "stream",
     "text": [
      "Early stopping, best iteration is:\n",
      "[66]\ttraining's binary_logloss: 0.200354\tvalid_1's binary_logloss: 0.262765\n",
      "[LightGBM] [Info] Number of positive: 1729, number of negative: 5411\n",
      "[LightGBM] [Warning] Auto-choosing row-wise multi-threading, the overhead of testing was 0.000407 seconds.\n",
      "You can set `force_row_wise=true` to remove the overhead.\n",
      "And if memory is not enough, you can set `force_col_wise=true`.\n",
      "[LightGBM] [Info] Total Bins 408\n",
      "[LightGBM] [Info] Number of data points in the train set: 7140, number of used features: 11\n",
      "[LightGBM] [Info] [binary:BoostFromScore]: pavg=0.242157 -> initscore=-1.140891\n",
      "[LightGBM] [Info] Start training from score -1.140891\n",
      "Training until validation scores don't improve for 100 rounds\n"
     ]
    },
    {
     "name": "stderr",
     "output_type": "stream",
     "text": [
      "/Users/yutahirai/opt/anaconda3/envs/matlab/lib/python3.8/site-packages/lightgbm/engine.py:181: UserWarning: 'early_stopping_rounds' argument is deprecated and will be removed in a future release of LightGBM. Pass 'early_stopping()' callback via 'callbacks' argument instead.\n",
      "  _log_warning(\"'early_stopping_rounds' argument is deprecated and will be removed in a future release of LightGBM. \"\n",
      "/Users/yutahirai/opt/anaconda3/envs/matlab/lib/python3.8/site-packages/lightgbm/engine.py:239: UserWarning: 'verbose_eval' argument is deprecated and will be removed in a future release of LightGBM. Pass 'log_evaluation()' callback via 'callbacks' argument instead.\n",
      "  _log_warning(\"'verbose_eval' argument is deprecated and will be removed in a future release of LightGBM. \"\n",
      "\u001b[32m[I 2022-02-15 18:20:04,737]\u001b[0m Trial 60 finished with value: 0.2703859017954282 and parameters: {'max_bin': 295, 'learning_rate': 0.06218569230982638, 'num_leaves': 87}. Best is trial 59 with value: 0.26276540312458296.\u001b[0m\n"
     ]
    },
    {
     "name": "stdout",
     "output_type": "stream",
     "text": [
      "[100]\ttraining's binary_logloss: 0.12508\tvalid_1's binary_logloss: 0.274754\n",
      "Early stopping, best iteration is:\n",
      "[70]\ttraining's binary_logloss: 0.155529\tvalid_1's binary_logloss: 0.270386\n",
      "[LightGBM] [Info] Number of positive: 1729, number of negative: 5411\n",
      "[LightGBM] [Warning] Auto-choosing row-wise multi-threading, the overhead of testing was 0.000612 seconds.\n",
      "You can set `force_row_wise=true` to remove the overhead.\n",
      "And if memory is not enough, you can set `force_col_wise=true`.\n",
      "[LightGBM] [Info] Total Bins 424\n",
      "[LightGBM] [Info] Number of data points in the train set: 7140, number of used features: 11\n",
      "[LightGBM] [Info] [binary:BoostFromScore]: pavg=0.242157 -> initscore=-1.140891\n",
      "[LightGBM] [Info] Start training from score -1.140891\n",
      "Training until validation scores don't improve for 100 rounds\n"
     ]
    },
    {
     "name": "stderr",
     "output_type": "stream",
     "text": [
      "/Users/yutahirai/opt/anaconda3/envs/matlab/lib/python3.8/site-packages/lightgbm/engine.py:181: UserWarning: 'early_stopping_rounds' argument is deprecated and will be removed in a future release of LightGBM. Pass 'early_stopping()' callback via 'callbacks' argument instead.\n",
      "  _log_warning(\"'early_stopping_rounds' argument is deprecated and will be removed in a future release of LightGBM. \"\n",
      "/Users/yutahirai/opt/anaconda3/envs/matlab/lib/python3.8/site-packages/lightgbm/engine.py:239: UserWarning: 'verbose_eval' argument is deprecated and will be removed in a future release of LightGBM. Pass 'log_evaluation()' callback via 'callbacks' argument instead.\n",
      "  _log_warning(\"'verbose_eval' argument is deprecated and will be removed in a future release of LightGBM. \"\n",
      "\u001b[32m[I 2022-02-15 18:20:05,148]\u001b[0m Trial 61 finished with value: 0.2700012437729367 and parameters: {'max_bin': 313, 'learning_rate': 0.0934279783926869, 'num_leaves': 91}. Best is trial 59 with value: 0.26276540312458296.\u001b[0m\n"
     ]
    },
    {
     "name": "stdout",
     "output_type": "stream",
     "text": [
      "[100]\ttraining's binary_logloss: 0.0886733\tvalid_1's binary_logloss: 0.291048\n",
      "Early stopping, best iteration is:\n",
      "[43]\ttraining's binary_logloss: 0.158663\tvalid_1's binary_logloss: 0.270001\n",
      "[LightGBM] [Info] Number of positive: 1729, number of negative: 5411\n",
      "[LightGBM] [Warning] Auto-choosing row-wise multi-threading, the overhead of testing was 0.000543 seconds.\n",
      "You can set `force_row_wise=true` to remove the overhead.\n",
      "And if memory is not enough, you can set `force_col_wise=true`.\n",
      "[LightGBM] [Info] Total Bins 457\n",
      "[LightGBM] [Info] Number of data points in the train set: 7140, number of used features: 11\n",
      "[LightGBM] [Info] [binary:BoostFromScore]: pavg=0.242157 -> initscore=-1.140891\n",
      "[LightGBM] [Info] Start training from score -1.140891\n",
      "Training until validation scores don't improve for 100 rounds\n"
     ]
    },
    {
     "name": "stderr",
     "output_type": "stream",
     "text": [
      "/Users/yutahirai/opt/anaconda3/envs/matlab/lib/python3.8/site-packages/lightgbm/engine.py:181: UserWarning: 'early_stopping_rounds' argument is deprecated and will be removed in a future release of LightGBM. Pass 'early_stopping()' callback via 'callbacks' argument instead.\n",
      "  _log_warning(\"'early_stopping_rounds' argument is deprecated and will be removed in a future release of LightGBM. \"\n",
      "/Users/yutahirai/opt/anaconda3/envs/matlab/lib/python3.8/site-packages/lightgbm/engine.py:239: UserWarning: 'verbose_eval' argument is deprecated and will be removed in a future release of LightGBM. Pass 'log_evaluation()' callback via 'callbacks' argument instead.\n",
      "  _log_warning(\"'verbose_eval' argument is deprecated and will be removed in a future release of LightGBM. \"\n"
     ]
    },
    {
     "name": "stdout",
     "output_type": "stream",
     "text": [
      "[100]\ttraining's binary_logloss: 0.118298\tvalid_1's binary_logloss: 0.277731\n"
     ]
    },
    {
     "name": "stderr",
     "output_type": "stream",
     "text": [
      "\u001b[32m[I 2022-02-15 18:20:05,725]\u001b[0m Trial 62 finished with value: 0.2718661834460447 and parameters: {'max_bin': 386, 'learning_rate': 0.05903200663782165, 'num_leaves': 102}. Best is trial 59 with value: 0.26276540312458296.\u001b[0m\n"
     ]
    },
    {
     "name": "stdout",
     "output_type": "stream",
     "text": [
      "Early stopping, best iteration is:\n",
      "[62]\ttraining's binary_logloss: 0.163348\tvalid_1's binary_logloss: 0.271866\n",
      "[LightGBM] [Info] Number of positive: 1729, number of negative: 5411\n",
      "[LightGBM] [Warning] Auto-choosing row-wise multi-threading, the overhead of testing was 0.001056 seconds.\n",
      "You can set `force_row_wise=true` to remove the overhead.\n",
      "And if memory is not enough, you can set `force_col_wise=true`.\n",
      "[LightGBM] [Info] Total Bins 434\n",
      "[LightGBM] [Info] Number of data points in the train set: 7140, number of used features: 11\n",
      "[LightGBM] [Info] [binary:BoostFromScore]: pavg=0.242157 -> initscore=-1.140891\n",
      "[LightGBM] [Info] Start training from score -1.140891\n",
      "Training until validation scores don't improve for 100 rounds\n"
     ]
    },
    {
     "name": "stderr",
     "output_type": "stream",
     "text": [
      "/Users/yutahirai/opt/anaconda3/envs/matlab/lib/python3.8/site-packages/lightgbm/engine.py:181: UserWarning: 'early_stopping_rounds' argument is deprecated and will be removed in a future release of LightGBM. Pass 'early_stopping()' callback via 'callbacks' argument instead.\n",
      "  _log_warning(\"'early_stopping_rounds' argument is deprecated and will be removed in a future release of LightGBM. \"\n",
      "/Users/yutahirai/opt/anaconda3/envs/matlab/lib/python3.8/site-packages/lightgbm/engine.py:239: UserWarning: 'verbose_eval' argument is deprecated and will be removed in a future release of LightGBM. Pass 'log_evaluation()' callback via 'callbacks' argument instead.\n",
      "  _log_warning(\"'verbose_eval' argument is deprecated and will be removed in a future release of LightGBM. \"\n"
     ]
    },
    {
     "name": "stdout",
     "output_type": "stream",
     "text": [
      "[100]\ttraining's binary_logloss: 0.190901\tvalid_1's binary_logloss: 0.263987\n"
     ]
    },
    {
     "name": "stderr",
     "output_type": "stream",
     "text": [
      "\u001b[32m[I 2022-02-15 18:20:06,236]\u001b[0m Trial 63 finished with value: 0.26368517772910094 and parameters: {'max_bin': 331, 'learning_rate': 0.039882284115387585, 'num_leaves': 52}. Best is trial 59 with value: 0.26276540312458296.\u001b[0m\n"
     ]
    },
    {
     "name": "stdout",
     "output_type": "stream",
     "text": [
      "[200]\ttraining's binary_logloss: 0.145012\tvalid_1's binary_logloss: 0.268783\n",
      "Early stopping, best iteration is:\n",
      "[101]\ttraining's binary_logloss: 0.190231\tvalid_1's binary_logloss: 0.263685\n",
      "[LightGBM] [Info] Number of positive: 1729, number of negative: 5411\n",
      "[LightGBM] [Warning] Auto-choosing row-wise multi-threading, the overhead of testing was 0.000461 seconds.\n",
      "You can set `force_row_wise=true` to remove the overhead.\n",
      "And if memory is not enough, you can set `force_col_wise=true`.\n",
      "[LightGBM] [Info] Total Bins 413\n",
      "[LightGBM] [Info] Number of data points in the train set: 7140, number of used features: 11\n",
      "[LightGBM] [Info] [binary:BoostFromScore]: pavg=0.242157 -> initscore=-1.140891\n",
      "[LightGBM] [Info] Start training from score -1.140891\n",
      "Training until validation scores don't improve for 100 rounds\n"
     ]
    },
    {
     "name": "stderr",
     "output_type": "stream",
     "text": [
      "/Users/yutahirai/opt/anaconda3/envs/matlab/lib/python3.8/site-packages/lightgbm/engine.py:181: UserWarning: 'early_stopping_rounds' argument is deprecated and will be removed in a future release of LightGBM. Pass 'early_stopping()' callback via 'callbacks' argument instead.\n",
      "  _log_warning(\"'early_stopping_rounds' argument is deprecated and will be removed in a future release of LightGBM. \"\n",
      "/Users/yutahirai/opt/anaconda3/envs/matlab/lib/python3.8/site-packages/lightgbm/engine.py:239: UserWarning: 'verbose_eval' argument is deprecated and will be removed in a future release of LightGBM. Pass 'log_evaluation()' callback via 'callbacks' argument instead.\n",
      "  _log_warning(\"'verbose_eval' argument is deprecated and will be removed in a future release of LightGBM. \"\n",
      "\u001b[32m[I 2022-02-15 18:20:06,688]\u001b[0m Trial 64 finished with value: 0.27193391952464835 and parameters: {'max_bin': 300, 'learning_rate': 0.09444280175939497, 'num_leaves': 103}. Best is trial 59 with value: 0.26276540312458296.\u001b[0m\n"
     ]
    },
    {
     "name": "stdout",
     "output_type": "stream",
     "text": [
      "[100]\ttraining's binary_logloss: 0.077838\tvalid_1's binary_logloss: 0.297713\n",
      "Early stopping, best iteration is:\n",
      "[41]\ttraining's binary_logloss: 0.157453\tvalid_1's binary_logloss: 0.271934\n",
      "[LightGBM] [Info] Number of positive: 1729, number of negative: 5411\n",
      "[LightGBM] [Warning] Auto-choosing row-wise multi-threading, the overhead of testing was 0.000509 seconds.\n",
      "You can set `force_row_wise=true` to remove the overhead.\n",
      "And if memory is not enough, you can set `force_col_wise=true`.\n",
      "[LightGBM] [Info] Total Bins 451\n",
      "[LightGBM] [Info] Number of data points in the train set: 7140, number of used features: 11\n",
      "[LightGBM] [Info] [binary:BoostFromScore]: pavg=0.242157 -> initscore=-1.140891\n",
      "[LightGBM] [Info] Start training from score -1.140891\n",
      "Training until validation scores don't improve for 100 rounds\n"
     ]
    },
    {
     "name": "stderr",
     "output_type": "stream",
     "text": [
      "/Users/yutahirai/opt/anaconda3/envs/matlab/lib/python3.8/site-packages/lightgbm/engine.py:181: UserWarning: 'early_stopping_rounds' argument is deprecated and will be removed in a future release of LightGBM. Pass 'early_stopping()' callback via 'callbacks' argument instead.\n",
      "  _log_warning(\"'early_stopping_rounds' argument is deprecated and will be removed in a future release of LightGBM. \"\n",
      "/Users/yutahirai/opt/anaconda3/envs/matlab/lib/python3.8/site-packages/lightgbm/engine.py:239: UserWarning: 'verbose_eval' argument is deprecated and will be removed in a future release of LightGBM. Pass 'log_evaluation()' callback via 'callbacks' argument instead.\n",
      "  _log_warning(\"'verbose_eval' argument is deprecated and will be removed in a future release of LightGBM. \"\n"
     ]
    },
    {
     "name": "stdout",
     "output_type": "stream",
     "text": [
      "[100]\ttraining's binary_logloss: 0.230128\tvalid_1's binary_logloss: 0.275692\n",
      "[200]\ttraining's binary_logloss: 0.178309\tvalid_1's binary_logloss: 0.264903\n"
     ]
    },
    {
     "name": "stderr",
     "output_type": "stream",
     "text": [
      "\u001b[32m[I 2022-02-15 18:20:07,343]\u001b[0m Trial 65 finished with value: 0.2643530920443957 and parameters: {'max_bin': 375, 'learning_rate': 0.02281872133453499, 'num_leaves': 56}. Best is trial 59 with value: 0.26276540312458296.\u001b[0m\n"
     ]
    },
    {
     "name": "stdout",
     "output_type": "stream",
     "text": [
      "Early stopping, best iteration is:\n",
      "[189]\ttraining's binary_logloss: 0.182486\tvalid_1's binary_logloss: 0.264353\n",
      "[LightGBM] [Info] Number of positive: 1729, number of negative: 5411\n",
      "[LightGBM] [Warning] Auto-choosing row-wise multi-threading, the overhead of testing was 0.000603 seconds.\n",
      "You can set `force_row_wise=true` to remove the overhead.\n",
      "And if memory is not enough, you can set `force_col_wise=true`.\n",
      "[LightGBM] [Info] Total Bins 382\n",
      "[LightGBM] [Info] Number of data points in the train set: 7140, number of used features: 11\n",
      "[LightGBM] [Info] [binary:BoostFromScore]: pavg=0.242157 -> initscore=-1.140891\n",
      "[LightGBM] [Info] Start training from score -1.140891\n",
      "Training until validation scores don't improve for 100 rounds\n"
     ]
    },
    {
     "name": "stderr",
     "output_type": "stream",
     "text": [
      "/Users/yutahirai/opt/anaconda3/envs/matlab/lib/python3.8/site-packages/lightgbm/engine.py:181: UserWarning: 'early_stopping_rounds' argument is deprecated and will be removed in a future release of LightGBM. Pass 'early_stopping()' callback via 'callbacks' argument instead.\n",
      "  _log_warning(\"'early_stopping_rounds' argument is deprecated and will be removed in a future release of LightGBM. \"\n",
      "/Users/yutahirai/opt/anaconda3/envs/matlab/lib/python3.8/site-packages/lightgbm/engine.py:239: UserWarning: 'verbose_eval' argument is deprecated and will be removed in a future release of LightGBM. Pass 'log_evaluation()' callback via 'callbacks' argument instead.\n",
      "  _log_warning(\"'verbose_eval' argument is deprecated and will be removed in a future release of LightGBM. \"\n",
      "\u001b[32m[I 2022-02-15 18:20:07,771]\u001b[0m Trial 66 finished with value: 0.266293420063043 and parameters: {'max_bin': 269, 'learning_rate': 0.04349822089325627, 'num_leaves': 62}. Best is trial 59 with value: 0.26276540312458296.\u001b[0m\n"
     ]
    },
    {
     "name": "stdout",
     "output_type": "stream",
     "text": [
      "[100]\ttraining's binary_logloss: 0.176386\tvalid_1's binary_logloss: 0.266409\n",
      "Early stopping, best iteration is:\n",
      "[95]\ttraining's binary_logloss: 0.180552\tvalid_1's binary_logloss: 0.266293\n",
      "[LightGBM] [Info] Number of positive: 1729, number of negative: 5411\n",
      "[LightGBM] [Warning] Auto-choosing row-wise multi-threading, the overhead of testing was 0.000475 seconds.\n",
      "You can set `force_row_wise=true` to remove the overhead.\n",
      "And if memory is not enough, you can set `force_col_wise=true`.\n",
      "[LightGBM] [Info] Total Bins 466\n",
      "[LightGBM] [Info] Number of data points in the train set: 7140, number of used features: 11\n",
      "[LightGBM] [Info] [binary:BoostFromScore]: pavg=0.242157 -> initscore=-1.140891\n",
      "[LightGBM] [Info] Start training from score -1.140891\n",
      "Training until validation scores don't improve for 100 rounds\n"
     ]
    },
    {
     "name": "stderr",
     "output_type": "stream",
     "text": [
      "/Users/yutahirai/opt/anaconda3/envs/matlab/lib/python3.8/site-packages/lightgbm/engine.py:181: UserWarning: 'early_stopping_rounds' argument is deprecated and will be removed in a future release of LightGBM. Pass 'early_stopping()' callback via 'callbacks' argument instead.\n",
      "  _log_warning(\"'early_stopping_rounds' argument is deprecated and will be removed in a future release of LightGBM. \"\n",
      "/Users/yutahirai/opt/anaconda3/envs/matlab/lib/python3.8/site-packages/lightgbm/engine.py:239: UserWarning: 'verbose_eval' argument is deprecated and will be removed in a future release of LightGBM. Pass 'log_evaluation()' callback via 'callbacks' argument instead.\n",
      "  _log_warning(\"'verbose_eval' argument is deprecated and will be removed in a future release of LightGBM. \"\n",
      "\u001b[32m[I 2022-02-15 18:20:08,247]\u001b[0m Trial 67 finished with value: 0.2641747145421874 and parameters: {'max_bin': 426, 'learning_rate': 0.037837408745318844, 'num_leaves': 49}. Best is trial 59 with value: 0.26276540312458296.\u001b[0m\n"
     ]
    },
    {
     "name": "stdout",
     "output_type": "stream",
     "text": [
      "[100]\ttraining's binary_logloss: 0.198012\tvalid_1's binary_logloss: 0.265443\n",
      "[200]\ttraining's binary_logloss: 0.152685\tvalid_1's binary_logloss: 0.266309\n",
      "Early stopping, best iteration is:\n",
      "[114]\ttraining's binary_logloss: 0.189281\tvalid_1's binary_logloss: 0.264175\n",
      "[LightGBM] [Info] Number of positive: 1729, number of negative: 5411\n",
      "[LightGBM] [Warning] Auto-choosing row-wise multi-threading, the overhead of testing was 0.000667 seconds.\n",
      "You can set `force_row_wise=true` to remove the overhead.\n",
      "And if memory is not enough, you can set `force_col_wise=true`.\n",
      "[LightGBM] [Info] Total Bins 374\n",
      "[LightGBM] [Info] Number of data points in the train set: 7140, number of used features: 11\n",
      "[LightGBM] [Info] [binary:BoostFromScore]: pavg=0.242157 -> initscore=-1.140891\n",
      "[LightGBM] [Info] Start training from score -1.140891\n",
      "Training until validation scores don't improve for 100 rounds\n"
     ]
    },
    {
     "name": "stderr",
     "output_type": "stream",
     "text": [
      "/Users/yutahirai/opt/anaconda3/envs/matlab/lib/python3.8/site-packages/lightgbm/engine.py:181: UserWarning: 'early_stopping_rounds' argument is deprecated and will be removed in a future release of LightGBM. Pass 'early_stopping()' callback via 'callbacks' argument instead.\n",
      "  _log_warning(\"'early_stopping_rounds' argument is deprecated and will be removed in a future release of LightGBM. \"\n",
      "/Users/yutahirai/opt/anaconda3/envs/matlab/lib/python3.8/site-packages/lightgbm/engine.py:239: UserWarning: 'verbose_eval' argument is deprecated and will be removed in a future release of LightGBM. Pass 'log_evaluation()' callback via 'callbacks' argument instead.\n",
      "  _log_warning(\"'verbose_eval' argument is deprecated and will be removed in a future release of LightGBM. \"\n"
     ]
    },
    {
     "name": "stdout",
     "output_type": "stream",
     "text": [
      "[100]\ttraining's binary_logloss: 0.340672\tvalid_1's binary_logloss: 0.362917\n",
      "[200]\ttraining's binary_logloss: 0.261591\tvalid_1's binary_logloss: 0.303518\n",
      "[300]\ttraining's binary_logloss: 0.220894\tvalid_1's binary_logloss: 0.28302\n",
      "[400]\ttraining's binary_logloss: 0.195476\tvalid_1's binary_logloss: 0.275259\n",
      "[500]\ttraining's binary_logloss: 0.174419\tvalid_1's binary_logloss: 0.272869\n",
      "[600]\ttraining's binary_logloss: 0.156476\tvalid_1's binary_logloss: 0.273526\n",
      "Early stopping, best iteration is:\n",
      "[540]\ttraining's binary_logloss: 0.166744\tvalid_1's binary_logloss: 0.272432\n"
     ]
    },
    {
     "name": "stderr",
     "output_type": "stream",
     "text": [
      "\u001b[32m[I 2022-02-15 18:20:10,261]\u001b[0m Trial 68 finished with value: 0.2724316357758647 and parameters: {'max_bin': 261, 'learning_rate': 0.006818238183178534, 'num_leaves': 97}. Best is trial 59 with value: 0.26276540312458296.\u001b[0m\n",
      "/Users/yutahirai/opt/anaconda3/envs/matlab/lib/python3.8/site-packages/lightgbm/engine.py:181: UserWarning: 'early_stopping_rounds' argument is deprecated and will be removed in a future release of LightGBM. Pass 'early_stopping()' callback via 'callbacks' argument instead.\n",
      "  _log_warning(\"'early_stopping_rounds' argument is deprecated and will be removed in a future release of LightGBM. \"\n",
      "/Users/yutahirai/opt/anaconda3/envs/matlab/lib/python3.8/site-packages/lightgbm/engine.py:239: UserWarning: 'verbose_eval' argument is deprecated and will be removed in a future release of LightGBM. Pass 'log_evaluation()' callback via 'callbacks' argument instead.\n",
      "  _log_warning(\"'verbose_eval' argument is deprecated and will be removed in a future release of LightGBM. \"\n"
     ]
    },
    {
     "name": "stdout",
     "output_type": "stream",
     "text": [
      "[LightGBM] [Info] Number of positive: 1729, number of negative: 5411\n",
      "[LightGBM] [Warning] Auto-choosing row-wise multi-threading, the overhead of testing was 0.000551 seconds.\n",
      "You can set `force_row_wise=true` to remove the overhead.\n",
      "And if memory is not enough, you can set `force_col_wise=true`.\n",
      "[LightGBM] [Info] Total Bins 448\n",
      "[LightGBM] [Info] Number of data points in the train set: 7140, number of used features: 11\n",
      "[LightGBM] [Info] [binary:BoostFromScore]: pavg=0.242157 -> initscore=-1.140891\n",
      "[LightGBM] [Info] Start training from score -1.140891\n",
      "Training until validation scores don't improve for 100 rounds\n",
      "[100]\ttraining's binary_logloss: 0.117441\tvalid_1's binary_logloss: 0.281958\n"
     ]
    },
    {
     "name": "stderr",
     "output_type": "stream",
     "text": [
      "\u001b[32m[I 2022-02-15 18:20:10,856]\u001b[0m Trial 69 finished with value: 0.27493146877572266 and parameters: {'max_bin': 366, 'learning_rate': 0.053704263189761355, 'num_leaves': 118}. Best is trial 59 with value: 0.26276540312458296.\u001b[0m\n"
     ]
    },
    {
     "name": "stdout",
     "output_type": "stream",
     "text": [
      "Early stopping, best iteration is:\n",
      "[69]\ttraining's binary_logloss: 0.15488\tvalid_1's binary_logloss: 0.274931\n",
      "[LightGBM] [Info] Number of positive: 1729, number of negative: 5411\n",
      "[LightGBM] [Warning] Auto-choosing row-wise multi-threading, the overhead of testing was 0.000717 seconds.\n",
      "You can set `force_row_wise=true` to remove the overhead.\n",
      "And if memory is not enough, you can set `force_col_wise=true`.\n",
      "[LightGBM] [Info] Total Bins 477\n",
      "[LightGBM] [Info] Number of data points in the train set: 7140, number of used features: 11\n",
      "[LightGBM] [Info] [binary:BoostFromScore]: pavg=0.242157 -> initscore=-1.140891\n",
      "[LightGBM] [Info] Start training from score -1.140891\n",
      "Training until validation scores don't improve for 100 rounds\n"
     ]
    },
    {
     "name": "stderr",
     "output_type": "stream",
     "text": [
      "/Users/yutahirai/opt/anaconda3/envs/matlab/lib/python3.8/site-packages/lightgbm/engine.py:181: UserWarning: 'early_stopping_rounds' argument is deprecated and will be removed in a future release of LightGBM. Pass 'early_stopping()' callback via 'callbacks' argument instead.\n",
      "  _log_warning(\"'early_stopping_rounds' argument is deprecated and will be removed in a future release of LightGBM. \"\n",
      "/Users/yutahirai/opt/anaconda3/envs/matlab/lib/python3.8/site-packages/lightgbm/engine.py:239: UserWarning: 'verbose_eval' argument is deprecated and will be removed in a future release of LightGBM. Pass 'log_evaluation()' callback via 'callbacks' argument instead.\n",
      "  _log_warning(\"'verbose_eval' argument is deprecated and will be removed in a future release of LightGBM. \"\n"
     ]
    },
    {
     "name": "stdout",
     "output_type": "stream",
     "text": [
      "[100]\ttraining's binary_logloss: 0.215269\tvalid_1's binary_logloss: 0.280434\n",
      "[200]\ttraining's binary_logloss: 0.150658\tvalid_1's binary_logloss: 0.272029\n"
     ]
    },
    {
     "name": "stderr",
     "output_type": "stream",
     "text": [
      "\u001b[32m[I 2022-02-15 18:20:11,973]\u001b[0m Trial 70 finished with value: 0.2712254180245112 and parameters: {'max_bin': 498, 'learning_rate': 0.021768008741407545, 'num_leaves': 96}. Best is trial 59 with value: 0.26276540312458296.\u001b[0m\n"
     ]
    },
    {
     "name": "stdout",
     "output_type": "stream",
     "text": [
      "Early stopping, best iteration is:\n",
      "[168]\ttraining's binary_logloss: 0.167659\tvalid_1's binary_logloss: 0.271225\n",
      "[LightGBM] [Info] Number of positive: 1729, number of negative: 5411\n",
      "[LightGBM] [Warning] Auto-choosing row-wise multi-threading, the overhead of testing was 0.000838 seconds.\n",
      "You can set `force_row_wise=true` to remove the overhead.\n",
      "And if memory is not enough, you can set `force_col_wise=true`.\n",
      "[LightGBM] [Info] Total Bins 428\n",
      "[LightGBM] [Info] Number of data points in the train set: 7140, number of used features: 11\n",
      "[LightGBM] [Info] [binary:BoostFromScore]: pavg=0.242157 -> initscore=-1.140891\n",
      "[LightGBM] [Info] Start training from score -1.140891\n",
      "Training until validation scores don't improve for 100 rounds\n"
     ]
    },
    {
     "name": "stderr",
     "output_type": "stream",
     "text": [
      "/Users/yutahirai/opt/anaconda3/envs/matlab/lib/python3.8/site-packages/lightgbm/engine.py:181: UserWarning: 'early_stopping_rounds' argument is deprecated and will be removed in a future release of LightGBM. Pass 'early_stopping()' callback via 'callbacks' argument instead.\n",
      "  _log_warning(\"'early_stopping_rounds' argument is deprecated and will be removed in a future release of LightGBM. \"\n",
      "/Users/yutahirai/opt/anaconda3/envs/matlab/lib/python3.8/site-packages/lightgbm/engine.py:239: UserWarning: 'verbose_eval' argument is deprecated and will be removed in a future release of LightGBM. Pass 'log_evaluation()' callback via 'callbacks' argument instead.\n",
      "  _log_warning(\"'verbose_eval' argument is deprecated and will be removed in a future release of LightGBM. \"\n"
     ]
    },
    {
     "name": "stdout",
     "output_type": "stream",
     "text": [
      "[100]\ttraining's binary_logloss: 0.455424\tvalid_1's binary_logloss: 0.463588\n",
      "[200]\ttraining's binary_logloss: 0.391565\tvalid_1's binary_logloss: 0.406551\n",
      "[300]\ttraining's binary_logloss: 0.345812\tvalid_1's binary_logloss: 0.367533\n",
      "[400]\ttraining's binary_logloss: 0.311971\tvalid_1's binary_logloss: 0.340519\n",
      "[500]\ttraining's binary_logloss: 0.285973\tvalid_1's binary_logloss: 0.320886\n",
      "[600]\ttraining's binary_logloss: 0.265444\tvalid_1's binary_logloss: 0.306878\n",
      "[700]\ttraining's binary_logloss: 0.248684\tvalid_1's binary_logloss: 0.297037\n",
      "[800]\ttraining's binary_logloss: 0.234859\tvalid_1's binary_logloss: 0.289932\n",
      "[900]\ttraining's binary_logloss: 0.223095\tvalid_1's binary_logloss: 0.284713\n"
     ]
    },
    {
     "name": "stderr",
     "output_type": "stream",
     "text": [
      "\u001b[32m[I 2022-02-15 18:20:16,461]\u001b[0m Trial 71 finished with value: 0.28104044428404185 and parameters: {'max_bin': 319, 'learning_rate': 0.002163034846626295, 'num_leaves': 105}. Best is trial 59 with value: 0.26276540312458296.\u001b[0m\n"
     ]
    },
    {
     "name": "stdout",
     "output_type": "stream",
     "text": [
      "[1000]\ttraining's binary_logloss: 0.213049\tvalid_1's binary_logloss: 0.28104\n",
      "Did not meet early stopping. Best iteration is:\n",
      "[1000]\ttraining's binary_logloss: 0.213049\tvalid_1's binary_logloss: 0.28104\n"
     ]
    },
    {
     "name": "stderr",
     "output_type": "stream",
     "text": [
      "/Users/yutahirai/opt/anaconda3/envs/matlab/lib/python3.8/site-packages/lightgbm/engine.py:181: UserWarning: 'early_stopping_rounds' argument is deprecated and will be removed in a future release of LightGBM. Pass 'early_stopping()' callback via 'callbacks' argument instead.\n",
      "  _log_warning(\"'early_stopping_rounds' argument is deprecated and will be removed in a future release of LightGBM. \"\n",
      "/Users/yutahirai/opt/anaconda3/envs/matlab/lib/python3.8/site-packages/lightgbm/engine.py:239: UserWarning: 'verbose_eval' argument is deprecated and will be removed in a future release of LightGBM. Pass 'log_evaluation()' callback via 'callbacks' argument instead.\n",
      "  _log_warning(\"'verbose_eval' argument is deprecated and will be removed in a future release of LightGBM. \"\n"
     ]
    },
    {
     "name": "stdout",
     "output_type": "stream",
     "text": [
      "[LightGBM] [Info] Number of positive: 1729, number of negative: 5411\n",
      "[LightGBM] [Warning] Auto-choosing row-wise multi-threading, the overhead of testing was 0.001062 seconds.\n",
      "You can set `force_row_wise=true` to remove the overhead.\n",
      "And if memory is not enough, you can set `force_col_wise=true`.\n",
      "[LightGBM] [Info] Total Bins 436\n",
      "[LightGBM] [Info] Number of data points in the train set: 7140, number of used features: 11\n",
      "[LightGBM] [Info] [binary:BoostFromScore]: pavg=0.242157 -> initscore=-1.140891\n",
      "[LightGBM] [Info] Start training from score -1.140891\n",
      "Training until validation scores don't improve for 100 rounds\n",
      "[100]\ttraining's binary_logloss: 0.165889\tvalid_1's binary_logloss: 0.270526\n"
     ]
    },
    {
     "name": "stderr",
     "output_type": "stream",
     "text": [
      "\u001b[32m[I 2022-02-15 18:20:17,046]\u001b[0m Trial 72 finished with value: 0.27041440096249675 and parameters: {'max_bin': 333, 'learning_rate': 0.03840804302777261, 'num_leaves': 89}. Best is trial 59 with value: 0.26276540312458296.\u001b[0m\n"
     ]
    },
    {
     "name": "stdout",
     "output_type": "stream",
     "text": [
      "[200]\ttraining's binary_logloss: 0.108105\tvalid_1's binary_logloss: 0.283193\n",
      "Early stopping, best iteration is:\n",
      "[107]\ttraining's binary_logloss: 0.15987\tvalid_1's binary_logloss: 0.270414\n",
      "[LightGBM] [Info] Number of positive: 1729, number of negative: 5411\n",
      "[LightGBM] [Warning] Auto-choosing row-wise multi-threading, the overhead of testing was 0.000511 seconds.\n",
      "You can set `force_row_wise=true` to remove the overhead.\n",
      "And if memory is not enough, you can set `force_col_wise=true`.\n",
      "[LightGBM] [Info] Total Bins 472\n",
      "[LightGBM] [Info] Number of data points in the train set: 7140, number of used features: 11\n",
      "[LightGBM] [Info] [binary:BoostFromScore]: pavg=0.242157 -> initscore=-1.140891\n",
      "[LightGBM] [Info] Start training from score -1.140891\n",
      "Training until validation scores don't improve for 100 rounds\n"
     ]
    },
    {
     "name": "stderr",
     "output_type": "stream",
     "text": [
      "/Users/yutahirai/opt/anaconda3/envs/matlab/lib/python3.8/site-packages/lightgbm/engine.py:181: UserWarning: 'early_stopping_rounds' argument is deprecated and will be removed in a future release of LightGBM. Pass 'early_stopping()' callback via 'callbacks' argument instead.\n",
      "  _log_warning(\"'early_stopping_rounds' argument is deprecated and will be removed in a future release of LightGBM. \"\n",
      "/Users/yutahirai/opt/anaconda3/envs/matlab/lib/python3.8/site-packages/lightgbm/engine.py:239: UserWarning: 'verbose_eval' argument is deprecated and will be removed in a future release of LightGBM. Pass 'log_evaluation()' callback via 'callbacks' argument instead.\n",
      "  _log_warning(\"'verbose_eval' argument is deprecated and will be removed in a future release of LightGBM. \"\n",
      "\u001b[32m[I 2022-02-15 18:20:17,574]\u001b[0m Trial 73 finished with value: 0.27313394672238345 and parameters: {'max_bin': 459, 'learning_rate': 0.06293528617475576, 'num_leaves': 116}. Best is trial 59 with value: 0.26276540312458296.\u001b[0m\n"
     ]
    },
    {
     "name": "stdout",
     "output_type": "stream",
     "text": [
      "[100]\ttraining's binary_logloss: 0.105562\tvalid_1's binary_logloss: 0.283457\n",
      "Early stopping, best iteration is:\n",
      "[59]\ttraining's binary_logloss: 0.154719\tvalid_1's binary_logloss: 0.273134\n",
      "[LightGBM] [Info] Number of positive: 1729, number of negative: 5411\n",
      "[LightGBM] [Warning] Auto-choosing row-wise multi-threading, the overhead of testing was 0.000624 seconds.\n",
      "You can set `force_row_wise=true` to remove the overhead.\n",
      "And if memory is not enough, you can set `force_col_wise=true`.\n",
      "[LightGBM] [Info] Total Bins 429\n",
      "[LightGBM] [Info] Number of data points in the train set: 7140, number of used features: 11\n",
      "[LightGBM] [Info] [binary:BoostFromScore]: pavg=0.242157 -> initscore=-1.140891\n",
      "[LightGBM] [Info] Start training from score -1.140891\n",
      "Training until validation scores don't improve for 100 rounds\n"
     ]
    },
    {
     "name": "stderr",
     "output_type": "stream",
     "text": [
      "/Users/yutahirai/opt/anaconda3/envs/matlab/lib/python3.8/site-packages/lightgbm/engine.py:181: UserWarning: 'early_stopping_rounds' argument is deprecated and will be removed in a future release of LightGBM. Pass 'early_stopping()' callback via 'callbacks' argument instead.\n",
      "  _log_warning(\"'early_stopping_rounds' argument is deprecated and will be removed in a future release of LightGBM. \"\n",
      "/Users/yutahirai/opt/anaconda3/envs/matlab/lib/python3.8/site-packages/lightgbm/engine.py:239: UserWarning: 'verbose_eval' argument is deprecated and will be removed in a future release of LightGBM. Pass 'log_evaluation()' callback via 'callbacks' argument instead.\n",
      "  _log_warning(\"'verbose_eval' argument is deprecated and will be removed in a future release of LightGBM. \"\n"
     ]
    },
    {
     "name": "stdout",
     "output_type": "stream",
     "text": [
      "[100]\ttraining's binary_logloss: 0.147067\tvalid_1's binary_logloss: 0.272058\n",
      "Early stopping, best iteration is:\n",
      "[54]\ttraining's binary_logloss: 0.187008\tvalid_1's binary_logloss: 0.266721\n"
     ]
    },
    {
     "name": "stderr",
     "output_type": "stream",
     "text": [
      "\u001b[32m[I 2022-02-15 18:20:18,029]\u001b[0m Trial 74 finished with value: 0.2667210103469826 and parameters: {'max_bin': 322, 'learning_rate': 0.07982487870786512, 'num_leaves': 50}. Best is trial 59 with value: 0.26276540312458296.\u001b[0m\n",
      "/Users/yutahirai/opt/anaconda3/envs/matlab/lib/python3.8/site-packages/lightgbm/engine.py:181: UserWarning: 'early_stopping_rounds' argument is deprecated and will be removed in a future release of LightGBM. Pass 'early_stopping()' callback via 'callbacks' argument instead.\n",
      "  _log_warning(\"'early_stopping_rounds' argument is deprecated and will be removed in a future release of LightGBM. \"\n",
      "/Users/yutahirai/opt/anaconda3/envs/matlab/lib/python3.8/site-packages/lightgbm/engine.py:239: UserWarning: 'verbose_eval' argument is deprecated and will be removed in a future release of LightGBM. Pass 'log_evaluation()' callback via 'callbacks' argument instead.\n",
      "  _log_warning(\"'verbose_eval' argument is deprecated and will be removed in a future release of LightGBM. \"\n"
     ]
    },
    {
     "name": "stdout",
     "output_type": "stream",
     "text": [
      "[LightGBM] [Info] Number of positive: 1729, number of negative: 5411\n",
      "[LightGBM] [Warning] Auto-choosing row-wise multi-threading, the overhead of testing was 0.001366 seconds.\n",
      "You can set `force_row_wise=true` to remove the overhead.\n",
      "And if memory is not enough, you can set `force_col_wise=true`.\n",
      "[LightGBM] [Info] Total Bins 477\n",
      "[LightGBM] [Info] Number of data points in the train set: 7140, number of used features: 11\n",
      "[LightGBM] [Info] [binary:BoostFromScore]: pavg=0.242157 -> initscore=-1.140891\n",
      "[LightGBM] [Info] Start training from score -1.140891\n",
      "Training until validation scores don't improve for 100 rounds\n"
     ]
    },
    {
     "name": "stderr",
     "output_type": "stream",
     "text": [
      "\u001b[32m[I 2022-02-15 18:20:18,879]\u001b[0m Trial 75 finished with value: 0.2639987348767035 and parameters: {'max_bin': 489, 'learning_rate': 0.06878007881114276, 'num_leaves': 52}. Best is trial 59 with value: 0.26276540312458296.\u001b[0m\n"
     ]
    },
    {
     "name": "stdout",
     "output_type": "stream",
     "text": [
      "[100]\ttraining's binary_logloss: 0.154557\tvalid_1's binary_logloss: 0.268637\n",
      "Early stopping, best iteration is:\n",
      "[62]\ttraining's binary_logloss: 0.186939\tvalid_1's binary_logloss: 0.263999\n",
      "[LightGBM] [Info] Number of positive: 1729, number of negative: 5411\n",
      "[LightGBM] [Warning] Auto-choosing row-wise multi-threading, the overhead of testing was 0.000446 seconds.\n",
      "You can set `force_row_wise=true` to remove the overhead.\n",
      "And if memory is not enough, you can set `force_col_wise=true`.\n",
      "[LightGBM] [Info] Total Bins 477\n",
      "[LightGBM] [Info] Number of data points in the train set: 7140, number of used features: 11\n",
      "[LightGBM] [Info] [binary:BoostFromScore]: pavg=0.242157 -> initscore=-1.140891\n",
      "[LightGBM] [Info] Start training from score -1.140891\n",
      "Training until validation scores don't improve for 100 rounds\n"
     ]
    },
    {
     "name": "stderr",
     "output_type": "stream",
     "text": [
      "/Users/yutahirai/opt/anaconda3/envs/matlab/lib/python3.8/site-packages/lightgbm/engine.py:181: UserWarning: 'early_stopping_rounds' argument is deprecated and will be removed in a future release of LightGBM. Pass 'early_stopping()' callback via 'callbacks' argument instead.\n",
      "  _log_warning(\"'early_stopping_rounds' argument is deprecated and will be removed in a future release of LightGBM. \"\n",
      "/Users/yutahirai/opt/anaconda3/envs/matlab/lib/python3.8/site-packages/lightgbm/engine.py:239: UserWarning: 'verbose_eval' argument is deprecated and will be removed in a future release of LightGBM. Pass 'log_evaluation()' callback via 'callbacks' argument instead.\n",
      "  _log_warning(\"'verbose_eval' argument is deprecated and will be removed in a future release of LightGBM. \"\n",
      "\u001b[32m[I 2022-02-15 18:20:19,204]\u001b[0m Trial 76 finished with value: 0.26529871975822644 and parameters: {'max_bin': 488, 'learning_rate': 0.07311249509633877, 'num_leaves': 56}. Best is trial 59 with value: 0.26276540312458296.\u001b[0m\n"
     ]
    },
    {
     "name": "stdout",
     "output_type": "stream",
     "text": [
      "[100]\ttraining's binary_logloss: 0.143517\tvalid_1's binary_logloss: 0.270252\n",
      "Early stopping, best iteration is:\n",
      "[54]\ttraining's binary_logloss: 0.187665\tvalid_1's binary_logloss: 0.265299\n",
      "[LightGBM] [Info] Number of positive: 1729, number of negative: 5411\n",
      "[LightGBM] [Warning] Auto-choosing row-wise multi-threading, the overhead of testing was 0.000826 seconds.\n",
      "You can set `force_row_wise=true` to remove the overhead.\n",
      "And if memory is not enough, you can set `force_col_wise=true`.\n",
      "[LightGBM] [Info] Total Bins 420\n",
      "[LightGBM] [Info] Number of data points in the train set: 7140, number of used features: 11\n",
      "[LightGBM] [Info] [binary:BoostFromScore]: pavg=0.242157 -> initscore=-1.140891\n",
      "[LightGBM] [Info] Start training from score -1.140891\n",
      "Training until validation scores don't improve for 100 rounds\n"
     ]
    },
    {
     "name": "stderr",
     "output_type": "stream",
     "text": [
      "/Users/yutahirai/opt/anaconda3/envs/matlab/lib/python3.8/site-packages/lightgbm/engine.py:181: UserWarning: 'early_stopping_rounds' argument is deprecated and will be removed in a future release of LightGBM. Pass 'early_stopping()' callback via 'callbacks' argument instead.\n",
      "  _log_warning(\"'early_stopping_rounds' argument is deprecated and will be removed in a future release of LightGBM. \"\n",
      "/Users/yutahirai/opt/anaconda3/envs/matlab/lib/python3.8/site-packages/lightgbm/engine.py:239: UserWarning: 'verbose_eval' argument is deprecated and will be removed in a future release of LightGBM. Pass 'log_evaluation()' callback via 'callbacks' argument instead.\n",
      "  _log_warning(\"'verbose_eval' argument is deprecated and will be removed in a future release of LightGBM. \"\n"
     ]
    },
    {
     "name": "stdout",
     "output_type": "stream",
     "text": [
      "[100]\ttraining's binary_logloss: 0.196834\tvalid_1's binary_logloss: 0.264333\n",
      "[200]\ttraining's binary_logloss: 0.153198\tvalid_1's binary_logloss: 0.268269\n",
      "Early stopping, best iteration is:\n",
      "[129]\ttraining's binary_logloss: 0.181587\tvalid_1's binary_logloss: 0.263567\n"
     ]
    },
    {
     "name": "stderr",
     "output_type": "stream",
     "text": [
      "\u001b[32m[I 2022-02-15 18:20:19,623]\u001b[0m Trial 77 finished with value: 0.26356696164984145 and parameters: {'max_bin': 307, 'learning_rate': 0.05186825132167326, 'num_leaves': 34}. Best is trial 59 with value: 0.26276540312458296.\u001b[0m\n",
      "/Users/yutahirai/opt/anaconda3/envs/matlab/lib/python3.8/site-packages/lightgbm/engine.py:181: UserWarning: 'early_stopping_rounds' argument is deprecated and will be removed in a future release of LightGBM. Pass 'early_stopping()' callback via 'callbacks' argument instead.\n",
      "  _log_warning(\"'early_stopping_rounds' argument is deprecated and will be removed in a future release of LightGBM. \"\n",
      "/Users/yutahirai/opt/anaconda3/envs/matlab/lib/python3.8/site-packages/lightgbm/engine.py:239: UserWarning: 'verbose_eval' argument is deprecated and will be removed in a future release of LightGBM. Pass 'log_evaluation()' callback via 'callbacks' argument instead.\n",
      "  _log_warning(\"'verbose_eval' argument is deprecated and will be removed in a future release of LightGBM. \"\n"
     ]
    },
    {
     "name": "stdout",
     "output_type": "stream",
     "text": [
      "[LightGBM] [Info] Number of positive: 1729, number of negative: 5411\n",
      "[LightGBM] [Warning] Auto-choosing row-wise multi-threading, the overhead of testing was 0.001005 seconds.\n",
      "You can set `force_row_wise=true` to remove the overhead.\n",
      "And if memory is not enough, you can set `force_col_wise=true`.\n",
      "[LightGBM] [Info] Total Bins 419\n",
      "[LightGBM] [Info] Number of data points in the train set: 7140, number of used features: 11\n",
      "[LightGBM] [Info] [binary:BoostFromScore]: pavg=0.242157 -> initscore=-1.140891\n",
      "[LightGBM] [Info] Start training from score -1.140891\n",
      "Training until validation scores don't improve for 100 rounds\n",
      "[100]\ttraining's binary_logloss: 0.172026\tvalid_1's binary_logloss: 0.265629\n"
     ]
    },
    {
     "name": "stderr",
     "output_type": "stream",
     "text": [
      "\u001b[32m[I 2022-02-15 18:20:20,191]\u001b[0m Trial 78 finished with value: 0.265413243786512 and parameters: {'max_bin': 306, 'learning_rate': 0.04252607832827548, 'num_leaves': 68}. Best is trial 59 with value: 0.26276540312458296.\u001b[0m\n"
     ]
    },
    {
     "name": "stdout",
     "output_type": "stream",
     "text": [
      "Early stopping, best iteration is:\n",
      "[97]\ttraining's binary_logloss: 0.174287\tvalid_1's binary_logloss: 0.265413\n",
      "[LightGBM] [Info] Number of positive: 1729, number of negative: 5411\n",
      "[LightGBM] [Warning] Auto-choosing row-wise multi-threading, the overhead of testing was 0.000759 seconds.\n",
      "You can set `force_row_wise=true` to remove the overhead.\n",
      "And if memory is not enough, you can set `force_col_wise=true`.\n",
      "[LightGBM] [Info] Total Bins 448\n",
      "[LightGBM] [Info] Number of data points in the train set: 7140, number of used features: 11\n",
      "[LightGBM] [Info] [binary:BoostFromScore]: pavg=0.242157 -> initscore=-1.140891\n",
      "[LightGBM] [Info] Start training from score -1.140891\n",
      "Training until validation scores don't improve for 100 rounds\n"
     ]
    },
    {
     "name": "stderr",
     "output_type": "stream",
     "text": [
      "/Users/yutahirai/opt/anaconda3/envs/matlab/lib/python3.8/site-packages/lightgbm/engine.py:181: UserWarning: 'early_stopping_rounds' argument is deprecated and will be removed in a future release of LightGBM. Pass 'early_stopping()' callback via 'callbacks' argument instead.\n",
      "  _log_warning(\"'early_stopping_rounds' argument is deprecated and will be removed in a future release of LightGBM. \"\n",
      "/Users/yutahirai/opt/anaconda3/envs/matlab/lib/python3.8/site-packages/lightgbm/engine.py:239: UserWarning: 'verbose_eval' argument is deprecated and will be removed in a future release of LightGBM. Pass 'log_evaluation()' callback via 'callbacks' argument instead.\n",
      "  _log_warning(\"'verbose_eval' argument is deprecated and will be removed in a future release of LightGBM. \"\n"
     ]
    },
    {
     "name": "stdout",
     "output_type": "stream",
     "text": [
      "[100]\ttraining's binary_logloss: 0.197203\tvalid_1's binary_logloss: 0.273748\n"
     ]
    },
    {
     "name": "stderr",
     "output_type": "stream",
     "text": [
      "\u001b[32m[I 2022-02-15 18:20:20,962]\u001b[0m Trial 79 finished with value: 0.26908136763285445 and parameters: {'max_bin': 369, 'learning_rate': 0.02783510775884372, 'num_leaves': 88}. Best is trial 59 with value: 0.26276540312458296.\u001b[0m\n"
     ]
    },
    {
     "name": "stdout",
     "output_type": "stream",
     "text": [
      "[200]\ttraining's binary_logloss: 0.134916\tvalid_1's binary_logloss: 0.274469\n",
      "Early stopping, best iteration is:\n",
      "[138]\ttraining's binary_logloss: 0.167135\tvalid_1's binary_logloss: 0.269081\n",
      "[LightGBM] [Info] Number of positive: 1729, number of negative: 5411\n",
      "[LightGBM] [Warning] Auto-choosing row-wise multi-threading, the overhead of testing was 0.000697 seconds.\n",
      "You can set `force_row_wise=true` to remove the overhead.\n",
      "And if memory is not enough, you can set `force_col_wise=true`.\n",
      "[LightGBM] [Info] Total Bins 475\n",
      "[LightGBM] [Info] Number of data points in the train set: 7140, number of used features: 11\n",
      "[LightGBM] [Info] [binary:BoostFromScore]: pavg=0.242157 -> initscore=-1.140891\n",
      "[LightGBM] [Info] Start training from score -1.140891\n",
      "Training until validation scores don't improve for 100 rounds\n"
     ]
    },
    {
     "name": "stderr",
     "output_type": "stream",
     "text": [
      "/Users/yutahirai/opt/anaconda3/envs/matlab/lib/python3.8/site-packages/lightgbm/engine.py:181: UserWarning: 'early_stopping_rounds' argument is deprecated and will be removed in a future release of LightGBM. Pass 'early_stopping()' callback via 'callbacks' argument instead.\n",
      "  _log_warning(\"'early_stopping_rounds' argument is deprecated and will be removed in a future release of LightGBM. \"\n",
      "/Users/yutahirai/opt/anaconda3/envs/matlab/lib/python3.8/site-packages/lightgbm/engine.py:239: UserWarning: 'verbose_eval' argument is deprecated and will be removed in a future release of LightGBM. Pass 'log_evaluation()' callback via 'callbacks' argument instead.\n",
      "  _log_warning(\"'verbose_eval' argument is deprecated and will be removed in a future release of LightGBM. \"\n"
     ]
    },
    {
     "name": "stdout",
     "output_type": "stream",
     "text": [
      "[100]\ttraining's binary_logloss: 0.280429\tvalid_1's binary_logloss: 0.313296\n",
      "[200]\ttraining's binary_logloss: 0.213798\tvalid_1's binary_logloss: 0.276861\n",
      "[300]\ttraining's binary_logloss: 0.178646\tvalid_1's binary_logloss: 0.270298\n",
      "[400]\ttraining's binary_logloss: 0.152928\tvalid_1's binary_logloss: 0.269918\n"
     ]
    },
    {
     "name": "stderr",
     "output_type": "stream",
     "text": [
      "\u001b[32m[I 2022-02-15 18:20:22,361]\u001b[0m Trial 80 finished with value: 0.2695337611331485 and parameters: {'max_bin': 467, 'learning_rate': 0.011841432410607105, 'num_leaves': 82}. Best is trial 59 with value: 0.26276540312458296.\u001b[0m\n"
     ]
    },
    {
     "name": "stdout",
     "output_type": "stream",
     "text": [
      "Early stopping, best iteration is:\n",
      "[369]\ttraining's binary_logloss: 0.15992\tvalid_1's binary_logloss: 0.269534\n",
      "[LightGBM] [Info] Number of positive: 1729, number of negative: 5411\n",
      "[LightGBM] [Warning] Auto-choosing row-wise multi-threading, the overhead of testing was 0.000722 seconds.\n",
      "You can set `force_row_wise=true` to remove the overhead.\n",
      "And if memory is not enough, you can set `force_col_wise=true`.\n",
      "[LightGBM] [Info] Total Bins 400\n",
      "[LightGBM] [Info] Number of data points in the train set: 7140, number of used features: 11\n",
      "[LightGBM] [Info] [binary:BoostFromScore]: pavg=0.242157 -> initscore=-1.140891\n",
      "[LightGBM] [Info] Start training from score -1.140891\n",
      "Training until validation scores don't improve for 100 rounds\n"
     ]
    },
    {
     "name": "stderr",
     "output_type": "stream",
     "text": [
      "/Users/yutahirai/opt/anaconda3/envs/matlab/lib/python3.8/site-packages/lightgbm/engine.py:181: UserWarning: 'early_stopping_rounds' argument is deprecated and will be removed in a future release of LightGBM. Pass 'early_stopping()' callback via 'callbacks' argument instead.\n",
      "  _log_warning(\"'early_stopping_rounds' argument is deprecated and will be removed in a future release of LightGBM. \"\n",
      "/Users/yutahirai/opt/anaconda3/envs/matlab/lib/python3.8/site-packages/lightgbm/engine.py:239: UserWarning: 'verbose_eval' argument is deprecated and will be removed in a future release of LightGBM. Pass 'log_evaluation()' callback via 'callbacks' argument instead.\n",
      "  _log_warning(\"'verbose_eval' argument is deprecated and will be removed in a future release of LightGBM. \"\n",
      "\u001b[32m[I 2022-02-15 18:20:22,741]\u001b[0m Trial 81 finished with value: 0.2675871451537978 and parameters: {'max_bin': 287, 'learning_rate': 0.07171428215114012, 'num_leaves': 70}. Best is trial 59 with value: 0.26276540312458296.\u001b[0m\n"
     ]
    },
    {
     "name": "stdout",
     "output_type": "stream",
     "text": [
      "[100]\ttraining's binary_logloss: 0.132119\tvalid_1's binary_logloss: 0.274714\n",
      "Early stopping, best iteration is:\n",
      "[53]\ttraining's binary_logloss: 0.180218\tvalid_1's binary_logloss: 0.267587\n",
      "[LightGBM] [Info] Number of positive: 1729, number of negative: 5411\n",
      "[LightGBM] [Warning] Auto-choosing row-wise multi-threading, the overhead of testing was 0.001490 seconds.\n",
      "You can set `force_row_wise=true` to remove the overhead.\n",
      "And if memory is not enough, you can set `force_col_wise=true`.\n",
      "[LightGBM] [Info] Total Bins 457\n",
      "[LightGBM] [Info] Number of data points in the train set: 7140, number of used features: 11\n",
      "[LightGBM] [Info] [binary:BoostFromScore]: pavg=0.242157 -> initscore=-1.140891\n",
      "[LightGBM] [Info] Start training from score -1.140891\n",
      "Training until validation scores don't improve for 100 rounds\n"
     ]
    },
    {
     "name": "stderr",
     "output_type": "stream",
     "text": [
      "/Users/yutahirai/opt/anaconda3/envs/matlab/lib/python3.8/site-packages/lightgbm/engine.py:181: UserWarning: 'early_stopping_rounds' argument is deprecated and will be removed in a future release of LightGBM. Pass 'early_stopping()' callback via 'callbacks' argument instead.\n",
      "  _log_warning(\"'early_stopping_rounds' argument is deprecated and will be removed in a future release of LightGBM. \"\n",
      "/Users/yutahirai/opt/anaconda3/envs/matlab/lib/python3.8/site-packages/lightgbm/engine.py:239: UserWarning: 'verbose_eval' argument is deprecated and will be removed in a future release of LightGBM. Pass 'log_evaluation()' callback via 'callbacks' argument instead.\n",
      "  _log_warning(\"'verbose_eval' argument is deprecated and will be removed in a future release of LightGBM. \"\n"
     ]
    },
    {
     "name": "stdout",
     "output_type": "stream",
     "text": [
      "[100]\ttraining's binary_logloss: 0.252795\tvalid_1's binary_logloss: 0.28527\n",
      "[200]\ttraining's binary_logloss: 0.203308\tvalid_1's binary_logloss: 0.264943\n"
     ]
    },
    {
     "name": "stderr",
     "output_type": "stream",
     "text": [
      "\u001b[32m[I 2022-02-15 18:20:23,515]\u001b[0m Trial 82 finished with value: 0.2632695665961921 and parameters: {'max_bin': 394, 'learning_rate': 0.018409655637786453, 'num_leaves': 46}. Best is trial 59 with value: 0.26276540312458296.\u001b[0m\n"
     ]
    },
    {
     "name": "stdout",
     "output_type": "stream",
     "text": [
      "[300]\ttraining's binary_logloss: 0.178362\tvalid_1's binary_logloss: 0.264521\n",
      "Early stopping, best iteration is:\n",
      "[241]\ttraining's binary_logloss: 0.190863\tvalid_1's binary_logloss: 0.26327\n",
      "[LightGBM] [Info] Number of positive: 1729, number of negative: 5411\n",
      "[LightGBM] [Warning] Auto-choosing row-wise multi-threading, the overhead of testing was 0.000641 seconds.\n",
      "You can set `force_row_wise=true` to remove the overhead.\n",
      "And if memory is not enough, you can set `force_col_wise=true`.\n",
      "[LightGBM] [Info] Total Bins 451\n",
      "[LightGBM] [Info] Number of data points in the train set: 7140, number of used features: 11\n",
      "[LightGBM] [Info] [binary:BoostFromScore]: pavg=0.242157 -> initscore=-1.140891\n",
      "[LightGBM] [Info] Start training from score -1.140891\n",
      "Training until validation scores don't improve for 100 rounds\n"
     ]
    },
    {
     "name": "stderr",
     "output_type": "stream",
     "text": [
      "/Users/yutahirai/opt/anaconda3/envs/matlab/lib/python3.8/site-packages/lightgbm/engine.py:181: UserWarning: 'early_stopping_rounds' argument is deprecated and will be removed in a future release of LightGBM. Pass 'early_stopping()' callback via 'callbacks' argument instead.\n",
      "  _log_warning(\"'early_stopping_rounds' argument is deprecated and will be removed in a future release of LightGBM. \"\n",
      "/Users/yutahirai/opt/anaconda3/envs/matlab/lib/python3.8/site-packages/lightgbm/engine.py:239: UserWarning: 'verbose_eval' argument is deprecated and will be removed in a future release of LightGBM. Pass 'log_evaluation()' callback via 'callbacks' argument instead.\n",
      "  _log_warning(\"'verbose_eval' argument is deprecated and will be removed in a future release of LightGBM. \"\n"
     ]
    },
    {
     "name": "stdout",
     "output_type": "stream",
     "text": [
      "[100]\ttraining's binary_logloss: 0.157285\tvalid_1's binary_logloss: 0.273847\n"
     ]
    },
    {
     "name": "stderr",
     "output_type": "stream",
     "text": [
      "\u001b[32m[I 2022-02-15 18:20:24,221]\u001b[0m Trial 83 finished with value: 0.2737886154190359 and parameters: {'max_bin': 375, 'learning_rate': 0.03562571251121057, 'num_leaves': 123}. Best is trial 59 with value: 0.26276540312458296.\u001b[0m\n"
     ]
    },
    {
     "name": "stdout",
     "output_type": "stream",
     "text": [
      "[200]\ttraining's binary_logloss: 0.0884152\tvalid_1's binary_logloss: 0.289516\n",
      "Early stopping, best iteration is:\n",
      "[102]\ttraining's binary_logloss: 0.155123\tvalid_1's binary_logloss: 0.273789\n",
      "[LightGBM] [Info] Number of positive: 1729, number of negative: 5411\n",
      "[LightGBM] [Warning] Auto-choosing row-wise multi-threading, the overhead of testing was 0.000702 seconds.\n",
      "You can set `force_row_wise=true` to remove the overhead.\n",
      "And if memory is not enough, you can set `force_col_wise=true`.\n",
      "[LightGBM] [Info] Total Bins 468\n",
      "[LightGBM] [Info] Number of data points in the train set: 7140, number of used features: 11\n",
      "[LightGBM] [Info] [binary:BoostFromScore]: pavg=0.242157 -> initscore=-1.140891\n",
      "[LightGBM] [Info] Start training from score -1.140891\n",
      "Training until validation scores don't improve for 100 rounds\n"
     ]
    },
    {
     "name": "stderr",
     "output_type": "stream",
     "text": [
      "/Users/yutahirai/opt/anaconda3/envs/matlab/lib/python3.8/site-packages/lightgbm/engine.py:181: UserWarning: 'early_stopping_rounds' argument is deprecated and will be removed in a future release of LightGBM. Pass 'early_stopping()' callback via 'callbacks' argument instead.\n",
      "  _log_warning(\"'early_stopping_rounds' argument is deprecated and will be removed in a future release of LightGBM. \"\n",
      "/Users/yutahirai/opt/anaconda3/envs/matlab/lib/python3.8/site-packages/lightgbm/engine.py:239: UserWarning: 'verbose_eval' argument is deprecated and will be removed in a future release of LightGBM. Pass 'log_evaluation()' callback via 'callbacks' argument instead.\n",
      "  _log_warning(\"'verbose_eval' argument is deprecated and will be removed in a future release of LightGBM. \"\n",
      "\u001b[32m[I 2022-02-15 18:20:24,821]\u001b[0m Trial 84 finished with value: 0.27540251182259695 and parameters: {'max_bin': 443, 'learning_rate': 0.07489149562306968, 'num_leaves': 119}. Best is trial 59 with value: 0.26276540312458296.\u001b[0m\n"
     ]
    },
    {
     "name": "stdout",
     "output_type": "stream",
     "text": [
      "[100]\ttraining's binary_logloss: 0.0869234\tvalid_1's binary_logloss: 0.294702\n",
      "Early stopping, best iteration is:\n",
      "[46]\ttraining's binary_logloss: 0.162934\tvalid_1's binary_logloss: 0.275403\n",
      "[LightGBM] [Info] Number of positive: 1729, number of negative: 5411\n",
      "[LightGBM] [Warning] Auto-choosing row-wise multi-threading, the overhead of testing was 0.000641 seconds.\n",
      "You can set `force_row_wise=true` to remove the overhead.\n",
      "And if memory is not enough, you can set `force_col_wise=true`.\n",
      "[LightGBM] [Info] Total Bins 388\n",
      "[LightGBM] [Info] Number of data points in the train set: 7140, number of used features: 11\n",
      "[LightGBM] [Info] [binary:BoostFromScore]: pavg=0.242157 -> initscore=-1.140891\n",
      "[LightGBM] [Info] Start training from score -1.140891\n",
      "Training until validation scores don't improve for 100 rounds\n"
     ]
    },
    {
     "name": "stderr",
     "output_type": "stream",
     "text": [
      "/Users/yutahirai/opt/anaconda3/envs/matlab/lib/python3.8/site-packages/lightgbm/engine.py:181: UserWarning: 'early_stopping_rounds' argument is deprecated and will be removed in a future release of LightGBM. Pass 'early_stopping()' callback via 'callbacks' argument instead.\n",
      "  _log_warning(\"'early_stopping_rounds' argument is deprecated and will be removed in a future release of LightGBM. \"\n",
      "/Users/yutahirai/opt/anaconda3/envs/matlab/lib/python3.8/site-packages/lightgbm/engine.py:239: UserWarning: 'verbose_eval' argument is deprecated and will be removed in a future release of LightGBM. Pass 'log_evaluation()' callback via 'callbacks' argument instead.\n",
      "  _log_warning(\"'verbose_eval' argument is deprecated and will be removed in a future release of LightGBM. \"\n"
     ]
    },
    {
     "name": "stdout",
     "output_type": "stream",
     "text": [
      "[100]\ttraining's binary_logloss: 0.135295\tvalid_1's binary_logloss: 0.275004\n"
     ]
    },
    {
     "name": "stderr",
     "output_type": "stream",
     "text": [
      "\u001b[32m[I 2022-02-15 18:20:25,665]\u001b[0m Trial 85 finished with value: 0.27099783672203126 and parameters: {'max_bin': 275, 'learning_rate': 0.05526402774524842, 'num_leaves': 88}. Best is trial 59 with value: 0.26276540312458296.\u001b[0m\n"
     ]
    },
    {
     "name": "stdout",
     "output_type": "stream",
     "text": [
      "Early stopping, best iteration is:\n",
      "[73]\ttraining's binary_logloss: 0.162835\tvalid_1's binary_logloss: 0.270998\n",
      "[LightGBM] [Info] Number of positive: 1729, number of negative: 5411\n",
      "[LightGBM] [Warning] Auto-choosing row-wise multi-threading, the overhead of testing was 0.001435 seconds.\n",
      "You can set `force_row_wise=true` to remove the overhead.\n",
      "And if memory is not enough, you can set `force_col_wise=true`.\n",
      "[LightGBM] [Info] Total Bins 477\n",
      "[LightGBM] [Info] Number of data points in the train set: 7140, number of used features: 11\n",
      "[LightGBM] [Info] [binary:BoostFromScore]: pavg=0.242157 -> initscore=-1.140891\n",
      "[LightGBM] [Info] Start training from score -1.140891\n",
      "Training until validation scores don't improve for 100 rounds\n"
     ]
    },
    {
     "name": "stderr",
     "output_type": "stream",
     "text": [
      "/Users/yutahirai/opt/anaconda3/envs/matlab/lib/python3.8/site-packages/lightgbm/engine.py:181: UserWarning: 'early_stopping_rounds' argument is deprecated and will be removed in a future release of LightGBM. Pass 'early_stopping()' callback via 'callbacks' argument instead.\n",
      "  _log_warning(\"'early_stopping_rounds' argument is deprecated and will be removed in a future release of LightGBM. \"\n",
      "/Users/yutahirai/opt/anaconda3/envs/matlab/lib/python3.8/site-packages/lightgbm/engine.py:239: UserWarning: 'verbose_eval' argument is deprecated and will be removed in a future release of LightGBM. Pass 'log_evaluation()' callback via 'callbacks' argument instead.\n",
      "  _log_warning(\"'verbose_eval' argument is deprecated and will be removed in a future release of LightGBM. \"\n"
     ]
    },
    {
     "name": "stdout",
     "output_type": "stream",
     "text": [
      "[100]\ttraining's binary_logloss: 0.212124\tvalid_1's binary_logloss: 0.269984\n",
      "[200]\ttraining's binary_logloss: 0.16274\tvalid_1's binary_logloss: 0.266891\n"
     ]
    },
    {
     "name": "stderr",
     "output_type": "stream",
     "text": [
      "\u001b[32m[I 2022-02-15 18:20:26,208]\u001b[0m Trial 86 finished with value: 0.26454440022280956 and parameters: {'max_bin': 491, 'learning_rate': 0.02928553792657563, 'num_leaves': 55}. Best is trial 59 with value: 0.26276540312458296.\u001b[0m\n"
     ]
    },
    {
     "name": "stdout",
     "output_type": "stream",
     "text": [
      "Early stopping, best iteration is:\n",
      "[142]\ttraining's binary_logloss: 0.185587\tvalid_1's binary_logloss: 0.264544\n",
      "[LightGBM] [Info] Number of positive: 1729, number of negative: 5411\n",
      "[LightGBM] [Warning] Auto-choosing row-wise multi-threading, the overhead of testing was 0.000531 seconds.\n",
      "You can set `force_row_wise=true` to remove the overhead.\n",
      "And if memory is not enough, you can set `force_col_wise=true`.\n",
      "[LightGBM] [Info] Total Bins 392\n",
      "[LightGBM] [Info] Number of data points in the train set: 7140, number of used features: 11\n",
      "[LightGBM] [Info] [binary:BoostFromScore]: pavg=0.242157 -> initscore=-1.140891\n",
      "[LightGBM] [Info] Start training from score -1.140891\n",
      "Training until validation scores don't improve for 100 rounds\n"
     ]
    },
    {
     "name": "stderr",
     "output_type": "stream",
     "text": [
      "/Users/yutahirai/opt/anaconda3/envs/matlab/lib/python3.8/site-packages/lightgbm/engine.py:181: UserWarning: 'early_stopping_rounds' argument is deprecated and will be removed in a future release of LightGBM. Pass 'early_stopping()' callback via 'callbacks' argument instead.\n",
      "  _log_warning(\"'early_stopping_rounds' argument is deprecated and will be removed in a future release of LightGBM. \"\n",
      "/Users/yutahirai/opt/anaconda3/envs/matlab/lib/python3.8/site-packages/lightgbm/engine.py:239: UserWarning: 'verbose_eval' argument is deprecated and will be removed in a future release of LightGBM. Pass 'log_evaluation()' callback via 'callbacks' argument instead.\n",
      "  _log_warning(\"'verbose_eval' argument is deprecated and will be removed in a future release of LightGBM. \"\n"
     ]
    },
    {
     "name": "stdout",
     "output_type": "stream",
     "text": [
      "[100]\ttraining's binary_logloss: 0.470588\tvalid_1's binary_logloss: 0.477751\n",
      "[200]\ttraining's binary_logloss: 0.413195\tvalid_1's binary_logloss: 0.426533\n",
      "[300]\ttraining's binary_logloss: 0.369573\tvalid_1's binary_logloss: 0.38851\n",
      "[400]\ttraining's binary_logloss: 0.336112\tvalid_1's binary_logloss: 0.360917\n",
      "[500]\ttraining's binary_logloss: 0.309502\tvalid_1's binary_logloss: 0.340022\n",
      "[600]\ttraining's binary_logloss: 0.287964\tvalid_1's binary_logloss: 0.323866\n",
      "[700]\ttraining's binary_logloss: 0.270215\tvalid_1's binary_logloss: 0.31169\n",
      "[800]\ttraining's binary_logloss: 0.255198\tvalid_1's binary_logloss: 0.302322\n",
      "[900]\ttraining's binary_logloss: 0.242198\tvalid_1's binary_logloss: 0.295254\n",
      "[1000]\ttraining's binary_logloss: 0.230964\tvalid_1's binary_logloss: 0.289606\n",
      "Did not meet early stopping. Best iteration is:\n",
      "[1000]\ttraining's binary_logloss: 0.230964\tvalid_1's binary_logloss: 0.289606\n"
     ]
    },
    {
     "name": "stderr",
     "output_type": "stream",
     "text": [
      "\u001b[32m[I 2022-02-15 18:20:30,761]\u001b[0m Trial 87 finished with value: 0.28960637738336753 and parameters: {'max_bin': 279, 'learning_rate': 0.001741319996188273, 'num_leaves': 122}. Best is trial 59 with value: 0.26276540312458296.\u001b[0m\n",
      "/Users/yutahirai/opt/anaconda3/envs/matlab/lib/python3.8/site-packages/lightgbm/engine.py:181: UserWarning: 'early_stopping_rounds' argument is deprecated and will be removed in a future release of LightGBM. Pass 'early_stopping()' callback via 'callbacks' argument instead.\n",
      "  _log_warning(\"'early_stopping_rounds' argument is deprecated and will be removed in a future release of LightGBM. \"\n",
      "/Users/yutahirai/opt/anaconda3/envs/matlab/lib/python3.8/site-packages/lightgbm/engine.py:239: UserWarning: 'verbose_eval' argument is deprecated and will be removed in a future release of LightGBM. Pass 'log_evaluation()' callback via 'callbacks' argument instead.\n",
      "  _log_warning(\"'verbose_eval' argument is deprecated and will be removed in a future release of LightGBM. \"\n"
     ]
    },
    {
     "name": "stdout",
     "output_type": "stream",
     "text": [
      "[LightGBM] [Info] Number of positive: 1729, number of negative: 5411\n",
      "[LightGBM] [Warning] Auto-choosing col-wise multi-threading, the overhead of testing was 0.001069 seconds.\n",
      "You can set `force_col_wise=true` to remove the overhead.\n",
      "[LightGBM] [Info] Total Bins 463\n",
      "[LightGBM] [Info] Number of data points in the train set: 7140, number of used features: 11\n",
      "[LightGBM] [Info] [binary:BoostFromScore]: pavg=0.242157 -> initscore=-1.140891\n",
      "[LightGBM] [Info] Start training from score -1.140891\n",
      "Training until validation scores don't improve for 100 rounds\n",
      "[100]\ttraining's binary_logloss: 0.136348\tvalid_1's binary_logloss: 0.272601\n"
     ]
    },
    {
     "name": "stderr",
     "output_type": "stream",
     "text": [
      "\u001b[32m[I 2022-02-15 18:20:31,426]\u001b[0m Trial 88 finished with value: 0.26683877165285186 and parameters: {'max_bin': 419, 'learning_rate': 0.07853677591111147, 'num_leaves': 59}. Best is trial 59 with value: 0.26276540312458296.\u001b[0m\n"
     ]
    },
    {
     "name": "stdout",
     "output_type": "stream",
     "text": [
      "Early stopping, best iteration is:\n",
      "[52]\ttraining's binary_logloss: 0.182147\tvalid_1's binary_logloss: 0.266839\n",
      "[LightGBM] [Info] Number of positive: 1729, number of negative: 5411\n",
      "[LightGBM] [Warning] Auto-choosing row-wise multi-threading, the overhead of testing was 0.001042 seconds.\n",
      "You can set `force_row_wise=true` to remove the overhead.\n",
      "And if memory is not enough, you can set `force_col_wise=true`.\n",
      "[LightGBM] [Info] Total Bins 462\n",
      "[LightGBM] [Info] Number of data points in the train set: 7140, number of used features: 11\n",
      "[LightGBM] [Info] [binary:BoostFromScore]: pavg=0.242157 -> initscore=-1.140891\n",
      "[LightGBM] [Info] Start training from score -1.140891\n",
      "Training until validation scores don't improve for 100 rounds\n"
     ]
    },
    {
     "name": "stderr",
     "output_type": "stream",
     "text": [
      "/Users/yutahirai/opt/anaconda3/envs/matlab/lib/python3.8/site-packages/lightgbm/engine.py:181: UserWarning: 'early_stopping_rounds' argument is deprecated and will be removed in a future release of LightGBM. Pass 'early_stopping()' callback via 'callbacks' argument instead.\n",
      "  _log_warning(\"'early_stopping_rounds' argument is deprecated and will be removed in a future release of LightGBM. \"\n",
      "/Users/yutahirai/opt/anaconda3/envs/matlab/lib/python3.8/site-packages/lightgbm/engine.py:239: UserWarning: 'verbose_eval' argument is deprecated and will be removed in a future release of LightGBM. Pass 'log_evaluation()' callback via 'callbacks' argument instead.\n",
      "  _log_warning(\"'verbose_eval' argument is deprecated and will be removed in a future release of LightGBM. \"\n"
     ]
    },
    {
     "name": "stdout",
     "output_type": "stream",
     "text": [
      "[100]\ttraining's binary_logloss: 0.34905\tvalid_1's binary_logloss: 0.367271\n",
      "[200]\ttraining's binary_logloss: 0.27185\tvalid_1's binary_logloss: 0.306255\n",
      "[300]\ttraining's binary_logloss: 0.232058\tvalid_1's binary_logloss: 0.282805\n",
      "[400]\ttraining's binary_logloss: 0.207609\tvalid_1's binary_logloss: 0.27343\n",
      "[500]\ttraining's binary_logloss: 0.188741\tvalid_1's binary_logloss: 0.270737\n",
      "[600]\ttraining's binary_logloss: 0.172338\tvalid_1's binary_logloss: 0.269549\n"
     ]
    },
    {
     "name": "stderr",
     "output_type": "stream",
     "text": [
      "\u001b[32m[I 2022-02-15 18:20:34,099]\u001b[0m Trial 89 finished with value: 0.26927751557205504 and parameters: {'max_bin': 399, 'learning_rate': 0.0064891310854860145, 'num_leaves': 79}. Best is trial 59 with value: 0.26276540312458296.\u001b[0m\n"
     ]
    },
    {
     "name": "stdout",
     "output_type": "stream",
     "text": [
      "[700]\ttraining's binary_logloss: 0.158711\tvalid_1's binary_logloss: 0.269555\n",
      "Early stopping, best iteration is:\n",
      "[641]\ttraining's binary_logloss: 0.166532\tvalid_1's binary_logloss: 0.269278\n",
      "[LightGBM] [Info] Number of positive: 1729, number of negative: 5411\n",
      "[LightGBM] [Warning] Auto-choosing row-wise multi-threading, the overhead of testing was 0.000455 seconds.\n",
      "You can set `force_row_wise=true` to remove the overhead.\n",
      "And if memory is not enough, you can set `force_col_wise=true`.\n",
      "[LightGBM] [Info] Total Bins 477\n",
      "[LightGBM] [Info] Number of data points in the train set: 7140, number of used features: 11\n"
     ]
    },
    {
     "name": "stderr",
     "output_type": "stream",
     "text": [
      "/Users/yutahirai/opt/anaconda3/envs/matlab/lib/python3.8/site-packages/lightgbm/engine.py:181: UserWarning: 'early_stopping_rounds' argument is deprecated and will be removed in a future release of LightGBM. Pass 'early_stopping()' callback via 'callbacks' argument instead.\n",
      "  _log_warning(\"'early_stopping_rounds' argument is deprecated and will be removed in a future release of LightGBM. \"\n",
      "/Users/yutahirai/opt/anaconda3/envs/matlab/lib/python3.8/site-packages/lightgbm/engine.py:239: UserWarning: 'verbose_eval' argument is deprecated and will be removed in a future release of LightGBM. Pass 'log_evaluation()' callback via 'callbacks' argument instead.\n",
      "  _log_warning(\"'verbose_eval' argument is deprecated and will be removed in a future release of LightGBM. \"\n"
     ]
    },
    {
     "name": "stdout",
     "output_type": "stream",
     "text": [
      "[LightGBM] [Info] [binary:BoostFromScore]: pavg=0.242157 -> initscore=-1.140891\n",
      "[LightGBM] [Info] Start training from score -1.140891\n",
      "Training until validation scores don't improve for 100 rounds\n"
     ]
    },
    {
     "name": "stderr",
     "output_type": "stream",
     "text": [
      "\u001b[32m[I 2022-02-15 18:20:34,440]\u001b[0m Trial 90 finished with value: 0.26603093883007034 and parameters: {'max_bin': 495, 'learning_rate': 0.08766287400712743, 'num_leaves': 64}. Best is trial 59 with value: 0.26276540312458296.\u001b[0m\n"
     ]
    },
    {
     "name": "stdout",
     "output_type": "stream",
     "text": [
      "[100]\ttraining's binary_logloss: 0.122717\tvalid_1's binary_logloss: 0.27664\n",
      "Early stopping, best iteration is:\n",
      "[47]\ttraining's binary_logloss: 0.178411\tvalid_1's binary_logloss: 0.266031\n",
      "[LightGBM] [Info] Number of positive: 1729, number of negative: 5411\n",
      "[LightGBM] [Warning] Auto-choosing row-wise multi-threading, the overhead of testing was 0.001228 seconds.\n",
      "You can set `force_row_wise=true` to remove the overhead.\n",
      "And if memory is not enough, you can set `force_col_wise=true`.\n",
      "[LightGBM] [Info] Total Bins 477\n",
      "[LightGBM] [Info] Number of data points in the train set: 7140, number of used features: 11\n",
      "[LightGBM] [Info] [binary:BoostFromScore]: pavg=0.242157 -> initscore=-1.140891\n",
      "[LightGBM] [Info] Start training from score -1.140891\n",
      "Training until validation scores don't improve for 100 rounds\n"
     ]
    },
    {
     "name": "stderr",
     "output_type": "stream",
     "text": [
      "/Users/yutahirai/opt/anaconda3/envs/matlab/lib/python3.8/site-packages/lightgbm/engine.py:181: UserWarning: 'early_stopping_rounds' argument is deprecated and will be removed in a future release of LightGBM. Pass 'early_stopping()' callback via 'callbacks' argument instead.\n",
      "  _log_warning(\"'early_stopping_rounds' argument is deprecated and will be removed in a future release of LightGBM. \"\n",
      "/Users/yutahirai/opt/anaconda3/envs/matlab/lib/python3.8/site-packages/lightgbm/engine.py:239: UserWarning: 'verbose_eval' argument is deprecated and will be removed in a future release of LightGBM. Pass 'log_evaluation()' callback via 'callbacks' argument instead.\n",
      "  _log_warning(\"'verbose_eval' argument is deprecated and will be removed in a future release of LightGBM. \"\n"
     ]
    },
    {
     "name": "stdout",
     "output_type": "stream",
     "text": [
      "[100]\ttraining's binary_logloss: 0.200978\tvalid_1's binary_logloss: 0.279113\n",
      "[200]\ttraining's binary_logloss: 0.129412\tvalid_1's binary_logloss: 0.276405\n"
     ]
    },
    {
     "name": "stderr",
     "output_type": "stream",
     "text": [
      "\u001b[32m[I 2022-02-15 18:20:35,761]\u001b[0m Trial 91 finished with value: 0.27353177049203586 and parameters: {'max_bin': 491, 'learning_rate': 0.02324699248447333, 'num_leaves': 124}. Best is trial 59 with value: 0.26276540312458296.\u001b[0m\n"
     ]
    },
    {
     "name": "stdout",
     "output_type": "stream",
     "text": [
      "Early stopping, best iteration is:\n",
      "[154]\ttraining's binary_logloss: 0.157117\tvalid_1's binary_logloss: 0.273532\n",
      "[LightGBM] [Info] Number of positive: 1729, number of negative: 5411\n",
      "[LightGBM] [Warning] Auto-choosing row-wise multi-threading, the overhead of testing was 0.001057 seconds.\n",
      "You can set `force_row_wise=true` to remove the overhead.\n",
      "And if memory is not enough, you can set `force_col_wise=true`.\n",
      "[LightGBM] [Info] Total Bins 477\n",
      "[LightGBM] [Info] Number of data points in the train set: 7140, number of used features: 11\n",
      "[LightGBM] [Info] [binary:BoostFromScore]: pavg=0.242157 -> initscore=-1.140891\n",
      "[LightGBM] [Info] Start training from score -1.140891\n",
      "Training until validation scores don't improve for 100 rounds\n"
     ]
    },
    {
     "name": "stderr",
     "output_type": "stream",
     "text": [
      "/Users/yutahirai/opt/anaconda3/envs/matlab/lib/python3.8/site-packages/lightgbm/engine.py:181: UserWarning: 'early_stopping_rounds' argument is deprecated and will be removed in a future release of LightGBM. Pass 'early_stopping()' callback via 'callbacks' argument instead.\n",
      "  _log_warning(\"'early_stopping_rounds' argument is deprecated and will be removed in a future release of LightGBM. \"\n",
      "/Users/yutahirai/opt/anaconda3/envs/matlab/lib/python3.8/site-packages/lightgbm/engine.py:239: UserWarning: 'verbose_eval' argument is deprecated and will be removed in a future release of LightGBM. Pass 'log_evaluation()' callback via 'callbacks' argument instead.\n",
      "  _log_warning(\"'verbose_eval' argument is deprecated and will be removed in a future release of LightGBM. \"\n"
     ]
    },
    {
     "name": "stdout",
     "output_type": "stream",
     "text": [
      "[100]\ttraining's binary_logloss: 0.100872\tvalid_1's binary_logloss: 0.288422\n"
     ]
    },
    {
     "name": "stderr",
     "output_type": "stream",
     "text": [
      "\u001b[32m[I 2022-02-15 18:20:36,655]\u001b[0m Trial 92 finished with value: 0.27270438878289044 and parameters: {'max_bin': 486, 'learning_rate': 0.07994033847650393, 'num_leaves': 93}. Best is trial 59 with value: 0.26276540312458296.\u001b[0m\n"
     ]
    },
    {
     "name": "stdout",
     "output_type": "stream",
     "text": [
      "Early stopping, best iteration is:\n",
      "[49]\ttraining's binary_logloss: 0.162166\tvalid_1's binary_logloss: 0.272704\n",
      "[LightGBM] [Info] Number of positive: 1729, number of negative: 5411\n",
      "[LightGBM] [Warning] Auto-choosing row-wise multi-threading, the overhead of testing was 0.000605 seconds.\n",
      "You can set `force_row_wise=true` to remove the overhead.\n",
      "And if memory is not enough, you can set `force_col_wise=true`.\n",
      "[LightGBM] [Info] Total Bins 477\n",
      "[LightGBM] [Info] Number of data points in the train set: 7140, number of used features: 11\n",
      "[LightGBM] [Info] [binary:BoostFromScore]: pavg=0.242157 -> initscore=-1.140891\n",
      "[LightGBM] [Info] Start training from score -1.140891\n",
      "Training until validation scores don't improve for 100 rounds\n"
     ]
    },
    {
     "name": "stderr",
     "output_type": "stream",
     "text": [
      "/Users/yutahirai/opt/anaconda3/envs/matlab/lib/python3.8/site-packages/lightgbm/engine.py:181: UserWarning: 'early_stopping_rounds' argument is deprecated and will be removed in a future release of LightGBM. Pass 'early_stopping()' callback via 'callbacks' argument instead.\n",
      "  _log_warning(\"'early_stopping_rounds' argument is deprecated and will be removed in a future release of LightGBM. \"\n",
      "/Users/yutahirai/opt/anaconda3/envs/matlab/lib/python3.8/site-packages/lightgbm/engine.py:239: UserWarning: 'verbose_eval' argument is deprecated and will be removed in a future release of LightGBM. Pass 'log_evaluation()' callback via 'callbacks' argument instead.\n",
      "  _log_warning(\"'verbose_eval' argument is deprecated and will be removed in a future release of LightGBM. \"\n"
     ]
    },
    {
     "name": "stdout",
     "output_type": "stream",
     "text": [
      "[100]\ttraining's binary_logloss: 0.181724\tvalid_1's binary_logloss: 0.275414\n",
      "[200]\ttraining's binary_logloss: 0.113042\tvalid_1's binary_logloss: 0.281906\n",
      "Early stopping, best iteration is:\n",
      "[124]\ttraining's binary_logloss: 0.159381\tvalid_1's binary_logloss: 0.273604\n"
     ]
    },
    {
     "name": "stderr",
     "output_type": "stream",
     "text": [
      "\u001b[32m[I 2022-02-15 18:20:37,861]\u001b[0m Trial 93 finished with value: 0.2736035010265144 and parameters: {'max_bin': 470, 'learning_rate': 0.029372726422328892, 'num_leaves': 114}. Best is trial 59 with value: 0.26276540312458296.\u001b[0m\n",
      "/Users/yutahirai/opt/anaconda3/envs/matlab/lib/python3.8/site-packages/lightgbm/engine.py:181: UserWarning: 'early_stopping_rounds' argument is deprecated and will be removed in a future release of LightGBM. Pass 'early_stopping()' callback via 'callbacks' argument instead.\n",
      "  _log_warning(\"'early_stopping_rounds' argument is deprecated and will be removed in a future release of LightGBM. \"\n",
      "/Users/yutahirai/opt/anaconda3/envs/matlab/lib/python3.8/site-packages/lightgbm/engine.py:239: UserWarning: 'verbose_eval' argument is deprecated and will be removed in a future release of LightGBM. Pass 'log_evaluation()' callback via 'callbacks' argument instead.\n",
      "  _log_warning(\"'verbose_eval' argument is deprecated and will be removed in a future release of LightGBM. \"\n"
     ]
    },
    {
     "name": "stdout",
     "output_type": "stream",
     "text": [
      "[LightGBM] [Info] Number of positive: 1729, number of negative: 5411\n",
      "[LightGBM] [Warning] Auto-choosing row-wise multi-threading, the overhead of testing was 0.000766 seconds.\n",
      "You can set `force_row_wise=true` to remove the overhead.\n",
      "And if memory is not enough, you can set `force_col_wise=true`.\n",
      "[LightGBM] [Info] Total Bins 462\n",
      "[LightGBM] [Info] Number of data points in the train set: 7140, number of used features: 11\n",
      "[LightGBM] [Info] [binary:BoostFromScore]: pavg=0.242157 -> initscore=-1.140891\n",
      "[LightGBM] [Info] Start training from score -1.140891\n",
      "Training until validation scores don't improve for 100 rounds\n",
      "[100]\ttraining's binary_logloss: 0.485435\tvalid_1's binary_logloss: 0.489779\n",
      "[200]\ttraining's binary_logloss: 0.435846\tvalid_1's binary_logloss: 0.444091\n",
      "[300]\ttraining's binary_logloss: 0.397196\tvalid_1's binary_logloss: 0.408665\n",
      "[400]\ttraining's binary_logloss: 0.366372\tvalid_1's binary_logloss: 0.380686\n",
      "[500]\ttraining's binary_logloss: 0.341581\tvalid_1's binary_logloss: 0.358896\n",
      "[600]\ttraining's binary_logloss: 0.321131\tvalid_1's binary_logloss: 0.341813\n",
      "[700]\ttraining's binary_logloss: 0.304223\tvalid_1's binary_logloss: 0.328139\n",
      "[800]\ttraining's binary_logloss: 0.289947\tvalid_1's binary_logloss: 0.316983\n",
      "[900]\ttraining's binary_logloss: 0.277762\tvalid_1's binary_logloss: 0.307745\n"
     ]
    },
    {
     "name": "stderr",
     "output_type": "stream",
     "text": [
      "\u001b[32m[I 2022-02-15 18:20:42,045]\u001b[0m Trial 94 finished with value: 0.30047524815724536 and parameters: {'max_bin': 406, 'learning_rate': 0.0014223620901140592, 'num_leaves': 65}. Best is trial 59 with value: 0.26276540312458296.\u001b[0m\n"
     ]
    },
    {
     "name": "stdout",
     "output_type": "stream",
     "text": [
      "[1000]\ttraining's binary_logloss: 0.267269\tvalid_1's binary_logloss: 0.300475\n",
      "Did not meet early stopping. Best iteration is:\n",
      "[1000]\ttraining's binary_logloss: 0.267269\tvalid_1's binary_logloss: 0.300475\n",
      "[LightGBM] [Info] Number of positive: 1729, number of negative: 5411\n",
      "[LightGBM] [Warning] Auto-choosing row-wise multi-threading, the overhead of testing was 0.000700 seconds.\n",
      "You can set `force_row_wise=true` to remove the overhead.\n",
      "And if memory is not enough, you can set `force_col_wise=true`.\n",
      "[LightGBM] [Info] Total Bins 404\n",
      "[LightGBM] [Info] Number of data points in the train set: 7140, number of used features: 11\n",
      "[LightGBM] [Info] [binary:BoostFromScore]: pavg=0.242157 -> initscore=-1.140891\n",
      "[LightGBM] [Info] Start training from score -1.140891\n",
      "Training until validation scores don't improve for 100 rounds\n"
     ]
    },
    {
     "name": "stderr",
     "output_type": "stream",
     "text": [
      "/Users/yutahirai/opt/anaconda3/envs/matlab/lib/python3.8/site-packages/lightgbm/engine.py:181: UserWarning: 'early_stopping_rounds' argument is deprecated and will be removed in a future release of LightGBM. Pass 'early_stopping()' callback via 'callbacks' argument instead.\n",
      "  _log_warning(\"'early_stopping_rounds' argument is deprecated and will be removed in a future release of LightGBM. \"\n",
      "/Users/yutahirai/opt/anaconda3/envs/matlab/lib/python3.8/site-packages/lightgbm/engine.py:239: UserWarning: 'verbose_eval' argument is deprecated and will be removed in a future release of LightGBM. Pass 'log_evaluation()' callback via 'callbacks' argument instead.\n",
      "  _log_warning(\"'verbose_eval' argument is deprecated and will be removed in a future release of LightGBM. \"\n",
      "\u001b[32m[I 2022-02-15 18:20:42,511]\u001b[0m Trial 95 finished with value: 0.2688182824306177 and parameters: {'max_bin': 291, 'learning_rate': 0.0981847560428435, 'num_leaves': 78}. Best is trial 59 with value: 0.26276540312458296.\u001b[0m\n"
     ]
    },
    {
     "name": "stdout",
     "output_type": "stream",
     "text": [
      "[100]\ttraining's binary_logloss: 0.0964754\tvalid_1's binary_logloss: 0.288998\n",
      "Early stopping, best iteration is:\n",
      "[36]\ttraining's binary_logloss: 0.180535\tvalid_1's binary_logloss: 0.268818\n",
      "[LightGBM] [Info] Number of positive: 1729, number of negative: 5411\n",
      "[LightGBM] [Warning] Auto-choosing row-wise multi-threading, the overhead of testing was 0.000931 seconds.\n",
      "You can set `force_row_wise=true` to remove the overhead.\n",
      "And if memory is not enough, you can set `force_col_wise=true`.\n",
      "[LightGBM] [Info] Total Bins 455\n",
      "[LightGBM] [Info] Number of data points in the train set: 7140, number of used features: 11\n",
      "[LightGBM] [Info] [binary:BoostFromScore]: pavg=0.242157 -> initscore=-1.140891\n",
      "[LightGBM] [Info] Start training from score -1.140891\n",
      "Training until validation scores don't improve for 100 rounds\n"
     ]
    },
    {
     "name": "stderr",
     "output_type": "stream",
     "text": [
      "/Users/yutahirai/opt/anaconda3/envs/matlab/lib/python3.8/site-packages/lightgbm/engine.py:181: UserWarning: 'early_stopping_rounds' argument is deprecated and will be removed in a future release of LightGBM. Pass 'early_stopping()' callback via 'callbacks' argument instead.\n",
      "  _log_warning(\"'early_stopping_rounds' argument is deprecated and will be removed in a future release of LightGBM. \"\n",
      "/Users/yutahirai/opt/anaconda3/envs/matlab/lib/python3.8/site-packages/lightgbm/engine.py:239: UserWarning: 'verbose_eval' argument is deprecated and will be removed in a future release of LightGBM. Pass 'log_evaluation()' callback via 'callbacks' argument instead.\n",
      "  _log_warning(\"'verbose_eval' argument is deprecated and will be removed in a future release of LightGBM. \"\n"
     ]
    },
    {
     "name": "stdout",
     "output_type": "stream",
     "text": [
      "[100]\ttraining's binary_logloss: 0.143457\tvalid_1's binary_logloss: 0.272253\n"
     ]
    },
    {
     "name": "stderr",
     "output_type": "stream",
     "text": [
      "\u001b[32m[I 2022-02-15 18:20:43,173]\u001b[0m Trial 96 finished with value: 0.26728961537353263 and parameters: {'max_bin': 377, 'learning_rate': 0.06398330438823249, 'num_leaves': 67}. Best is trial 59 with value: 0.26276540312458296.\u001b[0m\n"
     ]
    },
    {
     "name": "stdout",
     "output_type": "stream",
     "text": [
      "Early stopping, best iteration is:\n",
      "[61]\ttraining's binary_logloss: 0.180076\tvalid_1's binary_logloss: 0.26729\n",
      "[LightGBM] [Info] Number of positive: 1729, number of negative: 5411\n",
      "[LightGBM] [Warning] Auto-choosing row-wise multi-threading, the overhead of testing was 0.000509 seconds.\n",
      "You can set `force_row_wise=true` to remove the overhead.\n",
      "And if memory is not enough, you can set `force_col_wise=true`.\n",
      "[LightGBM] [Info] Total Bins 401\n",
      "[LightGBM] [Info] Number of data points in the train set: 7140, number of used features: 11\n",
      "[LightGBM] [Info] [binary:BoostFromScore]: pavg=0.242157 -> initscore=-1.140891\n",
      "[LightGBM] [Info] Start training from score -1.140891\n",
      "Training until validation scores don't improve for 100 rounds\n"
     ]
    },
    {
     "name": "stderr",
     "output_type": "stream",
     "text": [
      "/Users/yutahirai/opt/anaconda3/envs/matlab/lib/python3.8/site-packages/lightgbm/engine.py:181: UserWarning: 'early_stopping_rounds' argument is deprecated and will be removed in a future release of LightGBM. Pass 'early_stopping()' callback via 'callbacks' argument instead.\n",
      "  _log_warning(\"'early_stopping_rounds' argument is deprecated and will be removed in a future release of LightGBM. \"\n",
      "/Users/yutahirai/opt/anaconda3/envs/matlab/lib/python3.8/site-packages/lightgbm/engine.py:239: UserWarning: 'verbose_eval' argument is deprecated and will be removed in a future release of LightGBM. Pass 'log_evaluation()' callback via 'callbacks' argument instead.\n",
      "  _log_warning(\"'verbose_eval' argument is deprecated and will be removed in a future release of LightGBM. \"\n",
      "\u001b[32m[I 2022-02-15 18:20:43,685]\u001b[0m Trial 97 finished with value: 0.26544411474770807 and parameters: {'max_bin': 288, 'learning_rate': 0.08222956154610514, 'num_leaves': 50}. Best is trial 59 with value: 0.26276540312458296.\u001b[0m\n"
     ]
    },
    {
     "name": "stdout",
     "output_type": "stream",
     "text": [
      "[100]\ttraining's binary_logloss: 0.145175\tvalid_1's binary_logloss: 0.271621\n",
      "Early stopping, best iteration is:\n",
      "[51]\ttraining's binary_logloss: 0.189491\tvalid_1's binary_logloss: 0.265444\n",
      "[LightGBM] [Info] Number of positive: 1729, number of negative: 5411\n",
      "[LightGBM] [Warning] Auto-choosing row-wise multi-threading, the overhead of testing was 0.000807 seconds.\n",
      "You can set `force_row_wise=true` to remove the overhead.\n",
      "And if memory is not enough, you can set `force_col_wise=true`.\n",
      "[LightGBM] [Info] Total Bins 456\n",
      "[LightGBM] [Info] Number of data points in the train set: 7140, number of used features: 11\n",
      "[LightGBM] [Info] [binary:BoostFromScore]: pavg=0.242157 -> initscore=-1.140891\n",
      "[LightGBM] [Info] Start training from score -1.140891\n",
      "Training until validation scores don't improve for 100 rounds\n"
     ]
    },
    {
     "name": "stderr",
     "output_type": "stream",
     "text": [
      "/Users/yutahirai/opt/anaconda3/envs/matlab/lib/python3.8/site-packages/lightgbm/engine.py:181: UserWarning: 'early_stopping_rounds' argument is deprecated and will be removed in a future release of LightGBM. Pass 'early_stopping()' callback via 'callbacks' argument instead.\n",
      "  _log_warning(\"'early_stopping_rounds' argument is deprecated and will be removed in a future release of LightGBM. \"\n",
      "/Users/yutahirai/opt/anaconda3/envs/matlab/lib/python3.8/site-packages/lightgbm/engine.py:239: UserWarning: 'verbose_eval' argument is deprecated and will be removed in a future release of LightGBM. Pass 'log_evaluation()' callback via 'callbacks' argument instead.\n",
      "  _log_warning(\"'verbose_eval' argument is deprecated and will be removed in a future release of LightGBM. \"\n"
     ]
    },
    {
     "name": "stdout",
     "output_type": "stream",
     "text": [
      "[100]\ttraining's binary_logloss: 0.240819\tvalid_1's binary_logloss: 0.276141\n",
      "[200]\ttraining's binary_logloss: 0.195283\tvalid_1's binary_logloss: 0.262909\n"
     ]
    },
    {
     "name": "stderr",
     "output_type": "stream",
     "text": [
      "\u001b[32m[I 2022-02-15 18:20:44,471]\u001b[0m Trial 98 finished with value: 0.2627999932977615 and parameters: {'max_bin': 380, 'learning_rate': 0.022509271194576453, 'num_leaves': 41}. Best is trial 59 with value: 0.26276540312458296.\u001b[0m\n"
     ]
    },
    {
     "name": "stdout",
     "output_type": "stream",
     "text": [
      "[300]\ttraining's binary_logloss: 0.171205\tvalid_1's binary_logloss: 0.264739\n",
      "Early stopping, best iteration is:\n",
      "[210]\ttraining's binary_logloss: 0.192586\tvalid_1's binary_logloss: 0.2628\n",
      "[LightGBM] [Info] Number of positive: 1729, number of negative: 5411\n",
      "[LightGBM] [Warning] Auto-choosing row-wise multi-threading, the overhead of testing was 0.000691 seconds.\n",
      "You can set `force_row_wise=true` to remove the overhead.\n",
      "And if memory is not enough, you can set `force_col_wise=true`.\n",
      "[LightGBM] [Info] Total Bins 475\n",
      "[LightGBM] [Info] Number of data points in the train set: 7140, number of used features: 11\n",
      "[LightGBM] [Info] [binary:BoostFromScore]: pavg=0.242157 -> initscore=-1.140891\n",
      "[LightGBM] [Info] Start training from score -1.140891\n",
      "Training until validation scores don't improve for 100 rounds\n"
     ]
    },
    {
     "name": "stderr",
     "output_type": "stream",
     "text": [
      "/Users/yutahirai/opt/anaconda3/envs/matlab/lib/python3.8/site-packages/lightgbm/engine.py:181: UserWarning: 'early_stopping_rounds' argument is deprecated and will be removed in a future release of LightGBM. Pass 'early_stopping()' callback via 'callbacks' argument instead.\n",
      "  _log_warning(\"'early_stopping_rounds' argument is deprecated and will be removed in a future release of LightGBM. \"\n",
      "/Users/yutahirai/opt/anaconda3/envs/matlab/lib/python3.8/site-packages/lightgbm/engine.py:239: UserWarning: 'verbose_eval' argument is deprecated and will be removed in a future release of LightGBM. Pass 'log_evaluation()' callback via 'callbacks' argument instead.\n",
      "  _log_warning(\"'verbose_eval' argument is deprecated and will be removed in a future release of LightGBM. \"\n"
     ]
    },
    {
     "name": "stdout",
     "output_type": "stream",
     "text": [
      "[100]\ttraining's binary_logloss: 0.0606105\tvalid_1's binary_logloss: 0.30851\n"
     ]
    },
    {
     "name": "stderr",
     "output_type": "stream",
     "text": [
      "\u001b[32m[I 2022-02-15 18:20:45,151]\u001b[0m Trial 99 finished with value: 0.2731399628255711 and parameters: {'max_bin': 467, 'learning_rate': 0.09729465695341072, 'num_leaves': 125}. Best is trial 59 with value: 0.26276540312458296.\u001b[0m\n"
     ]
    },
    {
     "name": "stdout",
     "output_type": "stream",
     "text": [
      "Early stopping, best iteration is:\n",
      "[34]\ttraining's binary_logloss: 0.16344\tvalid_1's binary_logloss: 0.27314\n"
     ]
    }
   ],
   "source": [
    "study = optuna.create_study(sampler=optuna.samplers.RandomSampler(seed=0))\n",
    "study.optimize(objective, n_trials=100)"
   ]
  },
  {
   "cell_type": "code",
   "execution_count": 8,
   "metadata": {},
   "outputs": [
    {
     "data": {
      "text/plain": [
       "{'max_bin': 483, 'learning_rate': 0.07047099875216092, 'num_leaves': 35}"
      ]
     },
     "execution_count": 8,
     "metadata": {},
     "output_type": "execute_result"
    }
   ],
   "source": [
    "study.best_params"
   ]
  },
  {
   "cell_type": "code",
   "execution_count": 9,
   "metadata": {},
   "outputs": [
    {
     "name": "stdout",
     "output_type": "stream",
     "text": [
      "[LightGBM] [Info] Number of positive: 1729, number of negative: 5411\n",
      "[LightGBM] [Warning] Auto-choosing row-wise multi-threading, the overhead of testing was 0.000739 seconds.\n",
      "You can set `force_row_wise=true` to remove the overhead.\n",
      "And if memory is not enough, you can set `force_col_wise=true`.\n",
      "[LightGBM] [Info] Total Bins 477\n",
      "[LightGBM] [Info] Number of data points in the train set: 7140, number of used features: 11\n",
      "[LightGBM] [Info] [binary:BoostFromScore]: pavg=0.242157 -> initscore=-1.140891\n",
      "[LightGBM] [Info] Start training from score -1.140891\n",
      "Training until validation scores don't improve for 100 rounds\n",
      "[100]\ttraining's binary_logloss: 0.176279\tvalid_1's binary_logloss: 0.264478\n"
     ]
    },
    {
     "name": "stderr",
     "output_type": "stream",
     "text": [
      "/Users/yutahirai/opt/anaconda3/envs/matlab/lib/python3.8/site-packages/lightgbm/engine.py:181: UserWarning: 'early_stopping_rounds' argument is deprecated and will be removed in a future release of LightGBM. Pass 'early_stopping()' callback via 'callbacks' argument instead.\n",
      "  _log_warning(\"'early_stopping_rounds' argument is deprecated and will be removed in a future release of LightGBM. \"\n",
      "/Users/yutahirai/opt/anaconda3/envs/matlab/lib/python3.8/site-packages/lightgbm/engine.py:239: UserWarning: 'verbose_eval' argument is deprecated and will be removed in a future release of LightGBM. Pass 'log_evaluation()' callback via 'callbacks' argument instead.\n",
      "  _log_warning(\"'verbose_eval' argument is deprecated and will be removed in a future release of LightGBM. \"\n"
     ]
    },
    {
     "name": "stdout",
     "output_type": "stream",
     "text": [
      "Early stopping, best iteration is:\n",
      "[66]\ttraining's binary_logloss: 0.200354\tvalid_1's binary_logloss: 0.262765\n"
     ]
    }
   ],
   "source": [
    "params = {\n",
    "    'objective': 'binary',\n",
    "    'max_bin': study.best_params['max_bin'],\n",
    "    'learning_rate': study.best_params['learning_rate'],\n",
    "    'num_leaves': study.best_params['num_leaves']\n",
    "}\n",
    "\n",
    "lgb_train = lgb.Dataset(X_train, y_train)\n",
    "lgb_eval = lgb.Dataset(X_valid, y_valid, reference=lgb_train)\n",
    "\n",
    "model = lgb.train(params, lgb_train,\n",
    "                  valid_sets=[lgb_train, lgb_eval],\n",
    "                  verbose_eval=100,\n",
    "                  num_boost_round=1000,\n",
    "                  early_stopping_rounds=100)\n",
    "\n",
    "y_pred = model.predict(X_valid, num_iteration=model.best_iteration)"
   ]
  },
  {
   "cell_type": "code",
   "execution_count": 10,
   "metadata": {},
   "outputs": [
    {
     "data": {
      "text/plain": [
       "array([0.00349955, 0.00349955, 0.0043761 , 0.92724079, 0.00637431,\n",
       "       0.01407158, 0.15864595, 0.00526755, 0.68239061, 0.12028883])"
      ]
     },
     "execution_count": 10,
     "metadata": {},
     "output_type": "execute_result"
    }
   ],
   "source": [
    "y_pred[:10]"
   ]
  },
  {
   "cell_type": "code",
   "execution_count": 11,
   "metadata": {},
   "outputs": [
    {
     "data": {
      "text/plain": [
       "0.8790849673202614"
      ]
     },
     "execution_count": 11,
     "metadata": {},
     "output_type": "execute_result"
    }
   ],
   "source": [
    "from sklearn.metrics import accuracy_score\n",
    "y_pred = (y_pred > 0.5).astype(int)\n",
    "accuracy_score(y_valid, y_pred)"
   ]
  },
  {
   "cell_type": "code",
   "execution_count": 12,
   "metadata": {},
   "outputs": [],
   "source": [
    "y_pred = model.predict(X_test, num_iteration=model.best_iteration)\n",
    "y_pred = (y_pred > 0.5).astype(int)"
   ]
  },
  {
   "cell_type": "code",
   "execution_count": 13,
   "metadata": {},
   "outputs": [],
   "source": [
    "sample_submit['Y'] = y_pred\n",
    "sample_submit\n",
    "sample_submit.to_csv('submit.csv', header=False, index=False)"
   ]
  },
  {
   "cell_type": "code",
   "execution_count": null,
   "metadata": {},
   "outputs": [],
   "source": []
  }
 ],
 "metadata": {
  "interpreter": {
   "hash": "b3f91d3689ed9f35fe62b472acb20385518ac1a4462c3f395fef40efd7e4015f"
  },
  "kernelspec": {
   "display_name": "Python 3.8.12 64-bit ('matlab': conda)",
   "language": "python",
   "name": "python3"
  },
  "language_info": {
   "codemirror_mode": {
    "name": "ipython",
    "version": 3
   },
   "file_extension": ".py",
   "mimetype": "text/x-python",
   "name": "python",
   "nbconvert_exporter": "python",
   "pygments_lexer": "ipython3",
   "version": "3.8.12"
  },
  "orig_nbformat": 4
 },
 "nbformat": 4,
 "nbformat_minor": 2
}
